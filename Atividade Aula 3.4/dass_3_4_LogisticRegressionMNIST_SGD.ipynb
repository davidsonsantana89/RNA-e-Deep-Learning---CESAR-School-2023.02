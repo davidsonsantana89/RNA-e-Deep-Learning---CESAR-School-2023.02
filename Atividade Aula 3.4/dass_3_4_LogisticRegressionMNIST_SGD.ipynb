{
  "cells": [
    {
      "cell_type": "markdown",
      "metadata": {
        "id": "view-in-github",
        "colab_type": "text"
      },
      "source": [
        "<a href=\"https://colab.research.google.com/github/davidsonsantana89/RNA-e-Deep-Learning---CESAR-School-2023.02/blob/main/Atividade%20Aula%203.4/dass_3_4_LogisticRegressionMNIST_SGD.ipynb\" target=\"_parent\"><img src=\"https://colab.research.google.com/assets/colab-badge.svg\" alt=\"Open In Colab\"/></a>"
      ]
    },
    {
      "cell_type": "markdown",
      "source": [
        "DAVIDSON ALVES SANTOS DE SANTANA\n",
        "\n",
        "dass@cesar.school"
      ],
      "metadata": {
        "id": "skYtiDh_E7sW"
      }
    },
    {
      "cell_type": "markdown",
      "metadata": {
        "id": "gbTOc6cbl-eq"
      },
      "source": [
        "# Regressão Softmax com dados do MNIST utilizando gradiente descendente estocástico por minibatches"
      ]
    },
    {
      "cell_type": "markdown",
      "metadata": {
        "id": "C-IK0yRml-er"
      },
      "source": [
        "O objetivo deste notebook é ilustrar\n",
        "- o uso do gradiente estocástico por mini-batchs\n",
        "- utilizando as classes Dataset e DataLoater.\n",
        "\n",
        "A apresentação da perda nos gráficos é um pouco diferente da usual, mostrando a perda de cada um dos vários minibatches dentro de cada época, de forma que as épocas são apresentadas com valores fracionários."
      ]
    },
    {
      "cell_type": "markdown",
      "metadata": {
        "id": "mqqDXfr4l-et"
      },
      "source": [
        "## Importação das bibliotecas"
      ]
    },
    {
      "cell_type": "code",
      "execution_count": 1,
      "metadata": {
        "ExecuteTime": {
          "end_time": "2017-11-24T22:39:50.314578Z",
          "start_time": "2017-11-24T22:39:48.904460Z"
        },
        "id": "0Iry5pajl-eu"
      },
      "outputs": [],
      "source": [
        "%matplotlib inline\n",
        "import numpy as np\n",
        "import matplotlib.pyplot as plt\n",
        "\n",
        "import torch\n",
        "from torch.autograd import Variable\n",
        "from torch.utils.data import DataLoader\n",
        "\n",
        "import torchvision\n",
        "from torchvision.datasets import MNIST"
      ]
    },
    {
      "cell_type": "markdown",
      "metadata": {
        "id": "QqgILyIkl-ey"
      },
      "source": [
        "## Dataset e dataloader"
      ]
    },
    {
      "cell_type": "markdown",
      "metadata": {
        "id": "VAMBUN5ol-ez"
      },
      "source": [
        "### Definição do tamanho do minibatch"
      ]
    },
    {
      "cell_type": "code",
      "execution_count": 4,
      "metadata": {
        "ExecuteTime": {
          "end_time": "2017-11-24T22:39:50.323379Z",
          "start_time": "2017-11-24T22:39:50.318024Z"
        },
        "id": "1YGmeZtbl-ez"
      },
      "outputs": [],
      "source": [
        "batch_size = 1000"
      ]
    },
    {
      "cell_type": "markdown",
      "metadata": {
        "id": "3uaaezsvl-e5"
      },
      "source": [
        "### Carregamento, criação dataset e do dataloader"
      ]
    },
    {
      "cell_type": "code",
      "execution_count": 5,
      "metadata": {
        "ExecuteTime": {
          "end_time": "2017-11-24T22:39:50.400325Z",
          "start_time": "2017-11-24T22:39:50.326019Z"
        },
        "colab": {
          "base_uri": "https://localhost:8080/"
        },
        "id": "TRXgajEXl-e6",
        "outputId": "96500650-a718-45b5-8a2f-0ff3f410d4e0"
      },
      "outputs": [
        {
          "output_type": "stream",
          "name": "stdout",
          "text": [
            "Número de minibatches de treinamento: 60\n",
            "\n",
            "Dimensões dos dados de um minibatch: torch.Size([1000, 1, 28, 28])\n",
            "Valores mínimo e máximo dos pixels:  tensor(0.) tensor(1.)\n",
            "Tipo dos dados das imagens:          <class 'torch.Tensor'>\n",
            "Tipo das classes das imagens:        <class 'torch.Tensor'>\n"
          ]
        }
      ],
      "source": [
        "dataset_dir = 'MNIST/'\n",
        "\n",
        "dataset_train = MNIST(dataset_dir, train=True, download=True,\n",
        "                      transform=torchvision.transforms.ToTensor())\n",
        "\n",
        "loader_train = DataLoader(dataset_train, batch_size=batch_size, shuffle=True)\n",
        "\n",
        "print('Número de minibatches de treinamento:', len(loader_train))\n",
        "\n",
        "x_train, y_train = next(iter(loader_train))\n",
        "print(\"\\nDimensões dos dados de um minibatch:\", x_train.size())\n",
        "print(\"Valores mínimo e máximo dos pixels: \", torch.min(x_train), torch.max(x_train))\n",
        "print(\"Tipo dos dados das imagens:         \", type(x_train))\n",
        "print(\"Tipo das classes das imagens:       \", type(y_train))"
      ]
    },
    {
      "cell_type": "markdown",
      "metadata": {
        "id": "Jalws0jHl-fB"
      },
      "source": [
        "### Usando todas as amostras do MNIST\n",
        "\n",
        "Neste exemplo utilizaremos todas as amostras de treinamento."
      ]
    },
    {
      "cell_type": "code",
      "execution_count": 6,
      "metadata": {
        "ExecuteTime": {
          "end_time": "2017-11-24T22:39:50.414117Z",
          "start_time": "2017-11-24T22:39:50.402687Z"
        },
        "colab": {
          "base_uri": "https://localhost:8080/"
        },
        "id": "TnFMMGDKl-fC",
        "outputId": "18d1661d-4479-4027-bef6-3c589a181c78"
      },
      "outputs": [
        {
          "output_type": "stream",
          "name": "stdout",
          "text": [
            "Número de minibatches de treinamento: 60\n"
          ]
        },
        {
          "output_type": "stream",
          "name": "stderr",
          "text": [
            "/usr/local/lib/python3.10/dist-packages/torchvision/datasets/mnist.py:76: UserWarning: train_data has been renamed data\n",
            "  warnings.warn(\"train_data has been renamed data\")\n"
          ]
        }
      ],
      "source": [
        "print('Número de minibatches de treinamento:', len(loader_train))\n",
        "n_batches_train = len(loader_train)\n",
        "total_samples = dataset_train.train_data.size(0)"
      ]
    },
    {
      "cell_type": "markdown",
      "metadata": {
        "id": "dz6ke_hfl-fF"
      },
      "source": [
        "## Modelo"
      ]
    },
    {
      "cell_type": "code",
      "execution_count": 7,
      "metadata": {
        "ExecuteTime": {
          "end_time": "2017-11-24T22:39:50.422994Z",
          "start_time": "2017-11-24T22:39:50.416568Z"
        },
        "id": "8iCWX43fl-fG"
      },
      "outputs": [],
      "source": [
        "model = torch.nn.Linear(28*28, 10)"
      ]
    },
    {
      "cell_type": "code",
      "execution_count": 12,
      "metadata": {
        "colab": {
          "base_uri": "https://localhost:8080/"
        },
        "id": "GrIFjo18dZ_L",
        "outputId": "6a2161ad-89c0-4bb0-9dde-6ea8c02e581c"
      },
      "outputs": [
        {
          "output_type": "stream",
          "name": "stdout",
          "text": [
            "torch.Size([1, 784])\n"
          ]
        },
        {
          "output_type": "execute_result",
          "data": {
            "text/plain": [
              "tensor([[ 0.0292,  0.1027, -0.0759,  0.4818, -1.0676,  0.5547,  0.5269, -0.2095,\n",
              "          0.1518,  1.1750]], grad_fn=<AddmmBackward0>)"
            ]
          },
          "metadata": {},
          "execution_count": 12
        }
      ],
      "source": [
        "x = torch.ones(28*28).reshape(1, 784)\n",
        "print(x.shape)\n",
        "predict = model(x)\n",
        "predict"
      ]
    },
    {
      "cell_type": "code",
      "source": [
        "x, y = dataset_train[0]\n",
        "x"
      ],
      "metadata": {
        "colab": {
          "base_uri": "https://localhost:8080/"
        },
        "id": "zB7kemdNIVYL",
        "outputId": "ce3f2cd7-c774-42fc-c1c5-a51a589c9a0a"
      },
      "execution_count": 15,
      "outputs": [
        {
          "output_type": "execute_result",
          "data": {
            "text/plain": [
              "tensor([[[0.0000, 0.0000, 0.0000, 0.0000, 0.0000, 0.0000, 0.0000, 0.0000,\n",
              "          0.0000, 0.0000, 0.0000, 0.0000, 0.0000, 0.0000, 0.0000, 0.0000,\n",
              "          0.0000, 0.0000, 0.0000, 0.0000, 0.0000, 0.0000, 0.0000, 0.0000,\n",
              "          0.0000, 0.0000, 0.0000, 0.0000],\n",
              "         [0.0000, 0.0000, 0.0000, 0.0000, 0.0000, 0.0000, 0.0000, 0.0000,\n",
              "          0.0000, 0.0000, 0.0000, 0.0000, 0.0000, 0.0000, 0.0000, 0.0000,\n",
              "          0.0000, 0.0000, 0.0000, 0.0000, 0.0000, 0.0000, 0.0000, 0.0000,\n",
              "          0.0000, 0.0000, 0.0000, 0.0000],\n",
              "         [0.0000, 0.0000, 0.0000, 0.0000, 0.0000, 0.0000, 0.0000, 0.0000,\n",
              "          0.0000, 0.0000, 0.0000, 0.0000, 0.0000, 0.0000, 0.0000, 0.0000,\n",
              "          0.0000, 0.0000, 0.0000, 0.0000, 0.0000, 0.0000, 0.0000, 0.0000,\n",
              "          0.0000, 0.0000, 0.0000, 0.0000],\n",
              "         [0.0000, 0.0000, 0.0000, 0.0000, 0.0000, 0.0000, 0.0000, 0.0000,\n",
              "          0.0000, 0.0000, 0.0000, 0.0000, 0.0000, 0.0000, 0.0000, 0.0000,\n",
              "          0.0000, 0.0000, 0.0000, 0.0000, 0.0000, 0.0000, 0.0000, 0.0000,\n",
              "          0.0000, 0.0000, 0.0000, 0.0000],\n",
              "         [0.0000, 0.0000, 0.0000, 0.0000, 0.0000, 0.0000, 0.0000, 0.0000,\n",
              "          0.0000, 0.0000, 0.0000, 0.0000, 0.0000, 0.0000, 0.0000, 0.0000,\n",
              "          0.0000, 0.0000, 0.0000, 0.0000, 0.0000, 0.0000, 0.0000, 0.0000,\n",
              "          0.0000, 0.0000, 0.0000, 0.0000],\n",
              "         [0.0000, 0.0000, 0.0000, 0.0000, 0.0000, 0.0000, 0.0000, 0.0000,\n",
              "          0.0000, 0.0000, 0.0000, 0.0000, 0.0118, 0.0706, 0.0706, 0.0706,\n",
              "          0.4941, 0.5333, 0.6863, 0.1020, 0.6510, 1.0000, 0.9686, 0.4980,\n",
              "          0.0000, 0.0000, 0.0000, 0.0000],\n",
              "         [0.0000, 0.0000, 0.0000, 0.0000, 0.0000, 0.0000, 0.0000, 0.0000,\n",
              "          0.1176, 0.1412, 0.3686, 0.6039, 0.6667, 0.9922, 0.9922, 0.9922,\n",
              "          0.9922, 0.9922, 0.8824, 0.6745, 0.9922, 0.9490, 0.7647, 0.2510,\n",
              "          0.0000, 0.0000, 0.0000, 0.0000],\n",
              "         [0.0000, 0.0000, 0.0000, 0.0000, 0.0000, 0.0000, 0.0000, 0.1922,\n",
              "          0.9333, 0.9922, 0.9922, 0.9922, 0.9922, 0.9922, 0.9922, 0.9922,\n",
              "          0.9922, 0.9843, 0.3647, 0.3216, 0.3216, 0.2196, 0.1529, 0.0000,\n",
              "          0.0000, 0.0000, 0.0000, 0.0000],\n",
              "         [0.0000, 0.0000, 0.0000, 0.0000, 0.0000, 0.0000, 0.0000, 0.0706,\n",
              "          0.8588, 0.9922, 0.9922, 0.9922, 0.9922, 0.9922, 0.7765, 0.7137,\n",
              "          0.9686, 0.9451, 0.0000, 0.0000, 0.0000, 0.0000, 0.0000, 0.0000,\n",
              "          0.0000, 0.0000, 0.0000, 0.0000],\n",
              "         [0.0000, 0.0000, 0.0000, 0.0000, 0.0000, 0.0000, 0.0000, 0.0000,\n",
              "          0.3137, 0.6118, 0.4196, 0.9922, 0.9922, 0.8039, 0.0431, 0.0000,\n",
              "          0.1686, 0.6039, 0.0000, 0.0000, 0.0000, 0.0000, 0.0000, 0.0000,\n",
              "          0.0000, 0.0000, 0.0000, 0.0000],\n",
              "         [0.0000, 0.0000, 0.0000, 0.0000, 0.0000, 0.0000, 0.0000, 0.0000,\n",
              "          0.0000, 0.0549, 0.0039, 0.6039, 0.9922, 0.3529, 0.0000, 0.0000,\n",
              "          0.0000, 0.0000, 0.0000, 0.0000, 0.0000, 0.0000, 0.0000, 0.0000,\n",
              "          0.0000, 0.0000, 0.0000, 0.0000],\n",
              "         [0.0000, 0.0000, 0.0000, 0.0000, 0.0000, 0.0000, 0.0000, 0.0000,\n",
              "          0.0000, 0.0000, 0.0000, 0.5451, 0.9922, 0.7451, 0.0078, 0.0000,\n",
              "          0.0000, 0.0000, 0.0000, 0.0000, 0.0000, 0.0000, 0.0000, 0.0000,\n",
              "          0.0000, 0.0000, 0.0000, 0.0000],\n",
              "         [0.0000, 0.0000, 0.0000, 0.0000, 0.0000, 0.0000, 0.0000, 0.0000,\n",
              "          0.0000, 0.0000, 0.0000, 0.0431, 0.7451, 0.9922, 0.2745, 0.0000,\n",
              "          0.0000, 0.0000, 0.0000, 0.0000, 0.0000, 0.0000, 0.0000, 0.0000,\n",
              "          0.0000, 0.0000, 0.0000, 0.0000],\n",
              "         [0.0000, 0.0000, 0.0000, 0.0000, 0.0000, 0.0000, 0.0000, 0.0000,\n",
              "          0.0000, 0.0000, 0.0000, 0.0000, 0.1373, 0.9451, 0.8824, 0.6275,\n",
              "          0.4235, 0.0039, 0.0000, 0.0000, 0.0000, 0.0000, 0.0000, 0.0000,\n",
              "          0.0000, 0.0000, 0.0000, 0.0000],\n",
              "         [0.0000, 0.0000, 0.0000, 0.0000, 0.0000, 0.0000, 0.0000, 0.0000,\n",
              "          0.0000, 0.0000, 0.0000, 0.0000, 0.0000, 0.3176, 0.9412, 0.9922,\n",
              "          0.9922, 0.4667, 0.0980, 0.0000, 0.0000, 0.0000, 0.0000, 0.0000,\n",
              "          0.0000, 0.0000, 0.0000, 0.0000],\n",
              "         [0.0000, 0.0000, 0.0000, 0.0000, 0.0000, 0.0000, 0.0000, 0.0000,\n",
              "          0.0000, 0.0000, 0.0000, 0.0000, 0.0000, 0.0000, 0.1765, 0.7294,\n",
              "          0.9922, 0.9922, 0.5882, 0.1059, 0.0000, 0.0000, 0.0000, 0.0000,\n",
              "          0.0000, 0.0000, 0.0000, 0.0000],\n",
              "         [0.0000, 0.0000, 0.0000, 0.0000, 0.0000, 0.0000, 0.0000, 0.0000,\n",
              "          0.0000, 0.0000, 0.0000, 0.0000, 0.0000, 0.0000, 0.0000, 0.0627,\n",
              "          0.3647, 0.9882, 0.9922, 0.7333, 0.0000, 0.0000, 0.0000, 0.0000,\n",
              "          0.0000, 0.0000, 0.0000, 0.0000],\n",
              "         [0.0000, 0.0000, 0.0000, 0.0000, 0.0000, 0.0000, 0.0000, 0.0000,\n",
              "          0.0000, 0.0000, 0.0000, 0.0000, 0.0000, 0.0000, 0.0000, 0.0000,\n",
              "          0.0000, 0.9765, 0.9922, 0.9765, 0.2510, 0.0000, 0.0000, 0.0000,\n",
              "          0.0000, 0.0000, 0.0000, 0.0000],\n",
              "         [0.0000, 0.0000, 0.0000, 0.0000, 0.0000, 0.0000, 0.0000, 0.0000,\n",
              "          0.0000, 0.0000, 0.0000, 0.0000, 0.0000, 0.0000, 0.1804, 0.5098,\n",
              "          0.7176, 0.9922, 0.9922, 0.8118, 0.0078, 0.0000, 0.0000, 0.0000,\n",
              "          0.0000, 0.0000, 0.0000, 0.0000],\n",
              "         [0.0000, 0.0000, 0.0000, 0.0000, 0.0000, 0.0000, 0.0000, 0.0000,\n",
              "          0.0000, 0.0000, 0.0000, 0.0000, 0.1529, 0.5804, 0.8980, 0.9922,\n",
              "          0.9922, 0.9922, 0.9804, 0.7137, 0.0000, 0.0000, 0.0000, 0.0000,\n",
              "          0.0000, 0.0000, 0.0000, 0.0000],\n",
              "         [0.0000, 0.0000, 0.0000, 0.0000, 0.0000, 0.0000, 0.0000, 0.0000,\n",
              "          0.0000, 0.0000, 0.0941, 0.4471, 0.8667, 0.9922, 0.9922, 0.9922,\n",
              "          0.9922, 0.7882, 0.3059, 0.0000, 0.0000, 0.0000, 0.0000, 0.0000,\n",
              "          0.0000, 0.0000, 0.0000, 0.0000],\n",
              "         [0.0000, 0.0000, 0.0000, 0.0000, 0.0000, 0.0000, 0.0000, 0.0000,\n",
              "          0.0902, 0.2588, 0.8353, 0.9922, 0.9922, 0.9922, 0.9922, 0.7765,\n",
              "          0.3176, 0.0078, 0.0000, 0.0000, 0.0000, 0.0000, 0.0000, 0.0000,\n",
              "          0.0000, 0.0000, 0.0000, 0.0000],\n",
              "         [0.0000, 0.0000, 0.0000, 0.0000, 0.0000, 0.0000, 0.0706, 0.6706,\n",
              "          0.8588, 0.9922, 0.9922, 0.9922, 0.9922, 0.7647, 0.3137, 0.0353,\n",
              "          0.0000, 0.0000, 0.0000, 0.0000, 0.0000, 0.0000, 0.0000, 0.0000,\n",
              "          0.0000, 0.0000, 0.0000, 0.0000],\n",
              "         [0.0000, 0.0000, 0.0000, 0.0000, 0.2157, 0.6745, 0.8863, 0.9922,\n",
              "          0.9922, 0.9922, 0.9922, 0.9569, 0.5216, 0.0431, 0.0000, 0.0000,\n",
              "          0.0000, 0.0000, 0.0000, 0.0000, 0.0000, 0.0000, 0.0000, 0.0000,\n",
              "          0.0000, 0.0000, 0.0000, 0.0000],\n",
              "         [0.0000, 0.0000, 0.0000, 0.0000, 0.5333, 0.9922, 0.9922, 0.9922,\n",
              "          0.8314, 0.5294, 0.5176, 0.0627, 0.0000, 0.0000, 0.0000, 0.0000,\n",
              "          0.0000, 0.0000, 0.0000, 0.0000, 0.0000, 0.0000, 0.0000, 0.0000,\n",
              "          0.0000, 0.0000, 0.0000, 0.0000],\n",
              "         [0.0000, 0.0000, 0.0000, 0.0000, 0.0000, 0.0000, 0.0000, 0.0000,\n",
              "          0.0000, 0.0000, 0.0000, 0.0000, 0.0000, 0.0000, 0.0000, 0.0000,\n",
              "          0.0000, 0.0000, 0.0000, 0.0000, 0.0000, 0.0000, 0.0000, 0.0000,\n",
              "          0.0000, 0.0000, 0.0000, 0.0000],\n",
              "         [0.0000, 0.0000, 0.0000, 0.0000, 0.0000, 0.0000, 0.0000, 0.0000,\n",
              "          0.0000, 0.0000, 0.0000, 0.0000, 0.0000, 0.0000, 0.0000, 0.0000,\n",
              "          0.0000, 0.0000, 0.0000, 0.0000, 0.0000, 0.0000, 0.0000, 0.0000,\n",
              "          0.0000, 0.0000, 0.0000, 0.0000],\n",
              "         [0.0000, 0.0000, 0.0000, 0.0000, 0.0000, 0.0000, 0.0000, 0.0000,\n",
              "          0.0000, 0.0000, 0.0000, 0.0000, 0.0000, 0.0000, 0.0000, 0.0000,\n",
              "          0.0000, 0.0000, 0.0000, 0.0000, 0.0000, 0.0000, 0.0000, 0.0000,\n",
              "          0.0000, 0.0000, 0.0000, 0.0000]]])"
            ]
          },
          "metadata": {},
          "execution_count": 15
        }
      ]
    },
    {
      "cell_type": "markdown",
      "metadata": {
        "id": "kVDFEZBql-fJ"
      },
      "source": [
        "## Treinamento"
      ]
    },
    {
      "cell_type": "markdown",
      "metadata": {
        "id": "OUAeuSK6l-fJ"
      },
      "source": [
        "### Inicialização dos parâmetros"
      ]
    },
    {
      "cell_type": "code",
      "execution_count": 16,
      "metadata": {
        "ExecuteTime": {
          "end_time": "2017-11-24T22:39:50.433321Z",
          "start_time": "2017-11-24T22:39:50.426167Z"
        },
        "id": "XT5_fSiQl-fK"
      },
      "outputs": [],
      "source": [
        "n_epochs = 5\n",
        "learningRate = 0.5\n",
        "\n",
        "# Utilizaremos CrossEntropyLoss como função de perda\n",
        "criterion = torch.nn.CrossEntropyLoss()\n",
        "\n",
        "# Gradiente descendente\n",
        "optimizer = torch.optim.SGD(model.parameters(), lr=learningRate)"
      ]
    },
    {
      "cell_type": "markdown",
      "metadata": {
        "id": "-OM9OWI6l-fN"
      },
      "source": [
        "### Laço de treinamento dos parâmetros"
      ]
    },
    {
      "cell_type": "code",
      "execution_count": 17,
      "metadata": {
        "ExecuteTime": {
          "end_time": "2017-11-24T22:39:50.984972Z",
          "start_time": "2017-11-24T22:39:50.435673Z"
        },
        "id": "JvNVUUFTl-fQ"
      },
      "outputs": [],
      "source": [
        "epochs = []\n",
        "losses = []\n",
        "\n",
        "total_trained_samples = 0\n",
        "for i in range(n_epochs):\n",
        "    for k,(x_train, y_train) in enumerate(loader_train):\n",
        "        # Transforma a entrada para uma dimensão\n",
        "        inputs = Variable(x_train.view(-1, 28 * 28))\n",
        "        # predict da rede\n",
        "        outputs = model(inputs)\n",
        "\n",
        "        # calcula a perda\n",
        "        loss = criterion(outputs, Variable(y_train))\n",
        "\n",
        "        # zero, backpropagation, ajusta parâmetros pelo gradiente descendente\n",
        "        optimizer.zero_grad()\n",
        "        loss.backward()\n",
        "        optimizer.step()\n",
        "\n",
        "        total_trained_samples += x_train.size(0)\n",
        "        epochs.append(total_trained_samples / total_samples)\n",
        "        losses.append(loss.data)"
      ]
    },
    {
      "cell_type": "code",
      "execution_count": 18,
      "metadata": {
        "ExecuteTime": {
          "end_time": "2017-11-24T22:39:50.992302Z",
          "start_time": "2017-11-24T22:39:50.987284Z"
        },
        "colab": {
          "base_uri": "https://localhost:8080/"
        },
        "id": "aYO4bgVwl-fT",
        "outputId": "a00c868a-bdaf-49b4-c45d-6fd4bd5a9649"
      },
      "outputs": [
        {
          "output_type": "stream",
          "name": "stdout",
          "text": [
            "Final loss: tensor(0.2964)\n"
          ]
        }
      ],
      "source": [
        "print('Final loss:', loss.data)"
      ]
    },
    {
      "cell_type": "markdown",
      "metadata": {
        "id": "XEhPdkjAl-fX"
      },
      "source": [
        "### Visualizando gráfico de perda durante o treinamento"
      ]
    },
    {
      "cell_type": "code",
      "execution_count": 19,
      "metadata": {
        "ExecuteTime": {
          "end_time": "2017-11-24T22:39:51.244869Z",
          "start_time": "2017-11-24T22:39:50.995188Z"
        },
        "colab": {
          "base_uri": "https://localhost:8080/",
          "height": 467
        },
        "id": "_fSYP_KXl-fY",
        "outputId": "450ffe68-cc0f-4839-eb22-70b4ea1791a1"
      },
      "outputs": [
        {
          "output_type": "execute_result",
          "data": {
            "text/plain": [
              "Text(0.5, 0, 'época')"
            ]
          },
          "metadata": {},
          "execution_count": 19
        },
        {
          "output_type": "display_data",
          "data": {
            "text/plain": [
              "<Figure size 640x480 with 1 Axes>"
            ],
            "image/png": "[encoded data removed]"
          },
          "metadata": {}
        }
      ],
      "source": [
        "plt.plot(epochs, losses)\n",
        "plt.xlabel('época')"
      ]
    },
    {
      "cell_type": "markdown",
      "metadata": {
        "id": "eNyGHxAtl-fc"
      },
      "source": [
        "### Visualização usual da perda, somente no final de cada minibatch"
      ]
    },
    {
      "cell_type": "code",
      "execution_count": 20,
      "metadata": {
        "ExecuteTime": {
          "end_time": "2017-11-24T22:39:51.498640Z",
          "start_time": "2017-11-24T22:39:51.246714Z"
        },
        "colab": {
          "base_uri": "https://localhost:8080/",
          "height": 467
        },
        "id": "e2J2aZZVl-fd",
        "outputId": "29f59c7f-a3b6-4014-a42e-9633c284fd7c"
      },
      "outputs": [
        {
          "output_type": "execute_result",
          "data": {
            "text/plain": [
              "Text(0.5, 0, 'época')"
            ]
          },
          "metadata": {},
          "execution_count": 20
        },
        {
          "output_type": "display_data",
          "data": {
            "text/plain": [
              "<Figure size 640x480 with 1 Axes>"
            ],
            "image/png": "[encoded data removed]"
          },
          "metadata": {}
        }
      ],
      "source": [
        "plt.plot(epochs[:5 * n_batches_train +1:n_batches_train], losses[:5 * n_batches_train+1:n_batches_train])\n",
        "plt.xlabel('época')"
      ]
    },
    {
      "cell_type": "markdown",
      "metadata": {
        "id": "eHLCXNLml-fg"
      },
      "source": [
        "# Atividades"
      ]
    },
    {
      "cell_type": "markdown",
      "metadata": {
        "id": "ZCs38MOml-fh"
      },
      "source": [
        "## Perguntas"
      ]
    },
    {
      "cell_type": "markdown",
      "metadata": {
        "id": "Ffg58gb7l-fi"
      },
      "source": [
        "1. Qual é o tamanho do mini-batch?\n",
        "\n",
        "    R.: O tamanho do mini-batch, nesse experimento, é igual a 1000."
      ]
    },
    {
      "cell_type": "markdown",
      "metadata": {
        "id": "vsPsjLU7DszR"
      },
      "source": [
        "2. Em uma época, quantos mini-batches existem?\n",
        "\n",
        "    R.: Em uma época existem 60 mini-batches, pois base orginal, com 60 mil amostras, foi \"quebrada\" em mini-batches de tamanho 1000."
      ]
    },
    {
      "cell_type": "markdown",
      "metadata": {
        "id": "yWPoSeKNDs-v"
      },
      "source": [
        "3. Qual é a definição de época?\n",
        "\n",
        "    R.: Uma época corresponde a uma repetição de um laço de treinamento."
      ]
    },
    {
      "cell_type": "markdown",
      "metadata": {
        "id": "DourBpfrl-fl"
      },
      "source": [
        "## Exercícios\n"
      ]
    },
    {
      "cell_type": "markdown",
      "metadata": {
        "id": "Vjh3AaNpl-fn"
      },
      "source": [
        "1. Coloque um print no final de cada minibatch, no mesmo estilo do print do final de época, no seguinte estilo:\n",
        "    - Época: 1/4, batch: 600\n"
      ]
    },
    {
      "cell_type": "code",
      "source": [
        "epochs = []\n",
        "losses = []\n",
        "\n",
        "total_trained_samples = 0\n",
        "for i in range(n_epochs):\n",
        "    for k,(x_train, y_train) in enumerate(loader_train):\n",
        "        # Transforma a entrada para uma dimensão\n",
        "        inputs = Variable(x_train.view(-1, 28 * 28))\n",
        "        # predict da rede\n",
        "        outputs = model(inputs)\n",
        "\n",
        "        # calcula a perda\n",
        "        loss = criterion(outputs, Variable(y_train))\n",
        "\n",
        "        # zero, backpropagation, ajusta parâmetros pelo gradiente descendente\n",
        "        optimizer.zero_grad()\n",
        "        loss.backward()\n",
        "        optimizer.step()\n",
        "\n",
        "        total_trained_samples += x_train.size(0)\n",
        "        epochs.append(total_trained_samples / total_samples)\n",
        "        losses.append(loss.data)\n",
        "\n",
        "        print(f'Época: {i + 1}/{n_epochs}, batch: {k + 1}/{len(loader_train)}')"
      ],
      "metadata": {
        "colab": {
          "base_uri": "https://localhost:8080/"
        },
        "id": "LUgwlXz0MTn1",
        "outputId": "b1ad3e22-18eb-4fd4-aa46-6dfb3739f37b"
      },
      "execution_count": 22,
      "outputs": [
        {
          "output_type": "stream",
          "name": "stdout",
          "text": [
            "Época: 1/5, batch: 1/60\n",
            "Época: 1/5, batch: 2/60\n",
            "Época: 1/5, batch: 3/60\n",
            "Época: 1/5, batch: 4/60\n",
            "Época: 1/5, batch: 5/60\n",
            "Época: 1/5, batch: 6/60\n",
            "Época: 1/5, batch: 7/60\n",
            "Época: 1/5, batch: 8/60\n",
            "Época: 1/5, batch: 9/60\n",
            "Época: 1/5, batch: 10/60\n",
            "Época: 1/5, batch: 11/60\n",
            "Época: 1/5, batch: 12/60\n",
            "Época: 1/5, batch: 13/60\n",
            "Época: 1/5, batch: 14/60\n",
            "Época: 1/5, batch: 15/60\n",
            "Época: 1/5, batch: 16/60\n",
            "Época: 1/5, batch: 17/60\n",
            "Época: 1/5, batch: 18/60\n",
            "Época: 1/5, batch: 19/60\n",
            "Época: 1/5, batch: 20/60\n",
            "Época: 1/5, batch: 21/60\n",
            "Época: 1/5, batch: 22/60\n",
            "Época: 1/5, batch: 23/60\n",
            "Época: 1/5, batch: 24/60\n",
            "Época: 1/5, batch: 25/60\n",
            "Época: 1/5, batch: 26/60\n",
            "Época: 1/5, batch: 27/60\n",
            "Época: 1/5, batch: 28/60\n",
            "Época: 1/5, batch: 29/60\n",
            "Época: 1/5, batch: 30/60\n",
            "Época: 1/5, batch: 31/60\n",
            "Época: 1/5, batch: 32/60\n",
            "Época: 1/5, batch: 33/60\n",
            "Época: 1/5, batch: 34/60\n",
            "Época: 1/5, batch: 35/60\n",
            "Época: 1/5, batch: 36/60\n",
            "Época: 1/5, batch: 37/60\n",
            "Época: 1/5, batch: 38/60\n",
            "Época: 1/5, batch: 39/60\n",
            "Época: 1/5, batch: 40/60\n",
            "Época: 1/5, batch: 41/60\n",
            "Época: 1/5, batch: 42/60\n",
            "Época: 1/5, batch: 43/60\n",
            "Época: 1/5, batch: 44/60\n",
            "Época: 1/5, batch: 45/60\n",
            "Época: 1/5, batch: 46/60\n",
            "Época: 1/5, batch: 47/60\n",
            "Época: 1/5, batch: 48/60\n",
            "Época: 1/5, batch: 49/60\n",
            "Época: 1/5, batch: 50/60\n",
            "Época: 1/5, batch: 51/60\n",
            "Época: 1/5, batch: 52/60\n",
            "Época: 1/5, batch: 53/60\n",
            "Época: 1/5, batch: 54/60\n",
            "Época: 1/5, batch: 55/60\n",
            "Época: 1/5, batch: 56/60\n",
            "Época: 1/5, batch: 57/60\n",
            "Época: 1/5, batch: 58/60\n",
            "Época: 1/5, batch: 59/60\n",
            "Época: 1/5, batch: 60/60\n",
            "Época: 2/5, batch: 1/60\n",
            "Época: 2/5, batch: 2/60\n",
            "Época: 2/5, batch: 3/60\n",
            "Época: 2/5, batch: 4/60\n",
            "Época: 2/5, batch: 5/60\n",
            "Época: 2/5, batch: 6/60\n",
            "Época: 2/5, batch: 7/60\n",
            "Época: 2/5, batch: 8/60\n",
            "Época: 2/5, batch: 9/60\n",
            "Época: 2/5, batch: 10/60\n",
            "Época: 2/5, batch: 11/60\n",
            "Época: 2/5, batch: 12/60\n",
            "Época: 2/5, batch: 13/60\n",
            "Época: 2/5, batch: 14/60\n",
            "Época: 2/5, batch: 15/60\n",
            "Época: 2/5, batch: 16/60\n",
            "Época: 2/5, batch: 17/60\n",
            "Época: 2/5, batch: 18/60\n",
            "Época: 2/5, batch: 19/60\n",
            "Época: 2/5, batch: 20/60\n",
            "Época: 2/5, batch: 21/60\n",
            "Época: 2/5, batch: 22/60\n",
            "Época: 2/5, batch: 23/60\n",
            "Época: 2/5, batch: 24/60\n",
            "Época: 2/5, batch: 25/60\n",
            "Época: 2/5, batch: 26/60\n",
            "Época: 2/5, batch: 27/60\n",
            "Época: 2/5, batch: 28/60\n",
            "Época: 2/5, batch: 29/60\n",
            "Época: 2/5, batch: 30/60\n",
            "Época: 2/5, batch: 31/60\n",
            "Época: 2/5, batch: 32/60\n",
            "Época: 2/5, batch: 33/60\n",
            "Época: 2/5, batch: 34/60\n",
            "Época: 2/5, batch: 35/60\n",
            "Época: 2/5, batch: 36/60\n",
            "Época: 2/5, batch: 37/60\n",
            "Época: 2/5, batch: 38/60\n",
            "Época: 2/5, batch: 39/60\n",
            "Época: 2/5, batch: 40/60\n",
            "Época: 2/5, batch: 41/60\n",
            "Época: 2/5, batch: 42/60\n",
            "Época: 2/5, batch: 43/60\n",
            "Época: 2/5, batch: 44/60\n",
            "Época: 2/5, batch: 45/60\n",
            "Época: 2/5, batch: 46/60\n",
            "Época: 2/5, batch: 47/60\n",
            "Época: 2/5, batch: 48/60\n",
            "Época: 2/5, batch: 49/60\n",
            "Época: 2/5, batch: 50/60\n",
            "Época: 2/5, batch: 51/60\n",
            "Época: 2/5, batch: 52/60\n",
            "Época: 2/5, batch: 53/60\n",
            "Época: 2/5, batch: 54/60\n",
            "Época: 2/5, batch: 55/60\n",
            "Época: 2/5, batch: 56/60\n",
            "Época: 2/5, batch: 57/60\n",
            "Época: 2/5, batch: 58/60\n",
            "Época: 2/5, batch: 59/60\n",
            "Época: 2/5, batch: 60/60\n",
            "Época: 3/5, batch: 1/60\n",
            "Época: 3/5, batch: 2/60\n",
            "Época: 3/5, batch: 3/60\n",
            "Época: 3/5, batch: 4/60\n",
            "Época: 3/5, batch: 5/60\n",
            "Época: 3/5, batch: 6/60\n",
            "Época: 3/5, batch: 7/60\n",
            "Época: 3/5, batch: 8/60\n",
            "Época: 3/5, batch: 9/60\n",
            "Época: 3/5, batch: 10/60\n",
            "Época: 3/5, batch: 11/60\n",
            "Época: 3/5, batch: 12/60\n",
            "Época: 3/5, batch: 13/60\n",
            "Época: 3/5, batch: 14/60\n",
            "Época: 3/5, batch: 15/60\n",
            "Época: 3/5, batch: 16/60\n",
            "Época: 3/5, batch: 17/60\n",
            "Época: 3/5, batch: 18/60\n",
            "Época: 3/5, batch: 19/60\n",
            "Época: 3/5, batch: 20/60\n",
            "Época: 3/5, batch: 21/60\n",
            "Época: 3/5, batch: 22/60\n",
            "Época: 3/5, batch: 23/60\n",
            "Época: 3/5, batch: 24/60\n",
            "Época: 3/5, batch: 25/60\n",
            "Época: 3/5, batch: 26/60\n",
            "Época: 3/5, batch: 27/60\n",
            "Época: 3/5, batch: 28/60\n",
            "Época: 3/5, batch: 29/60\n",
            "Época: 3/5, batch: 30/60\n",
            "Época: 3/5, batch: 31/60\n",
            "Época: 3/5, batch: 32/60\n",
            "Época: 3/5, batch: 33/60\n",
            "Época: 3/5, batch: 34/60\n",
            "Época: 3/5, batch: 35/60\n",
            "Época: 3/5, batch: 36/60\n",
            "Época: 3/5, batch: 37/60\n",
            "Época: 3/5, batch: 38/60\n",
            "Época: 3/5, batch: 39/60\n",
            "Época: 3/5, batch: 40/60\n",
            "Época: 3/5, batch: 41/60\n",
            "Época: 3/5, batch: 42/60\n",
            "Época: 3/5, batch: 43/60\n",
            "Época: 3/5, batch: 44/60\n",
            "Época: 3/5, batch: 45/60\n",
            "Época: 3/5, batch: 46/60\n",
            "Época: 3/5, batch: 47/60\n",
            "Época: 3/5, batch: 48/60\n",
            "Época: 3/5, batch: 49/60\n",
            "Época: 3/5, batch: 50/60\n",
            "Época: 3/5, batch: 51/60\n",
            "Época: 3/5, batch: 52/60\n",
            "Época: 3/5, batch: 53/60\n",
            "Época: 3/5, batch: 54/60\n",
            "Época: 3/5, batch: 55/60\n",
            "Época: 3/5, batch: 56/60\n",
            "Época: 3/5, batch: 57/60\n",
            "Época: 3/5, batch: 58/60\n",
            "Época: 3/5, batch: 59/60\n",
            "Época: 3/5, batch: 60/60\n",
            "Época: 4/5, batch: 1/60\n",
            "Época: 4/5, batch: 2/60\n",
            "Época: 4/5, batch: 3/60\n",
            "Época: 4/5, batch: 4/60\n",
            "Época: 4/5, batch: 5/60\n",
            "Época: 4/5, batch: 6/60\n",
            "Época: 4/5, batch: 7/60\n",
            "Época: 4/5, batch: 8/60\n",
            "Época: 4/5, batch: 9/60\n",
            "Época: 4/5, batch: 10/60\n",
            "Época: 4/5, batch: 11/60\n",
            "Época: 4/5, batch: 12/60\n",
            "Época: 4/5, batch: 13/60\n",
            "Época: 4/5, batch: 14/60\n",
            "Época: 4/5, batch: 15/60\n",
            "Época: 4/5, batch: 16/60\n",
            "Época: 4/5, batch: 17/60\n",
            "Época: 4/5, batch: 18/60\n",
            "Época: 4/5, batch: 19/60\n",
            "Época: 4/5, batch: 20/60\n",
            "Época: 4/5, batch: 21/60\n",
            "Época: 4/5, batch: 22/60\n",
            "Época: 4/5, batch: 23/60\n",
            "Época: 4/5, batch: 24/60\n",
            "Época: 4/5, batch: 25/60\n",
            "Época: 4/5, batch: 26/60\n",
            "Época: 4/5, batch: 27/60\n",
            "Época: 4/5, batch: 28/60\n",
            "Época: 4/5, batch: 29/60\n",
            "Época: 4/5, batch: 30/60\n",
            "Época: 4/5, batch: 31/60\n",
            "Época: 4/5, batch: 32/60\n",
            "Época: 4/5, batch: 33/60\n",
            "Época: 4/5, batch: 34/60\n",
            "Época: 4/5, batch: 35/60\n",
            "Época: 4/5, batch: 36/60\n",
            "Época: 4/5, batch: 37/60\n",
            "Época: 4/5, batch: 38/60\n",
            "Época: 4/5, batch: 39/60\n",
            "Época: 4/5, batch: 40/60\n",
            "Época: 4/5, batch: 41/60\n",
            "Época: 4/5, batch: 42/60\n",
            "Época: 4/5, batch: 43/60\n",
            "Época: 4/5, batch: 44/60\n",
            "Época: 4/5, batch: 45/60\n",
            "Época: 4/5, batch: 46/60\n",
            "Época: 4/5, batch: 47/60\n",
            "Época: 4/5, batch: 48/60\n",
            "Época: 4/5, batch: 49/60\n",
            "Época: 4/5, batch: 50/60\n",
            "Época: 4/5, batch: 51/60\n",
            "Época: 4/5, batch: 52/60\n",
            "Época: 4/5, batch: 53/60\n",
            "Época: 4/5, batch: 54/60\n",
            "Época: 4/5, batch: 55/60\n",
            "Época: 4/5, batch: 56/60\n",
            "Época: 4/5, batch: 57/60\n",
            "Época: 4/5, batch: 58/60\n",
            "Época: 4/5, batch: 59/60\n",
            "Época: 4/5, batch: 60/60\n",
            "Época: 5/5, batch: 1/60\n",
            "Época: 5/5, batch: 2/60\n",
            "Época: 5/5, batch: 3/60\n",
            "Época: 5/5, batch: 4/60\n",
            "Época: 5/5, batch: 5/60\n",
            "Época: 5/5, batch: 6/60\n",
            "Época: 5/5, batch: 7/60\n",
            "Época: 5/5, batch: 8/60\n",
            "Época: 5/5, batch: 9/60\n",
            "Época: 5/5, batch: 10/60\n",
            "Época: 5/5, batch: 11/60\n",
            "Época: 5/5, batch: 12/60\n",
            "Época: 5/5, batch: 13/60\n",
            "Época: 5/5, batch: 14/60\n",
            "Época: 5/5, batch: 15/60\n",
            "Época: 5/5, batch: 16/60\n",
            "Época: 5/5, batch: 17/60\n",
            "Época: 5/5, batch: 18/60\n",
            "Época: 5/5, batch: 19/60\n",
            "Época: 5/5, batch: 20/60\n",
            "Época: 5/5, batch: 21/60\n",
            "Época: 5/5, batch: 22/60\n",
            "Época: 5/5, batch: 23/60\n",
            "Época: 5/5, batch: 24/60\n",
            "Época: 5/5, batch: 25/60\n",
            "Época: 5/5, batch: 26/60\n",
            "Época: 5/5, batch: 27/60\n",
            "Época: 5/5, batch: 28/60\n",
            "Época: 5/5, batch: 29/60\n",
            "Época: 5/5, batch: 30/60\n",
            "Época: 5/5, batch: 31/60\n",
            "Época: 5/5, batch: 32/60\n",
            "Época: 5/5, batch: 33/60\n",
            "Época: 5/5, batch: 34/60\n",
            "Época: 5/5, batch: 35/60\n",
            "Época: 5/5, batch: 36/60\n",
            "Época: 5/5, batch: 37/60\n",
            "Época: 5/5, batch: 38/60\n",
            "Época: 5/5, batch: 39/60\n",
            "Época: 5/5, batch: 40/60\n",
            "Época: 5/5, batch: 41/60\n",
            "Época: 5/5, batch: 42/60\n",
            "Época: 5/5, batch: 43/60\n",
            "Época: 5/5, batch: 44/60\n",
            "Época: 5/5, batch: 45/60\n",
            "Época: 5/5, batch: 46/60\n",
            "Época: 5/5, batch: 47/60\n",
            "Época: 5/5, batch: 48/60\n",
            "Época: 5/5, batch: 49/60\n",
            "Época: 5/5, batch: 50/60\n",
            "Época: 5/5, batch: 51/60\n",
            "Época: 5/5, batch: 52/60\n",
            "Época: 5/5, batch: 53/60\n",
            "Época: 5/5, batch: 54/60\n",
            "Época: 5/5, batch: 55/60\n",
            "Época: 5/5, batch: 56/60\n",
            "Época: 5/5, batch: 57/60\n",
            "Época: 5/5, batch: 58/60\n",
            "Época: 5/5, batch: 59/60\n",
            "Época: 5/5, batch: 60/60\n"
          ]
        }
      ]
    },
    {
      "cell_type": "markdown",
      "source": [
        "2. Altere o tamanho de minibatch (batch_size) algumas vezes, refaça o treinamento, e compare no gráfico abaixo a queda da perda para cada tamanho de minibatch."
      ],
      "metadata": {
        "id": "XymvNAP0MXKD"
      }
    },
    {
      "cell_type": "code",
      "source": [
        "batch_size = 5000"
      ],
      "metadata": {
        "id": "p6tPQ4w_M3bN"
      },
      "execution_count": 81,
      "outputs": []
    },
    {
      "cell_type": "code",
      "source": [
        "dataset_dir = 'MNIST/'\n",
        "\n",
        "dataset_train = MNIST(dataset_dir, train=True, download=True,\n",
        "                      transform=torchvision.transforms.ToTensor())\n",
        "\n",
        "loader_train = DataLoader(dataset_train, batch_size=batch_size, shuffle=True)\n",
        "\n",
        "print('Número de minibatches de treinamento:', len(loader_train))\n",
        "\n",
        "x_train, y_train = next(iter(loader_train))\n",
        "print(\"\\nDimensões dos dados de um minibatch:\", x_train.size())\n",
        "print(\"Valores mínimo e máximo dos pixels: \", torch.min(x_train), torch.max(x_train))\n",
        "print(\"Tipo dos dados das imagens:         \", type(x_train))\n",
        "print(\"Tipo das classes das imagens:       \", type(y_train))"
      ],
      "metadata": {
        "colab": {
          "base_uri": "https://localhost:8080/"
        },
        "id": "ew_0ib6iM3Qg",
        "outputId": "12b1cc45-dbb7-4442-9e0d-0601f42b7cf7"
      },
      "execution_count": 82,
      "outputs": [
        {
          "output_type": "stream",
          "name": "stdout",
          "text": [
            "Número de minibatches de treinamento: 12\n",
            "\n",
            "Dimensões dos dados de um minibatch: torch.Size([5000, 1, 28, 28])\n",
            "Valores mínimo e máximo dos pixels:  tensor(0.) tensor(1.)\n",
            "Tipo dos dados das imagens:          <class 'torch.Tensor'>\n",
            "Tipo das classes das imagens:        <class 'torch.Tensor'>\n"
          ]
        }
      ]
    },
    {
      "cell_type": "code",
      "source": [
        "model = torch.nn.Linear(28*28, 10)"
      ],
      "metadata": {
        "id": "3NnKFP0ONM2c"
      },
      "execution_count": 83,
      "outputs": []
    },
    {
      "cell_type": "code",
      "source": [
        "x = torch.ones(28*28).reshape(1, 784)\n",
        "print(x.shape)\n",
        "predict = model(x)\n",
        "predict"
      ],
      "metadata": {
        "colab": {
          "base_uri": "https://localhost:8080/"
        },
        "id": "ATnzsjArAA0p",
        "outputId": "781af78a-3287-4bb2-afef-6882659123d5"
      },
      "execution_count": 84,
      "outputs": [
        {
          "output_type": "stream",
          "name": "stdout",
          "text": [
            "torch.Size([1, 784])\n"
          ]
        },
        {
          "output_type": "execute_result",
          "data": {
            "text/plain": [
              "tensor([[ 0.7720,  1.0315, -0.9538,  0.3657, -0.2041,  0.9138,  0.7210,  0.2676,\n",
              "          0.0914,  0.5793]], grad_fn=<AddmmBackward0>)"
            ]
          },
          "metadata": {},
          "execution_count": 84
        }
      ]
    },
    {
      "cell_type": "code",
      "source": [
        "n_epochs = 5\n",
        "learningRate = 0.5\n",
        "\n",
        "# Utilizaremos CrossEntropyLoss como função de perda\n",
        "criterion = torch.nn.CrossEntropyLoss()\n",
        "\n",
        "# Gradiente descendente\n",
        "optimizer = torch.optim.SGD(model.parameters(), lr=learningRate)"
      ],
      "metadata": {
        "id": "DfUeFkMxAOOg"
      },
      "execution_count": 85,
      "outputs": []
    },
    {
      "cell_type": "code",
      "source": [
        "epochs = []\n",
        "losses = []\n",
        "\n",
        "total_trained_samples = 0\n",
        "for i in range(n_epochs):\n",
        "    for k,(x_train, y_train) in enumerate(loader_train):\n",
        "        # Transforma a entrada para uma dimensão\n",
        "        inputs = Variable(x_train.view(-1, 28 * 28))\n",
        "        # predict da rede\n",
        "        outputs = model(inputs)\n",
        "\n",
        "        # calcula a perda\n",
        "        loss = criterion(outputs, Variable(y_train))\n",
        "\n",
        "        # zero, backpropagation, ajusta parâmetros pelo gradiente descendente\n",
        "        optimizer.zero_grad()\n",
        "        loss.backward()\n",
        "        optimizer.step()\n",
        "\n",
        "        total_trained_samples += x_train.size(0)\n",
        "        epochs.append(total_trained_samples / total_samples)\n",
        "        losses.append(loss.data)\n",
        "\n",
        "        print(f'Época: {i + 1}/{n_epochs}, batch: {k + 1}/{len(loader_train)}')"
      ],
      "metadata": {
        "colab": {
          "base_uri": "https://localhost:8080/"
        },
        "id": "mmYkCF-8MYFq",
        "outputId": "3cf508dd-a168-4e24-be13-cb01149b8684"
      },
      "execution_count": 86,
      "outputs": [
        {
          "output_type": "stream",
          "name": "stdout",
          "text": [
            "Época: 1/5, batch: 1/12\n",
            "Época: 1/5, batch: 2/12\n",
            "Época: 1/5, batch: 3/12\n",
            "Época: 1/5, batch: 4/12\n",
            "Época: 1/5, batch: 5/12\n",
            "Época: 1/5, batch: 6/12\n",
            "Época: 1/5, batch: 7/12\n",
            "Época: 1/5, batch: 8/12\n",
            "Época: 1/5, batch: 9/12\n",
            "Época: 1/5, batch: 10/12\n",
            "Época: 1/5, batch: 11/12\n",
            "Época: 1/5, batch: 12/12\n",
            "Época: 2/5, batch: 1/12\n",
            "Época: 2/5, batch: 2/12\n",
            "Época: 2/5, batch: 3/12\n",
            "Época: 2/5, batch: 4/12\n",
            "Época: 2/5, batch: 5/12\n",
            "Época: 2/5, batch: 6/12\n",
            "Época: 2/5, batch: 7/12\n",
            "Época: 2/5, batch: 8/12\n",
            "Época: 2/5, batch: 9/12\n",
            "Época: 2/5, batch: 10/12\n",
            "Época: 2/5, batch: 11/12\n",
            "Época: 2/5, batch: 12/12\n",
            "Época: 3/5, batch: 1/12\n",
            "Época: 3/5, batch: 2/12\n",
            "Época: 3/5, batch: 3/12\n",
            "Época: 3/5, batch: 4/12\n",
            "Época: 3/5, batch: 5/12\n",
            "Época: 3/5, batch: 6/12\n",
            "Época: 3/5, batch: 7/12\n",
            "Época: 3/5, batch: 8/12\n",
            "Época: 3/5, batch: 9/12\n",
            "Época: 3/5, batch: 10/12\n",
            "Época: 3/5, batch: 11/12\n",
            "Época: 3/5, batch: 12/12\n",
            "Época: 4/5, batch: 1/12\n",
            "Época: 4/5, batch: 2/12\n",
            "Época: 4/5, batch: 3/12\n",
            "Época: 4/5, batch: 4/12\n",
            "Época: 4/5, batch: 5/12\n",
            "Época: 4/5, batch: 6/12\n",
            "Época: 4/5, batch: 7/12\n",
            "Época: 4/5, batch: 8/12\n",
            "Época: 4/5, batch: 9/12\n",
            "Época: 4/5, batch: 10/12\n",
            "Época: 4/5, batch: 11/12\n",
            "Época: 4/5, batch: 12/12\n",
            "Época: 5/5, batch: 1/12\n",
            "Época: 5/5, batch: 2/12\n",
            "Época: 5/5, batch: 3/12\n",
            "Época: 5/5, batch: 4/12\n",
            "Época: 5/5, batch: 5/12\n",
            "Época: 5/5, batch: 6/12\n",
            "Época: 5/5, batch: 7/12\n",
            "Época: 5/5, batch: 8/12\n",
            "Época: 5/5, batch: 9/12\n",
            "Época: 5/5, batch: 10/12\n",
            "Época: 5/5, batch: 11/12\n",
            "Época: 5/5, batch: 12/12\n"
          ]
        }
      ]
    },
    {
      "cell_type": "code",
      "source": [
        "print('Final loss:', loss.data)"
      ],
      "metadata": {
        "colab": {
          "base_uri": "https://localhost:8080/"
        },
        "id": "nmTAoKyI_uCH",
        "outputId": "59afbb14-b761-40ff-83cf-39f093cce11b"
      },
      "execution_count": 87,
      "outputs": [
        {
          "output_type": "stream",
          "name": "stdout",
          "text": [
            "Final loss: tensor(0.4537)\n"
          ]
        }
      ]
    },
    {
      "cell_type": "code",
      "source": [
        "plt.plot(epochs, losses)\n",
        "plt.xlabel('época')"
      ],
      "metadata": {
        "colab": {
          "base_uri": "https://localhost:8080/",
          "height": 467
        },
        "id": "Yj7G3zaB_fqD",
        "outputId": "899eb06e-1bee-4f5a-ab3e-04f124e8b653"
      },
      "execution_count": 88,
      "outputs": [
        {
          "output_type": "execute_result",
          "data": {
            "text/plain": [
              "Text(0.5, 0, 'época')"
            ]
          },
          "metadata": {},
          "execution_count": 88
        },
        {
          "output_type": "display_data",
          "data": {
            "text/plain": [
              "<Figure size 640x480 with 1 Axes>"
            ],
            "image/png": "[encoded data removed]"
          },
          "metadata": {}
        }
      ]
    },
    {
      "cell_type": "markdown",
      "source": [
        "Percebe-se que aumentando-se o tamanho do batch, consequentemente diminuindo-se o número de mini batches, o erro final aumenta, após cada experimento com o tamanho do batch."
      ],
      "metadata": {
        "id": "9RHNUKsoDQZT"
      }
    },
    {
      "cell_type": "markdown",
      "metadata": {
        "id": "Dite8MBJl-fn"
      },
      "source": [
        "## Conclusões sobre os experimentos deste notebook\n"
      ]
    }
  ],
  "metadata": {
    "colab": {
      "provenance": [],
      "include_colab_link": true
    },
    "kernelspec": {
      "display_name": "Python 3",
      "name": "python3"
    },
    "language_info": {
      "name": "python",
      "version": "3.10.2"
    },
    "vscode": {
      "interpreter": {
        "hash": "5fe3e6f0cdaab8afdc61c52912fda83f7c0a71baaea1897dd7498e2df01e69ec"
      }
    }
  },
  "nbformat": 4,
  "nbformat_minor": 0
}