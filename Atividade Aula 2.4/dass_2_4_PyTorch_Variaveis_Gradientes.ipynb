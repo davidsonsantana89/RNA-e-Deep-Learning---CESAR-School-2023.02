{
  "cells": [
    {
      "cell_type": "markdown",
      "metadata": {
        "id": "view-in-github",
        "colab_type": "text"
      },
      "source": [
        "<a href=\"https://colab.research.google.com/github/davidsonsantana89/RNA-e-Deep-Learning---CESAR-School-2023.02/blob/main/Atividade%20Aula%202.4/dass_2_4_PyTorch_Variaveis_Gradientes.ipynb\" target=\"_parent\"><img src=\"https://colab.research.google.com/assets/colab-badge.svg\" alt=\"Open In Colab\"/></a>"
      ]
    },
    {
      "cell_type": "markdown",
      "metadata": {
        "id": "HnkA6fazG2Eh"
      },
      "source": [
        "# PyTorch: Variable, Gradientes e Grafo Computacional"
      ]
    },
    {
      "cell_type": "markdown",
      "metadata": {
        "id": "SdiT8nGeG2Ek"
      },
      "source": [
        "## Objetivos"
      ]
    },
    {
      "cell_type": "markdown",
      "metadata": {
        "id": "eDEX9Mk8G2Em"
      },
      "source": [
        "Este notebook introduz\n",
        "- o conceito de `Variables` do PyTorch,\n",
        "- uma interpretação numérica intuitiva do gradiente, e o\n",
        "- grafo computacional, utilizado para o cálculo automático do gradiente de uma função."
      ]
    },
    {
      "cell_type": "markdown",
      "metadata": {
        "id": "3lPCM5vmG2Eo"
      },
      "source": [
        "Um dos principais fundamentos para que o PyTorch seja adequado para deep learning é a sua habilidade de\n",
        "calcular o gradiente automaticamente a partir da expressões definidas. Essa facilidade é implementada\n",
        "pelo tipo Variable do PyTorch, que adiciona ao tensor a facilidade de cálculo automático do gradiente pela construção dinâmica do grafo computacional."
      ]
    },
    {
      "cell_type": "markdown",
      "metadata": {
        "id": "RLATrVDrG2Eq"
      },
      "source": [
        "## Grafo computacional"
      ]
    },
    {
      "cell_type": "markdown",
      "metadata": {
        "id": "VbH9rnZmG2Er"
      },
      "source": [
        "```\n",
        "    y_pred = x * w\n",
        "    e = y_pred - y\n",
        "    e2 = e**2\n",
        "    J = e2.sum()\n",
        "```"
      ]
    },
    {
      "cell_type": "markdown",
      "metadata": {
        "id": "6tPYkCldG2Es"
      },
      "source": [
        "![alt text](https://raw.githubusercontent.com/vcasadei/images/master/GrafoComputacional.png)"
      ]
    },
    {
      "cell_type": "code",
      "source": [
        "X = [0 1 2 3]\n",
        "W = 1\n",
        "Y_pred = X*W = [0 1 2 3]\n",
        "Y = [0 2 4 6]\n",
        "e = Y_pred - Y = [0 1 2 3] - [0 2 4 6] = [0 -1 -2 -3]\n",
        "e^2 = [0 -1 -2 -3]^2 = [0 1 4 9]\n",
        "J = sum(e^2) = sum([0 1 4 9]) = 14"
      ],
      "metadata": {
        "id": "m_NWpHi0hXAK"
      },
      "execution_count": null,
      "outputs": []
    },
    {
      "cell_type": "markdown",
      "metadata": {
        "id": "MnTsPEf6G2Eu"
      },
      "source": [
        "Variable possui 3 campos: o dado em si (data), o gradiente (grad) e um apontador (creator) para construir o grafo da backpropagation. Uma expressão utilizada para o cálculo do gradiente exige que todas suas expressões sejam calculadas com Variables, caso contrário não é possível construir o grafo computacional."
      ]
    },
    {
      "cell_type": "markdown",
      "metadata": {
        "id": "1wI-LZc6G2Ev"
      },
      "source": [
        "![alt text](https://raw.githubusercontent.com/vcasadei/images/master/variables.png)"
      ]
    },
    {
      "cell_type": "code",
      "execution_count": 1,
      "metadata": {
        "ExecuteTime": {
          "end_time": "2017-11-24T14:09:19.148492",
          "start_time": "2017-11-24T14:09:18.096752"
        },
        "id": "OJt_zc0CG2Ex"
      },
      "outputs": [],
      "source": [
        "import torch\n",
        "from torch.autograd import Variable"
      ]
    },
    {
      "cell_type": "markdown",
      "metadata": {
        "id": "JONBAEwzG2E4"
      },
      "source": [
        "## Variable é criada a partir de um tensor e possui as mesmas funcionalidades"
      ]
    },
    {
      "cell_type": "code",
      "execution_count": 2,
      "metadata": {
        "ExecuteTime": {
          "end_time": "2017-11-24T14:09:19.305082",
          "start_time": "2017-11-24T14:09:19.150032"
        },
        "colab": {
          "base_uri": "https://localhost:8080/"
        },
        "id": "aT8CBLTaG2E6",
        "outputId": "1653c21c-eea4-404f-de2f-f86c9ea9bd4a"
      },
      "outputs": [
        {
          "output_type": "execute_result",
          "data": {
            "text/plain": [
              "tensor([0., 2., 4., 6.])"
            ]
          },
          "metadata": {},
          "execution_count": 2
        }
      ],
      "source": [
        "y_t = 2 * torch.arange(0.,4.)\n",
        "y = Variable(y_t); y"
      ]
    },
    {
      "cell_type": "code",
      "execution_count": 3,
      "metadata": {
        "ExecuteTime": {
          "end_time": "2017-11-24T14:09:19.311537",
          "start_time": "2017-11-24T14:09:19.306712"
        },
        "colab": {
          "base_uri": "https://localhost:8080/"
        },
        "id": "WiSNffiPG2FD",
        "outputId": "db0c8128-2990-490d-8bbe-a39206099fa8"
      },
      "outputs": [
        {
          "output_type": "execute_result",
          "data": {
            "text/plain": [
              "tensor([0., 1., 2., 3.])"
            ]
          },
          "metadata": {},
          "execution_count": 3
        }
      ],
      "source": [
        "x = Variable(torch.arange(0.,4.)); x"
      ]
    },
    {
      "cell_type": "code",
      "execution_count": 4,
      "metadata": {
        "ExecuteTime": {
          "end_time": "2017-11-24T14:09:19.318102",
          "start_time": "2017-11-24T14:09:19.313131"
        },
        "colab": {
          "base_uri": "https://localhost:8080/"
        },
        "id": "dW0pCsgaG2FK",
        "outputId": "c39c84df-8d3c-481c-cb12-2ea976332b21"
      },
      "outputs": [
        {
          "output_type": "execute_result",
          "data": {
            "text/plain": [
              "tensor([1.], requires_grad=True)"
            ]
          },
          "metadata": {},
          "execution_count": 4
        }
      ],
      "source": [
        "w = Variable(torch.ones(1),requires_grad=True); w"
      ]
    },
    {
      "cell_type": "markdown",
      "metadata": {
        "id": "VRXfFM2TG2FR"
      },
      "source": [
        "## Cálculo automático do gradiente da função perda J"
      ]
    },
    {
      "cell_type": "markdown",
      "metadata": {
        "id": "tFuPZhFGG2FU"
      },
      "source": [
        "Seja a expressão: $$ J = ((x  w) - y)^2 $$\n",
        "\n",
        "Queremos calcular a derivada de $J$ em relação a $w$."
      ]
    },
    {
      "cell_type": "markdown",
      "metadata": {
        "id": "KqNof23cG2FW"
      },
      "source": [
        "### Montagem do grafo computacional"
      ]
    },
    {
      "cell_type": "code",
      "execution_count": 5,
      "metadata": {
        "ExecuteTime": {
          "end_time": "2017-11-24T14:09:19.344631",
          "start_time": "2017-11-24T14:09:19.319779"
        },
        "colab": {
          "base_uri": "https://localhost:8080/"
        },
        "id": "71lXNZ9mG2FX",
        "outputId": "dae23731-b437-4a8c-a82f-457c01f188fb"
      },
      "outputs": [
        {
          "output_type": "execute_result",
          "data": {
            "text/plain": [
              "tensor(14., grad_fn=<SumBackward0>)"
            ]
          },
          "metadata": {},
          "execution_count": 5
        }
      ],
      "source": [
        "# predict (forward)\n",
        "y_pred = x * w\n",
        "\n",
        "# cálculo da perda J: loss\n",
        "e = y_pred - y\n",
        "e2 = e.pow(2)\n",
        "J = e2.sum()\n",
        "J"
      ]
    },
    {
      "cell_type": "markdown",
      "metadata": {
        "id": "elNRuA34G2Fe"
      },
      "source": [
        "## Auto grad - processa o grafo computacional backwards"
      ]
    },
    {
      "cell_type": "markdown",
      "metadata": {
        "ExecuteTime": {
          "end_time": "2017-10-04T15:55:45.308858",
          "start_time": "2017-10-04T15:55:45.304654"
        },
        "id": "y9mN5TqhG2Fm"
      },
      "source": [
        "O `backward()` varre o grafo computacional a partir da variável a ele associada e calcula o gradiente para todas as `Variables` que possuem o atributo `requires_grad` como verdadeiro.\n",
        "O `backward()` destroi o grafo após sua execução. Isso é intrínsico ao PyTorch pelo fato dele ser uma rede dinâmica."
      ]
    },
    {
      "cell_type": "code",
      "execution_count": 6,
      "metadata": {
        "ExecuteTime": {
          "end_time": "2017-11-24T14:09:19.355085",
          "start_time": "2017-11-24T14:09:19.346403"
        },
        "colab": {
          "base_uri": "https://localhost:8080/"
        },
        "id": "DrEXyjIDG2Fn",
        "outputId": "d6704942-7b7f-4aa2-d09d-e7419a91d1c5"
      },
      "outputs": [
        {
          "output_type": "stream",
          "name": "stdout",
          "text": [
            "tensor([-28.])\n"
          ]
        }
      ],
      "source": [
        "J.backward()\n",
        "print(w.grad)"
      ]
    },
    {
      "cell_type": "code",
      "execution_count": 7,
      "metadata": {
        "ExecuteTime": {
          "end_time": "2017-11-24T14:09:19.363848",
          "start_time": "2017-11-24T14:09:19.356800"
        },
        "id": "MwkCb8LYG2Fu"
      },
      "outputs": [],
      "source": [
        "w.grad.data.zero_();"
      ]
    },
    {
      "cell_type": "markdown",
      "metadata": {
        "id": "9biEyEt1G2Fz"
      },
      "source": [
        "## Interpretação do Gradiente"
      ]
    },
    {
      "cell_type": "markdown",
      "metadata": {
        "id": "KVaH2WFyG2F0"
      },
      "source": [
        "O gradiente de uma variável final (J) com respeito à outra variável de entrada (w) pode ser interpretado como o quanto a variável final J vai aumentar se houver um pequeno aumento na variável de entrada (w).\n",
        "Por exemplo suponha que o gradiente seja 28. Isto significa se aumentarmos a variável w de 0.001, então J vai aumentar de 0.028."
      ]
    },
    {
      "cell_type": "code",
      "execution_count": 8,
      "metadata": {
        "ExecuteTime": {
          "end_time": "2017-11-24T14:09:19.372040",
          "start_time": "2017-11-24T14:09:19.365927"
        },
        "colab": {
          "base_uri": "https://localhost:8080/"
        },
        "id": "RnO_ImuHG2F2",
        "outputId": "13847cf4-61ea-40a4-f71a-8f1b5543d629"
      },
      "outputs": [
        {
          "output_type": "execute_result",
          "data": {
            "text/plain": [
              "tensor(13.9720, grad_fn=<SumBackward0>)"
            ]
          },
          "metadata": {},
          "execution_count": 8
        }
      ],
      "source": [
        "eps = 0.001\n",
        "y_pred = x * (w+eps)\n",
        "J_new = (y_pred - y).pow(2).sum()\n",
        "J_new"
      ]
    },
    {
      "cell_type": "code",
      "execution_count": 9,
      "metadata": {
        "ExecuteTime": {
          "end_time": "2017-11-24T14:09:19.403233",
          "start_time": "2017-11-24T14:09:19.373831"
        },
        "colab": {
          "base_uri": "https://localhost:8080/"
        },
        "id": "1ObOY_GnG2F8",
        "outputId": "01982a9e-bd0c-42bf-c2d6-e275e25b3938"
      },
      "outputs": [
        {
          "output_type": "stream",
          "name": "stdout",
          "text": [
            "-0.027988434\n"
          ]
        }
      ],
      "source": [
        "print((J_new - J).data.numpy())"
      ]
    },
    {
      "cell_type": "markdown",
      "metadata": {
        "id": "v625mnGlG2GC"
      },
      "source": [
        "## Back propagation"
      ]
    },
    {
      "cell_type": "markdown",
      "metadata": {
        "id": "ryb4BtcGG2GF"
      },
      "source": [
        "Uma forma equivalente explícita de calcular o gradiente é fazendo o processamento do backpropagation no grafo computacional, de forma explícita.\n",
        "Apenas como ilustração.\n",
        "\n",
        "Função de perda:\n",
        "$$ J(\\hat{y_i},y_i) = \\frac{1}{M} \\sum_{i=0}^{M-1} (\\hat{y_i} - y_i)^2 $$\n",
        "\n",
        "Gradiente:\n",
        "$$  \\mathbf{\\nabla{J_w}} = \\frac{2}{M}\\mathbf{x^T}(\\mathbf{x w^T} - \\mathbf{y}) $$\n",
        "\n",
        "Atualização dos parâmetros pelo gradiente descendente:\n",
        "$$ \\mathbf{w} = \\mathbf{w} − \\eta (\\mathbf{\\nabla J_w})^T $$"
      ]
    },
    {
      "cell_type": "code",
      "source": [
        "J = 14\n",
        "dj = 2/M * [0 1 2 3]([0 1 2 3][1] - [0 2 4 6])\n",
        "dj = [0 2 4 6]([0 1 2 3] - [0 2 4 6])\n",
        "dj = [0 2 4 6]([0 -1 -2 -3])\n",
        "dj = [0 -2 -8 -18] = -28\n",
        "\n",
        "w_new = w - lr*dj\n",
        "w_new = [1] - 0.1*(-28) = 1 + 2.8 = 3.8"
      ],
      "metadata": {
        "id": "UJSJRUqJ0oqT"
      },
      "execution_count": null,
      "outputs": []
    },
    {
      "cell_type": "code",
      "execution_count": 10,
      "metadata": {
        "ExecuteTime": {
          "end_time": "2017-11-24T14:09:19.413681",
          "start_time": "2017-11-24T14:09:19.405014"
        },
        "colab": {
          "base_uri": "https://localhost:8080/"
        },
        "id": "HXrz6a0EG2GH",
        "outputId": "a53142a2-426e-4b2c-d360-d200ff7daf1d",
        "scrolled": false
      },
      "outputs": [
        {
          "output_type": "stream",
          "name": "stdout",
          "text": [
            "1.0\n",
            "[1. 1. 1. 1.]\n",
            "[ 0. -2. -4. -6.]\n",
            "-28.0\n"
          ]
        }
      ],
      "source": [
        "import numpy as np\n",
        "\n",
        "dJ = 1.\n",
        "de2 = dJ * np.ones((4,))\n",
        "de = de2 * 2 * e.data.numpy()\n",
        "dy_pred = de\n",
        "dw = (dy_pred * x.data.numpy()).sum()\n",
        "print(dJ)\n",
        "print(de2)\n",
        "print(de)\n",
        "print(dw)\n"
      ]
    },
    {
      "cell_type": "markdown",
      "metadata": {
        "id": "7pvsJc0tG2GR"
      },
      "source": [
        "## Visualizando o grafo computacional"
      ]
    },
    {
      "cell_type": "code",
      "execution_count": 14,
      "metadata": {
        "colab": {
          "base_uri": "https://localhost:8080/"
        },
        "id": "_jg-tSOvCMs1",
        "outputId": "0a2379dc-cda3-42a9-dd9e-7e888cfa5991"
      },
      "outputs": [
        {
          "output_type": "stream",
          "name": "stdout",
          "text": [
            "Requirement already satisfied: graphviz in /usr/local/lib/python3.10/dist-packages (0.20.3)\n",
            "Collecting git+https://github.com/szagoruyko/pytorchviz\n",
            "  Cloning https://github.com/szagoruyko/pytorchviz to /tmp/pip-req-build-r3qzp0ys\n",
            "  Running command git clone --filter=blob:none --quiet https://github.com/szagoruyko/pytorchviz /tmp/pip-req-build-r3qzp0ys\n",
            "  Resolved https://github.com/szagoruyko/pytorchviz to commit 0adcd83af8aa7ab36d6afd139cabbd9df598edb7\n",
            "  Preparing metadata (setup.py) ... \u001b[?25l\u001b[?25hdone\n",
            "Requirement already satisfied: torch in /usr/local/lib/python3.10/dist-packages (from torchviz==0.0.2) (2.3.0+cu121)\n",
            "Requirement already satisfied: graphviz in /usr/local/lib/python3.10/dist-packages (from torchviz==0.0.2) (0.20.3)\n",
            "Requirement already satisfied: filelock in /usr/local/lib/python3.10/dist-packages (from torch->torchviz==0.0.2) (3.14.0)\n",
            "Requirement already satisfied: typing-extensions>=4.8.0 in /usr/local/lib/python3.10/dist-packages (from torch->torchviz==0.0.2) (4.12.1)\n",
            "Requirement already satisfied: sympy in /usr/local/lib/python3.10/dist-packages (from torch->torchviz==0.0.2) (1.12.1)\n",
            "Requirement already satisfied: networkx in /usr/local/lib/python3.10/dist-packages (from torch->torchviz==0.0.2) (3.3)\n",
            "Requirement already satisfied: jinja2 in /usr/local/lib/python3.10/dist-packages (from torch->torchviz==0.0.2) (3.1.4)\n",
            "Requirement already satisfied: fsspec in /usr/local/lib/python3.10/dist-packages (from torch->torchviz==0.0.2) (2023.6.0)\n",
            "Collecting nvidia-cuda-nvrtc-cu12==12.1.105 (from torch->torchviz==0.0.2)\n",
            "  Using cached nvidia_cuda_nvrtc_cu12-12.1.105-py3-none-manylinux1_x86_64.whl (23.7 MB)\n",
            "Collecting nvidia-cuda-runtime-cu12==12.1.105 (from torch->torchviz==0.0.2)\n",
            "  Using cached nvidia_cuda_runtime_cu12-12.1.105-py3-none-manylinux1_x86_64.whl (823 kB)\n",
            "Collecting nvidia-cuda-cupti-cu12==12.1.105 (from torch->torchviz==0.0.2)\n",
            "  Using cached nvidia_cuda_cupti_cu12-12.1.105-py3-none-manylinux1_x86_64.whl (14.1 MB)\n",
            "Collecting nvidia-cudnn-cu12==8.9.2.26 (from torch->torchviz==0.0.2)\n",
            "  Using cached nvidia_cudnn_cu12-8.9.2.26-py3-none-manylinux1_x86_64.whl (731.7 MB)\n",
            "Collecting nvidia-cublas-cu12==12.1.3.1 (from torch->torchviz==0.0.2)\n",
            "  Using cached nvidia_cublas_cu12-12.1.3.1-py3-none-manylinux1_x86_64.whl (410.6 MB)\n",
            "Collecting nvidia-cufft-cu12==11.0.2.54 (from torch->torchviz==0.0.2)\n",
            "  Using cached nvidia_cufft_cu12-11.0.2.54-py3-none-manylinux1_x86_64.whl (121.6 MB)\n",
            "Collecting nvidia-curand-cu12==10.3.2.106 (from torch->torchviz==0.0.2)\n",
            "  Using cached nvidia_curand_cu12-10.3.2.106-py3-none-manylinux1_x86_64.whl (56.5 MB)\n",
            "Collecting nvidia-cusolver-cu12==11.4.5.107 (from torch->torchviz==0.0.2)\n",
            "  Using cached nvidia_cusolver_cu12-11.4.5.107-py3-none-manylinux1_x86_64.whl (124.2 MB)\n",
            "Collecting nvidia-cusparse-cu12==12.1.0.106 (from torch->torchviz==0.0.2)\n",
            "  Using cached nvidia_cusparse_cu12-12.1.0.106-py3-none-manylinux1_x86_64.whl (196.0 MB)\n",
            "Collecting nvidia-nccl-cu12==2.20.5 (from torch->torchviz==0.0.2)\n",
            "  Using cached nvidia_nccl_cu12-2.20.5-py3-none-manylinux2014_x86_64.whl (176.2 MB)\n",
            "Collecting nvidia-nvtx-cu12==12.1.105 (from torch->torchviz==0.0.2)\n",
            "  Using cached nvidia_nvtx_cu12-12.1.105-py3-none-manylinux1_x86_64.whl (99 kB)\n",
            "Requirement already satisfied: triton==2.3.0 in /usr/local/lib/python3.10/dist-packages (from torch->torchviz==0.0.2) (2.3.0)\n",
            "Collecting nvidia-nvjitlink-cu12 (from nvidia-cusolver-cu12==11.4.5.107->torch->torchviz==0.0.2)\n",
            "  Downloading nvidia_nvjitlink_cu12-12.5.40-py3-none-manylinux2014_x86_64.whl (21.3 MB)\n",
            "\u001b[2K     \u001b[90m━━━━━━━━━━━━━━━━━━━━━━━━━━━━━━━━━━━━━━━━\u001b[0m \u001b[32m21.3/21.3 MB\u001b[0m \u001b[31m47.6 MB/s\u001b[0m eta \u001b[36m0:00:00\u001b[0m\n",
            "\u001b[?25hRequirement already satisfied: MarkupSafe>=2.0 in /usr/local/lib/python3.10/dist-packages (from jinja2->torch->torchviz==0.0.2) (2.1.5)\n",
            "Requirement already satisfied: mpmath<1.4.0,>=1.1.0 in /usr/local/lib/python3.10/dist-packages (from sympy->torch->torchviz==0.0.2) (1.3.0)\n",
            "Building wheels for collected packages: torchviz\n",
            "  Building wheel for torchviz (setup.py) ... \u001b[?25l\u001b[?25hdone\n",
            "  Created wheel for torchviz: filename=torchviz-0.0.2-py3-none-any.whl size=4972 sha256=bd67ec1ae9e1e659b8d87597179ef2a0d9f29e0abd6895a4e3305911b3e82a7f\n",
            "  Stored in directory: /tmp/pip-ephem-wheel-cache-dtupfd7g/wheels/44/5a/39/48c1209682afcfc7ad8ae7b3cf7aa0ff08a72e3ac4e5931f1d\n",
            "Successfully built torchviz\n",
            "Installing collected packages: nvidia-nvtx-cu12, nvidia-nvjitlink-cu12, nvidia-nccl-cu12, nvidia-curand-cu12, nvidia-cufft-cu12, nvidia-cuda-runtime-cu12, nvidia-cuda-nvrtc-cu12, nvidia-cuda-cupti-cu12, nvidia-cublas-cu12, nvidia-cusparse-cu12, nvidia-cudnn-cu12, nvidia-cusolver-cu12, torchviz\n",
            "Successfully installed nvidia-cublas-cu12-12.1.3.1 nvidia-cuda-cupti-cu12-12.1.105 nvidia-cuda-nvrtc-cu12-12.1.105 nvidia-cuda-runtime-cu12-12.1.105 nvidia-cudnn-cu12-8.9.2.26 nvidia-cufft-cu12-11.0.2.54 nvidia-curand-cu12-10.3.2.106 nvidia-cusolver-cu12-11.4.5.107 nvidia-cusparse-cu12-12.1.0.106 nvidia-nccl-cu12-2.20.5 nvidia-nvjitlink-cu12-12.5.40 nvidia-nvtx-cu12-12.1.105 torchviz-0.0.2\n"
          ]
        }
      ],
      "source": [
        "!pip install graphviz\n",
        "!pip install git+https://github.com/szagoruyko/pytorchviz"
      ]
    },
    {
      "cell_type": "code",
      "execution_count": 15,
      "metadata": {
        "colab": {
          "base_uri": "https://localhost:8080/",
          "height": 528
        },
        "id": "VRZi7-urCZZS",
        "outputId": "03a6ee4a-e038-429d-959b-0c053b7e51d0"
      },
      "outputs": [
        {
          "output_type": "execute_result",
          "data": {
            "image/svg+xml": "<?xml version=\"1.0\" encoding=\"UTF-8\" standalone=\"no\"?>\n<!DOCTYPE svg PUBLIC \"-//W3C//DTD SVG 1.1//EN\"\n \"http://www.w3.org/Graphics/SVG/1.1/DTD/svg11.dtd\">\n<!-- Generated by graphviz version 2.43.0 (0)\n -->\n<!-- Title: %3 Pages: 1 -->\n<svg width=\"109pt\" height=\"380pt\"\n viewBox=\"0.00 0.00 109.00 380.00\" xmlns=\"http://www.w3.org/2000/svg\" xmlns:xlink=\"http://www.w3.org/1999/xlink\">\n<g id=\"graph0\" class=\"graph\" transform=\"scale(1 1) rotate(0) translate(4 376)\">\n<title>%3</title>\n<polygon fill=\"white\" stroke=\"transparent\" points=\"-4,4 -4,-376 105,-376 105,4 -4,4\"/>\n<!-- 132737140249184 -->\n<g id=\"node1\" class=\"node\">\n<title>132737140249184</title>\n<polygon fill=\"#caff70\" stroke=\"black\" points=\"77.5,-31 23.5,-31 23.5,0 77.5,0 77.5,-31\"/>\n<text text-anchor=\"middle\" x=\"50.5\" y=\"-7\" font-family=\"monospace\" font-size=\"10.00\"> ()</text>\n</g>\n<!-- 132736979848304 -->\n<g id=\"node2\" class=\"node\">\n<title>132736979848304</title>\n<polygon fill=\"lightgrey\" stroke=\"black\" points=\"95,-86 6,-86 6,-67 95,-67 95,-86\"/>\n<text text-anchor=\"middle\" x=\"50.5\" y=\"-74\" font-family=\"monospace\" font-size=\"10.00\">SumBackward0</text>\n</g>\n<!-- 132736979848304&#45;&gt;132737140249184 -->\n<g id=\"edge6\" class=\"edge\">\n<title>132736979848304&#45;&gt;132737140249184</title>\n<path fill=\"none\" stroke=\"black\" d=\"M50.5,-66.79C50.5,-60.07 50.5,-50.4 50.5,-41.34\"/>\n<polygon fill=\"black\" stroke=\"black\" points=\"54,-41.19 50.5,-31.19 47,-41.19 54,-41.19\"/>\n</g>\n<!-- 132736979847920 -->\n<g id=\"node3\" class=\"node\">\n<title>132736979847920</title>\n<polygon fill=\"lightgrey\" stroke=\"black\" points=\"95,-141 6,-141 6,-122 95,-122 95,-141\"/>\n<text text-anchor=\"middle\" x=\"50.5\" y=\"-129\" font-family=\"monospace\" font-size=\"10.00\">PowBackward0</text>\n</g>\n<!-- 132736979847920&#45;&gt;132736979848304 -->\n<g id=\"edge1\" class=\"edge\">\n<title>132736979847920&#45;&gt;132736979848304</title>\n<path fill=\"none\" stroke=\"black\" d=\"M50.5,-121.75C50.5,-114.8 50.5,-104.85 50.5,-96.13\"/>\n<polygon fill=\"black\" stroke=\"black\" points=\"54,-96.09 50.5,-86.09 47,-96.09 54,-96.09\"/>\n</g>\n<!-- 132736979848064 -->\n<g id=\"node4\" class=\"node\">\n<title>132736979848064</title>\n<polygon fill=\"lightgrey\" stroke=\"black\" points=\"95,-196 6,-196 6,-177 95,-177 95,-196\"/>\n<text text-anchor=\"middle\" x=\"50.5\" y=\"-184\" font-family=\"monospace\" font-size=\"10.00\">SubBackward0</text>\n</g>\n<!-- 132736979848064&#45;&gt;132736979847920 -->\n<g id=\"edge2\" class=\"edge\">\n<title>132736979848064&#45;&gt;132736979847920</title>\n<path fill=\"none\" stroke=\"black\" d=\"M50.5,-176.75C50.5,-169.8 50.5,-159.85 50.5,-151.13\"/>\n<polygon fill=\"black\" stroke=\"black\" points=\"54,-151.09 50.5,-141.09 47,-151.09 54,-151.09\"/>\n</g>\n<!-- 132736979848160 -->\n<g id=\"node5\" class=\"node\">\n<title>132736979848160</title>\n<polygon fill=\"lightgrey\" stroke=\"black\" points=\"95,-251 6,-251 6,-232 95,-232 95,-251\"/>\n<text text-anchor=\"middle\" x=\"50.5\" y=\"-239\" font-family=\"monospace\" font-size=\"10.00\">MulBackward0</text>\n</g>\n<!-- 132736979848160&#45;&gt;132736979848064 -->\n<g id=\"edge3\" class=\"edge\">\n<title>132736979848160&#45;&gt;132736979848064</title>\n<path fill=\"none\" stroke=\"black\" d=\"M50.5,-231.75C50.5,-224.8 50.5,-214.85 50.5,-206.13\"/>\n<polygon fill=\"black\" stroke=\"black\" points=\"54,-206.09 50.5,-196.09 47,-206.09 54,-206.09\"/>\n</g>\n<!-- 132736979847776 -->\n<g id=\"node6\" class=\"node\">\n<title>132736979847776</title>\n<polygon fill=\"lightgrey\" stroke=\"black\" points=\"101,-306 0,-306 0,-287 101,-287 101,-306\"/>\n<text text-anchor=\"middle\" x=\"50.5\" y=\"-294\" font-family=\"monospace\" font-size=\"10.00\">AccumulateGrad</text>\n</g>\n<!-- 132736979847776&#45;&gt;132736979848160 -->\n<g id=\"edge4\" class=\"edge\">\n<title>132736979847776&#45;&gt;132736979848160</title>\n<path fill=\"none\" stroke=\"black\" d=\"M50.5,-286.75C50.5,-279.8 50.5,-269.85 50.5,-261.13\"/>\n<polygon fill=\"black\" stroke=\"black\" points=\"54,-261.09 50.5,-251.09 47,-261.09 54,-261.09\"/>\n</g>\n<!-- 132737151524576 -->\n<g id=\"node7\" class=\"node\">\n<title>132737151524576</title>\n<polygon fill=\"lightblue\" stroke=\"black\" points=\"77.5,-372 23.5,-372 23.5,-342 77.5,-342 77.5,-372\"/>\n<text text-anchor=\"middle\" x=\"50.5\" y=\"-360\" font-family=\"monospace\" font-size=\"10.00\">w</text>\n<text text-anchor=\"middle\" x=\"50.5\" y=\"-349\" font-family=\"monospace\" font-size=\"10.00\"> (1)</text>\n</g>\n<!-- 132737151524576&#45;&gt;132736979847776 -->\n<g id=\"edge5\" class=\"edge\">\n<title>132737151524576&#45;&gt;132736979847776</title>\n<path fill=\"none\" stroke=\"black\" d=\"M50.5,-341.84C50.5,-334.21 50.5,-324.7 50.5,-316.45\"/>\n<polygon fill=\"black\" stroke=\"black\" points=\"54,-316.27 50.5,-306.27 47,-316.27 54,-316.27\"/>\n</g>\n</g>\n</svg>\n",
            "text/plain": [
              "<graphviz.graphs.Digraph at 0x78b93c884ca0>"
            ]
          },
          "metadata": {},
          "execution_count": 15
        }
      ],
      "source": [
        "from torchviz import make_dot, make_dot_from_trace\n",
        "J = ((w * x) - y).pow(2).sum()\n",
        "p = {'w':w} # dicionário de parâmetros\n",
        "out = make_dot(J,params=p)\n",
        "out\n"
      ]
    },
    {
      "cell_type": "markdown",
      "metadata": {
        "collapsed": true,
        "id": "bIqUBct4G2Gg"
      },
      "source": [
        "# Exercícios"
      ]
    },
    {
      "cell_type": "markdown",
      "metadata": {
        "id": "vEfWG-e5G2Gh"
      },
      "source": [
        "## Questões"
      ]
    },
    {
      "cell_type": "markdown",
      "metadata": {
        "id": "PXLoZzF6G2Gj"
      },
      "source": [
        "1. Por que numa expressão computacional não é possível misturar `Variable` com tensores?\n",
        "\n",
        "    R.: *Porque a Variable possui três \"atributos\": data, grad e o creator. Enquanto o tensor é uma classe que encapsula apenas uma informação: o data.*"
      ]
    },
    {
      "cell_type": "markdown",
      "metadata": {
        "id": "cU3Li2hu537F"
      },
      "source": [
        "2. O que acontece com o grafo computacional após execução do `backward()`?\n",
        "\n",
        "    R.: *Ele reseta o grafo e atualiza o peso.*"
      ]
    },
    {
      "cell_type": "markdown",
      "metadata": {
        "id": "ayWukpAIG2Gk"
      },
      "source": [
        "## Atividades"
      ]
    },
    {
      "cell_type": "markdown",
      "metadata": {
        "ExecuteTime": {
          "end_time": "2017-10-06T22:02:17.474843Z",
          "start_time": "2017-10-06T22:02:17.468865Z"
        },
        "id": "k5Ayt5dAG2Gl"
      },
      "source": [
        "1. Execute um passo de atualização do valor de w, pelo\n",
        "gradiente descendente. Utilize um fator de aprendizado (*learning rate*) de 0.01\n",
        "para atualizar o `w`. Após, recalcule a função de perda:\n",
        "\n",
        "    - w = w - lr * w.grad.data\n",
        "    - execute a célula 1.3.1 e verifique o quanto que a perda J diminuiu\n",
        "    \n"
      ]
    },
    {
      "cell_type": "code",
      "source": [
        "# definir o y\n",
        "y_t = 2 * torch.arange(0.,4.)\n",
        "y = Variable(y_t); y"
      ],
      "metadata": {
        "colab": {
          "base_uri": "https://localhost:8080/"
        },
        "id": "4c-fioRqFmyn",
        "outputId": "607edf92-8707-4327-fcc4-88c41a7f766d"
      },
      "execution_count": 48,
      "outputs": [
        {
          "output_type": "execute_result",
          "data": {
            "text/plain": [
              "tensor([0., 2., 4., 6.])"
            ]
          },
          "metadata": {},
          "execution_count": 48
        }
      ]
    },
    {
      "cell_type": "code",
      "source": [
        "# definir o x\n",
        "x = Variable(torch.arange(0.,4.)); x"
      ],
      "metadata": {
        "colab": {
          "base_uri": "https://localhost:8080/"
        },
        "id": "eW5A2YgcF1Tl",
        "outputId": "192a65f1-621a-4f11-89ab-59eed3e749b6"
      },
      "execution_count": 49,
      "outputs": [
        {
          "output_type": "execute_result",
          "data": {
            "text/plain": [
              "tensor([0., 1., 2., 3.])"
            ]
          },
          "metadata": {},
          "execution_count": 49
        }
      ]
    },
    {
      "cell_type": "code",
      "source": [
        "# definir o peso\n",
        "w = Variable(torch.ones(1),requires_grad=True); w"
      ],
      "metadata": {
        "colab": {
          "base_uri": "https://localhost:8080/"
        },
        "id": "8r_maeQqF33c",
        "outputId": "bbead7c3-b29e-4dfe-914d-a5f97301c3bf"
      },
      "execution_count": 50,
      "outputs": [
        {
          "output_type": "execute_result",
          "data": {
            "text/plain": [
              "tensor([1.], requires_grad=True)"
            ]
          },
          "metadata": {},
          "execution_count": 50
        }
      ]
    },
    {
      "cell_type": "code",
      "source": [
        "# calcular o J\n",
        "\n",
        "# predict (forward)\n",
        "y_pred = x * w\n",
        "\n",
        "# cálculo da perda J: loss\n",
        "e = y_pred - y\n",
        "e2 = e.pow(2)\n",
        "J = e2.sum()\n",
        "J"
      ],
      "metadata": {
        "colab": {
          "base_uri": "https://localhost:8080/"
        },
        "id": "AYHhtxZAGFNp",
        "outputId": "beea4441-c0a8-4010-cdfd-bffaea2bda6a"
      },
      "execution_count": 51,
      "outputs": [
        {
          "output_type": "execute_result",
          "data": {
            "text/plain": [
              "tensor(14., grad_fn=<SumBackward0>)"
            ]
          },
          "metadata": {},
          "execution_count": 51
        }
      ]
    },
    {
      "cell_type": "code",
      "source": [
        "# gradiente descendente\n",
        "J.backward()\n",
        "print(w.grad)"
      ],
      "metadata": {
        "colab": {
          "base_uri": "https://localhost:8080/"
        },
        "id": "cX_jhMlVGOyo",
        "outputId": "71e22570-ec35-4a1a-8f9b-4972920a89b8"
      },
      "execution_count": 52,
      "outputs": [
        {
          "output_type": "stream",
          "name": "stdout",
          "text": [
            "tensor([-28.])\n"
          ]
        }
      ]
    },
    {
      "cell_type": "code",
      "source": [
        "# novo w\n",
        "lr = 0.01\n",
        "w_new = w - lr * w.grad.data\n",
        "\n",
        "print(w_new)"
      ],
      "metadata": {
        "colab": {
          "base_uri": "https://localhost:8080/"
        },
        "id": "pyVBdOWUHNvS",
        "outputId": "4a67898d-1b45-4ca3-dfc3-5ff967ba04bb"
      },
      "execution_count": 53,
      "outputs": [
        {
          "output_type": "stream",
          "name": "stdout",
          "text": [
            "tensor([1.2800], grad_fn=<SubBackward0>)\n"
          ]
        }
      ]
    },
    {
      "cell_type": "code",
      "source": [
        "# verificar o valor do novo J\n",
        "\n",
        "w = w_new\n",
        "\n",
        "# predict (forward)\n",
        "y_pred = x * w\n",
        "\n",
        "# cálculo da perda J: loss\n",
        "e = y_pred - y\n",
        "e2 = e.pow(2)\n",
        "J_new = e2.sum()\n",
        "J_new"
      ],
      "metadata": {
        "colab": {
          "base_uri": "https://localhost:8080/"
        },
        "id": "KwAPcwsGH8-a",
        "outputId": "4e00f0bd-1dd3-4983-fa6d-0624a66d501a"
      },
      "execution_count": 54,
      "outputs": [
        {
          "output_type": "execute_result",
          "data": {
            "text/plain": [
              "tensor(7.2576, grad_fn=<SumBackward0>)"
            ]
          },
          "metadata": {},
          "execution_count": 54
        }
      ]
    },
    {
      "cell_type": "code",
      "source": [
        "# valor da diminuição de J para J_new\n",
        "print((J_new - J).data.numpy())"
      ],
      "metadata": {
        "colab": {
          "base_uri": "https://localhost:8080/"
        },
        "id": "hPaXKt1yMuoT",
        "outputId": "d6cc570a-0e91-4986-d8f6-963893cca513"
      },
      "execution_count": 56,
      "outputs": [
        {
          "output_type": "stream",
          "name": "stdout",
          "text": [
            "-6.7423997\n"
          ]
        }
      ]
    },
    {
      "cell_type": "markdown",
      "metadata": {
        "ExecuteTime": {
          "end_time": "2017-10-06T22:02:17.474843Z",
          "start_time": "2017-10-06T22:02:17.468865Z"
        },
        "id": "HJYMsHU2FmFw"
      },
      "source": [
        "2. No trecho abaixo, uma rede bastante conhecida, `resnet18` contendo 18 camadas\n",
        "   é criada, tendo\n",
        "   como entrada `xin` que é convertida para `Variable`, resultando na saída `y`.\n",
        "   \n",
        "   Descomente a linha que cria a vizualização do grafo computacional e execute a\n",
        "   célula para visualizar o grafo computacional da rede `resnet18`:"
      ]
    },
    {
      "cell_type": "code",
      "execution_count": 46,
      "metadata": {
        "ExecuteTime": {
          "end_time": "2017-11-24T14:09:19.519949",
          "start_time": "2017-11-24T16:09:18.148Z"
        },
        "colab": {
          "base_uri": "https://localhost:8080/",
          "height": 1000
        },
        "id": "dKwW1oQ8G2Go",
        "outputId": "653ad4ad-cf90-47ef-8a31-7940a6d21108",
        "scrolled": true
      },
      "outputs": [
        {
          "output_type": "stream",
          "name": "stdout",
          "text": [
            "Requirement already satisfied: torchvision in /usr/local/lib/python3.10/dist-packages (0.18.0+cu121)\n",
            "Requirement already satisfied: numpy in /usr/local/lib/python3.10/dist-packages (from torchvision) (1.25.2)\n",
            "Requirement already satisfied: torch==2.3.0 in /usr/local/lib/python3.10/dist-packages (from torchvision) (2.3.0+cu121)\n",
            "Requirement already satisfied: pillow!=8.3.*,>=5.3.0 in /usr/local/lib/python3.10/dist-packages (from torchvision) (9.4.0)\n",
            "Requirement already satisfied: filelock in /usr/local/lib/python3.10/dist-packages (from torch==2.3.0->torchvision) (3.14.0)\n",
            "Requirement already satisfied: typing-extensions>=4.8.0 in /usr/local/lib/python3.10/dist-packages (from torch==2.3.0->torchvision) (4.12.1)\n",
            "Requirement already satisfied: sympy in /usr/local/lib/python3.10/dist-packages (from torch==2.3.0->torchvision) (1.12.1)\n",
            "Requirement already satisfied: networkx in /usr/local/lib/python3.10/dist-packages (from torch==2.3.0->torchvision) (3.3)\n",
            "Requirement already satisfied: jinja2 in /usr/local/lib/python3.10/dist-packages (from torch==2.3.0->torchvision) (3.1.4)\n",
            "Requirement already satisfied: fsspec in /usr/local/lib/python3.10/dist-packages (from torch==2.3.0->torchvision) (2023.6.0)\n",
            "Requirement already satisfied: nvidia-cuda-nvrtc-cu12==12.1.105 in /usr/local/lib/python3.10/dist-packages (from torch==2.3.0->torchvision) (12.1.105)\n",
            "Requirement already satisfied: nvidia-cuda-runtime-cu12==12.1.105 in /usr/local/lib/python3.10/dist-packages (from torch==2.3.0->torchvision) (12.1.105)\n",
            "Requirement already satisfied: nvidia-cuda-cupti-cu12==12.1.105 in /usr/local/lib/python3.10/dist-packages (from torch==2.3.0->torchvision) (12.1.105)\n",
            "Requirement already satisfied: nvidia-cudnn-cu12==8.9.2.26 in /usr/local/lib/python3.10/dist-packages (from torch==2.3.0->torchvision) (8.9.2.26)\n",
            "Requirement already satisfied: nvidia-cublas-cu12==12.1.3.1 in /usr/local/lib/python3.10/dist-packages (from torch==2.3.0->torchvision) (12.1.3.1)\n",
            "Requirement already satisfied: nvidia-cufft-cu12==11.0.2.54 in /usr/local/lib/python3.10/dist-packages (from torch==2.3.0->torchvision) (11.0.2.54)\n",
            "Requirement already satisfied: nvidia-curand-cu12==10.3.2.106 in /usr/local/lib/python3.10/dist-packages (from torch==2.3.0->torchvision) (10.3.2.106)\n",
            "Requirement already satisfied: nvidia-cusolver-cu12==11.4.5.107 in /usr/local/lib/python3.10/dist-packages (from torch==2.3.0->torchvision) (11.4.5.107)\n",
            "Requirement already satisfied: nvidia-cusparse-cu12==12.1.0.106 in /usr/local/lib/python3.10/dist-packages (from torch==2.3.0->torchvision) (12.1.0.106)\n",
            "Requirement already satisfied: nvidia-nccl-cu12==2.20.5 in /usr/local/lib/python3.10/dist-packages (from torch==2.3.0->torchvision) (2.20.5)\n",
            "Requirement already satisfied: nvidia-nvtx-cu12==12.1.105 in /usr/local/lib/python3.10/dist-packages (from torch==2.3.0->torchvision) (12.1.105)\n",
            "Requirement already satisfied: triton==2.3.0 in /usr/local/lib/python3.10/dist-packages (from torch==2.3.0->torchvision) (2.3.0)\n",
            "Requirement already satisfied: nvidia-nvjitlink-cu12 in /usr/local/lib/python3.10/dist-packages (from nvidia-cusolver-cu12==11.4.5.107->torch==2.3.0->torchvision) (12.5.40)\n",
            "Requirement already satisfied: MarkupSafe>=2.0 in /usr/local/lib/python3.10/dist-packages (from jinja2->torch==2.3.0->torchvision) (2.1.5)\n",
            "Requirement already satisfied: mpmath<1.4.0,>=1.1.0 in /usr/local/lib/python3.10/dist-packages (from sympy->torch==2.3.0->torchvision) (1.3.0)\n"
          ]
        },
        {
          "output_type": "execute_result",
          "data": {
            "image/svg+xml": "<?xml version=\"1.0\" encoding=\"UTF-8\" standalone=\"no\"?>\n<!DOCTYPE svg PUBLIC \"-//W3C//DTD SVG 1.1//EN\"\n \"http://www.w3.org/Graphics/SVG/1.1/DTD/svg11.dtd\">\n<!-- Generated by graphviz version 2.43.0 (0)\n -->\n<!-- Title: %3 Pages: 1 -->\n<svg width=\"1964pt\" height=\"4010pt\"\n viewBox=\"0.00 0.00 1964.00 4010.00\" xmlns=\"http://www.w3.org/2000/svg\" xmlns:xlink=\"http://www.w3.org/1999/xlink\">\n<g id=\"graph0\" class=\"graph\" transform=\"scale(1 1) rotate(0) translate(4 4006)\">\n<title>%3</title>\n<polygon fill=\"white\" stroke=\"transparent\" points=\"-4,4 -4,-4006 1960,-4006 1960,4 -4,4\"/>\n<!-- 132736981280752 -->\n<g id=\"node1\" class=\"node\">\n<title>132736981280752</title>\n<polygon fill=\"#caff70\" stroke=\"black\" points=\"1485,-31 1408,-31 1408,0 1485,0 1485,-31\"/>\n<text text-anchor=\"middle\" x=\"1446.5\" y=\"-7\" font-family=\"monospace\" font-size=\"10.00\"> (1, 1000)</text>\n</g>\n<!-- 132736916417472 -->\n<g id=\"node2\" class=\"node\">\n<title>132736916417472</title>\n<polygon fill=\"lightgrey\" stroke=\"black\" points=\"1497,-86 1396,-86 1396,-67 1497,-67 1497,-86\"/>\n<text text-anchor=\"middle\" x=\"1446.5\" y=\"-74\" font-family=\"monospace\" font-size=\"10.00\">AddmmBackward0</text>\n</g>\n<!-- 132736916417472&#45;&gt;132736981280752 -->\n<g id=\"edge202\" class=\"edge\">\n<title>132736916417472&#45;&gt;132736981280752</title>\n<path fill=\"none\" stroke=\"black\" d=\"M1446.5,-66.79C1446.5,-60.07 1446.5,-50.4 1446.5,-41.34\"/>\n<polygon fill=\"black\" stroke=\"black\" points=\"1450,-41.19 1446.5,-31.19 1443,-41.19 1450,-41.19\"/>\n</g>\n<!-- 132736916417424 -->\n<g id=\"node3\" class=\"node\">\n<title>132736916417424</title>\n<polygon fill=\"lightgrey\" stroke=\"black\" points=\"1381,-141 1280,-141 1280,-122 1381,-122 1381,-141\"/>\n<text text-anchor=\"middle\" x=\"1330.5\" y=\"-129\" font-family=\"monospace\" font-size=\"10.00\">AccumulateGrad</text>\n</g>\n<!-- 132736916417424&#45;&gt;132736916417472 -->\n<g id=\"edge1\" class=\"edge\">\n<title>132736916417424&#45;&gt;132736916417472</title>\n<path fill=\"none\" stroke=\"black\" d=\"M1349.14,-121.98C1367.8,-113.46 1396.75,-100.23 1418.24,-90.41\"/>\n<polygon fill=\"black\" stroke=\"black\" points=\"1419.88,-93.51 1427.52,-86.17 1416.97,-87.14 1419.88,-93.51\"/>\n</g>\n<!-- 132736981285792 -->\n<g id=\"node4\" class=\"node\">\n<title>132736981285792</title>\n<polygon fill=\"lightblue\" stroke=\"black\" points=\"1360,-207 1301,-207 1301,-177 1360,-177 1360,-207\"/>\n<text text-anchor=\"middle\" x=\"1330.5\" y=\"-195\" font-family=\"monospace\" font-size=\"10.00\">fc.bias</text>\n<text text-anchor=\"middle\" x=\"1330.5\" y=\"-184\" font-family=\"monospace\" font-size=\"10.00\"> (1000)</text>\n</g>\n<!-- 132736981285792&#45;&gt;132736916417424 -->\n<g id=\"edge2\" class=\"edge\">\n<title>132736981285792&#45;&gt;132736916417424</title>\n<path fill=\"none\" stroke=\"black\" d=\"M1330.5,-176.84C1330.5,-169.21 1330.5,-159.7 1330.5,-151.45\"/>\n<polygon fill=\"black\" stroke=\"black\" points=\"1334,-151.27 1330.5,-141.27 1327,-151.27 1334,-151.27\"/>\n</g>\n<!-- 132736916417568 -->\n<g id=\"node5\" class=\"node\">\n<title>132736916417568</title>\n<polygon fill=\"lightgrey\" stroke=\"black\" points=\"1494,-141 1399,-141 1399,-122 1494,-122 1494,-141\"/>\n<text text-anchor=\"middle\" x=\"1446.5\" y=\"-129\" font-family=\"monospace\" font-size=\"10.00\">ViewBackward0</text>\n</g>\n<!-- 132736916417568&#45;&gt;132736916417472 -->\n<g id=\"edge3\" class=\"edge\">\n<title>132736916417568&#45;&gt;132736916417472</title>\n<path fill=\"none\" stroke=\"black\" d=\"M1446.5,-121.75C1446.5,-114.8 1446.5,-104.85 1446.5,-96.13\"/>\n<polygon fill=\"black\" stroke=\"black\" points=\"1450,-96.09 1446.5,-86.09 1443,-96.09 1450,-96.09\"/>\n</g>\n<!-- 132736916416896 -->\n<g id=\"node6\" class=\"node\">\n<title>132736916416896</title>\n<polygon fill=\"lightgrey\" stroke=\"black\" points=\"1491,-201.5 1396,-201.5 1396,-182.5 1491,-182.5 1491,-201.5\"/>\n<text text-anchor=\"middle\" x=\"1443.5\" y=\"-189.5\" font-family=\"monospace\" font-size=\"10.00\">MeanBackward1</text>\n</g>\n<!-- 132736916416896&#45;&gt;132736916417568 -->\n<g id=\"edge4\" class=\"edge\">\n<title>132736916416896&#45;&gt;132736916417568</title>\n<path fill=\"none\" stroke=\"black\" d=\"M1443.94,-182.37C1444.36,-174.25 1445,-161.81 1445.53,-151.39\"/>\n<polygon fill=\"black\" stroke=\"black\" points=\"1449.04,-151.33 1446.06,-141.17 1442.05,-150.97 1449.04,-151.33\"/>\n</g>\n<!-- 132736916417040 -->\n<g id=\"node7\" class=\"node\">\n<title>132736916417040</title>\n<polygon fill=\"lightgrey\" stroke=\"black\" points=\"1491,-267.5 1396,-267.5 1396,-248.5 1491,-248.5 1491,-267.5\"/>\n<text text-anchor=\"middle\" x=\"1443.5\" y=\"-255.5\" font-family=\"monospace\" font-size=\"10.00\">ReluBackward0</text>\n</g>\n<!-- 132736916417040&#45;&gt;132736916416896 -->\n<g id=\"edge5\" class=\"edge\">\n<title>132736916417040&#45;&gt;132736916416896</title>\n<path fill=\"none\" stroke=\"black\" d=\"M1443.5,-248.37C1443.5,-239.16 1443.5,-224.29 1443.5,-212.27\"/>\n<polygon fill=\"black\" stroke=\"black\" points=\"1447,-211.91 1443.5,-201.91 1440,-211.91 1447,-211.91\"/>\n</g>\n<!-- 132736916416608 -->\n<g id=\"node8\" class=\"node\">\n<title>132736916416608</title>\n<polygon fill=\"lightgrey\" stroke=\"black\" points=\"1488,-328 1399,-328 1399,-309 1488,-309 1488,-328\"/>\n<text text-anchor=\"middle\" x=\"1443.5\" y=\"-316\" font-family=\"monospace\" font-size=\"10.00\">AddBackward0</text>\n</g>\n<!-- 132736916416608&#45;&gt;132736916417040 -->\n<g id=\"edge6\" class=\"edge\">\n<title>132736916416608&#45;&gt;132736916417040</title>\n<path fill=\"none\" stroke=\"black\" d=\"M1443.5,-308.87C1443.5,-300.75 1443.5,-288.31 1443.5,-277.89\"/>\n<polygon fill=\"black\" stroke=\"black\" points=\"1447,-277.67 1443.5,-267.67 1440,-277.67 1447,-277.67\"/>\n</g>\n<!-- 132736916416512 -->\n<g id=\"node9\" class=\"node\">\n<title>132736916416512</title>\n<polygon fill=\"lightgrey\" stroke=\"black\" points=\"1765,-383 1604,-383 1604,-364 1765,-364 1765,-383\"/>\n<text text-anchor=\"middle\" x=\"1684.5\" y=\"-371\" font-family=\"monospace\" font-size=\"10.00\">NativeBatchNormBackward0</text>\n</g>\n<!-- 132736916416512&#45;&gt;132736916416608 -->\n<g id=\"edge7\" class=\"edge\">\n<title>132736916416512&#45;&gt;132736916416608</title>\n<path fill=\"none\" stroke=\"black\" d=\"M1645.78,-363.98C1604.09,-354.82 1537.68,-340.21 1492.41,-330.26\"/>\n<polygon fill=\"black\" stroke=\"black\" points=\"1493.04,-326.81 1482.52,-328.08 1491.54,-333.65 1493.04,-326.81\"/>\n</g>\n<!-- 132736916416800 -->\n<g id=\"node10\" class=\"node\">\n<title>132736916416800</title>\n<polygon fill=\"lightgrey\" stroke=\"black\" points=\"1685,-438 1548,-438 1548,-419 1685,-419 1685,-438\"/>\n<text text-anchor=\"middle\" x=\"1616.5\" y=\"-426\" font-family=\"monospace\" font-size=\"10.00\">ConvolutionBackward0</text>\n</g>\n<!-- 132736916416800&#45;&gt;132736916416512 -->\n<g id=\"edge8\" class=\"edge\">\n<title>132736916416800&#45;&gt;132736916416512</title>\n<path fill=\"none\" stroke=\"black\" d=\"M1627.43,-418.98C1637.58,-411.07 1652.92,-399.11 1665.15,-389.58\"/>\n<polygon fill=\"black\" stroke=\"black\" points=\"1667.64,-392.08 1673.38,-383.17 1663.34,-386.56 1667.64,-392.08\"/>\n</g>\n<!-- 132736916416176 -->\n<g id=\"node11\" class=\"node\">\n<title>132736916416176</title>\n<polygon fill=\"lightgrey\" stroke=\"black\" points=\"1551,-498.5 1456,-498.5 1456,-479.5 1551,-479.5 1551,-498.5\"/>\n<text text-anchor=\"middle\" x=\"1503.5\" y=\"-486.5\" font-family=\"monospace\" font-size=\"10.00\">ReluBackward0</text>\n</g>\n<!-- 132736916416176&#45;&gt;132736916416800 -->\n<g id=\"edge9\" class=\"edge\">\n<title>132736916416176&#45;&gt;132736916416800</title>\n<path fill=\"none\" stroke=\"black\" d=\"M1520.17,-479.37C1538.78,-469.73 1569.12,-454.03 1590.78,-442.81\"/>\n<polygon fill=\"black\" stroke=\"black\" points=\"1592.49,-445.87 1599.76,-438.17 1589.27,-439.66 1592.49,-445.87\"/>\n</g>\n<!-- 132736916416368 -->\n<g id=\"node12\" class=\"node\">\n<title>132736916416368</title>\n<polygon fill=\"lightgrey\" stroke=\"black\" points=\"1584,-564.5 1423,-564.5 1423,-545.5 1584,-545.5 1584,-564.5\"/>\n<text text-anchor=\"middle\" x=\"1503.5\" y=\"-552.5\" font-family=\"monospace\" font-size=\"10.00\">NativeBatchNormBackward0</text>\n</g>\n<!-- 132736916416368&#45;&gt;132736916416176 -->\n<g id=\"edge10\" class=\"edge\">\n<title>132736916416368&#45;&gt;132736916416176</title>\n<path fill=\"none\" stroke=\"black\" d=\"M1503.5,-545.37C1503.5,-536.16 1503.5,-521.29 1503.5,-509.27\"/>\n<polygon fill=\"black\" stroke=\"black\" points=\"1507,-508.91 1503.5,-498.91 1500,-508.91 1507,-508.91\"/>\n</g>\n<!-- 132736916416272 -->\n<g id=\"node13\" class=\"node\">\n<title>132736916416272</title>\n<polygon fill=\"lightgrey\" stroke=\"black\" points=\"1506,-625 1369,-625 1369,-606 1506,-606 1506,-625\"/>\n<text text-anchor=\"middle\" x=\"1437.5\" y=\"-613\" font-family=\"monospace\" font-size=\"10.00\">ConvolutionBackward0</text>\n</g>\n<!-- 132736916416272&#45;&gt;132736916416368 -->\n<g id=\"edge11\" class=\"edge\">\n<title>132736916416272&#45;&gt;132736916416368</title>\n<path fill=\"none\" stroke=\"black\" d=\"M1447.24,-605.87C1457.47,-596.8 1473.79,-582.34 1486.22,-571.32\"/>\n<polygon fill=\"black\" stroke=\"black\" points=\"1488.56,-573.92 1493.72,-564.67 1483.92,-568.68 1488.56,-573.92\"/>\n</g>\n<!-- 132736916416560 -->\n<g id=\"node14\" class=\"node\">\n<title>132736916416560</title>\n<polygon fill=\"lightgrey\" stroke=\"black\" points=\"1372,-685.5 1277,-685.5 1277,-666.5 1372,-666.5 1372,-685.5\"/>\n<text text-anchor=\"middle\" x=\"1324.5\" y=\"-673.5\" font-family=\"monospace\" font-size=\"10.00\">ReluBackward0</text>\n</g>\n<!-- 132736916416560&#45;&gt;132736916416608 -->\n<g id=\"edge198\" class=\"edge\">\n<title>132736916416560&#45;&gt;132736916416608</title>\n<path fill=\"none\" stroke=\"black\" d=\"M1325.48,-666.35C1327.62,-646.75 1332.5,-597.41 1332.5,-556 1332.5,-556 1332.5,-556 1332.5,-427.5 1332.5,-381.98 1381.04,-349.44 1413.92,-332.61\"/>\n<polygon fill=\"black\" stroke=\"black\" points=\"1415.7,-335.64 1423.14,-328.09 1412.62,-329.35 1415.7,-335.64\"/>\n</g>\n<!-- 132736916416560&#45;&gt;132736916416272 -->\n<g id=\"edge12\" class=\"edge\">\n<title>132736916416560&#45;&gt;132736916416272</title>\n<path fill=\"none\" stroke=\"black\" d=\"M1341.17,-666.37C1359.78,-656.73 1390.12,-641.03 1411.78,-629.81\"/>\n<polygon fill=\"black\" stroke=\"black\" points=\"1413.49,-632.87 1420.76,-625.17 1410.27,-626.66 1413.49,-632.87\"/>\n</g>\n<!-- 132736916416080 -->\n<g id=\"node15\" class=\"node\">\n<title>132736916416080</title>\n<polygon fill=\"lightgrey\" stroke=\"black\" points=\"1360,-751.5 1271,-751.5 1271,-732.5 1360,-732.5 1360,-751.5\"/>\n<text text-anchor=\"middle\" x=\"1315.5\" y=\"-739.5\" font-family=\"monospace\" font-size=\"10.00\">AddBackward0</text>\n</g>\n<!-- 132736916416080&#45;&gt;132736916416560 -->\n<g id=\"edge13\" class=\"edge\">\n<title>132736916416080&#45;&gt;132736916416560</title>\n<path fill=\"none\" stroke=\"black\" d=\"M1316.71,-732.37C1318.02,-723.07 1320.14,-707.98 1321.84,-695.9\"/>\n<polygon fill=\"black\" stroke=\"black\" points=\"1325.32,-696.3 1323.25,-685.91 1318.39,-695.32 1325.32,-696.3\"/>\n</g>\n<!-- 132736916415984 -->\n<g id=\"node16\" class=\"node\">\n<title>132736916415984</title>\n<polygon fill=\"lightgrey\" stroke=\"black\" points=\"1635,-812 1474,-812 1474,-793 1635,-793 1635,-812\"/>\n<text text-anchor=\"middle\" x=\"1554.5\" y=\"-800\" font-family=\"monospace\" font-size=\"10.00\">NativeBatchNormBackward0</text>\n</g>\n<!-- 132736916415984&#45;&gt;132736916416080 -->\n<g id=\"edge14\" class=\"edge\">\n<title>132736916415984&#45;&gt;132736916416080</title>\n<path fill=\"none\" stroke=\"black\" d=\"M1517.73,-792.97C1480.17,-784.2 1420.18,-770.01 1368.5,-757 1364.87,-756.09 1361.11,-755.12 1357.34,-754.15\"/>\n<polygon fill=\"black\" stroke=\"black\" points=\"1357.98,-750.7 1347.42,-751.56 1356.21,-757.47 1357.98,-750.7\"/>\n</g>\n<!-- 132736916415504 -->\n<g id=\"node17\" class=\"node\">\n<title>132736916415504</title>\n<polygon fill=\"lightgrey\" stroke=\"black\" points=\"1555,-867 1418,-867 1418,-848 1555,-848 1555,-867\"/>\n<text text-anchor=\"middle\" x=\"1486.5\" y=\"-855\" font-family=\"monospace\" font-size=\"10.00\">ConvolutionBackward0</text>\n</g>\n<!-- 132736916415504&#45;&gt;132736916415984 -->\n<g id=\"edge15\" class=\"edge\">\n<title>132736916415504&#45;&gt;132736916415984</title>\n<path fill=\"none\" stroke=\"black\" d=\"M1497.43,-847.98C1507.58,-840.07 1522.92,-828.11 1535.15,-818.58\"/>\n<polygon fill=\"black\" stroke=\"black\" points=\"1537.64,-821.08 1543.38,-812.17 1533.34,-815.56 1537.64,-821.08\"/>\n</g>\n<!-- 132736916415552 -->\n<g id=\"node18\" class=\"node\">\n<title>132736916415552</title>\n<polygon fill=\"lightgrey\" stroke=\"black\" points=\"1421,-927.5 1326,-927.5 1326,-908.5 1421,-908.5 1421,-927.5\"/>\n<text text-anchor=\"middle\" x=\"1373.5\" y=\"-915.5\" font-family=\"monospace\" font-size=\"10.00\">ReluBackward0</text>\n</g>\n<!-- 132736916415552&#45;&gt;132736916415504 -->\n<g id=\"edge16\" class=\"edge\">\n<title>132736916415552&#45;&gt;132736916415504</title>\n<path fill=\"none\" stroke=\"black\" d=\"M1390.17,-908.37C1408.78,-898.73 1439.12,-883.03 1460.78,-871.81\"/>\n<polygon fill=\"black\" stroke=\"black\" points=\"1462.49,-874.87 1469.76,-867.17 1459.27,-868.66 1462.49,-874.87\"/>\n</g>\n<!-- 132736916414208 -->\n<g id=\"node19\" class=\"node\">\n<title>132736916414208</title>\n<polygon fill=\"lightgrey\" stroke=\"black\" points=\"1454,-993.5 1293,-993.5 1293,-974.5 1454,-974.5 1454,-993.5\"/>\n<text text-anchor=\"middle\" x=\"1373.5\" y=\"-981.5\" font-family=\"monospace\" font-size=\"10.00\">NativeBatchNormBackward0</text>\n</g>\n<!-- 132736916414208&#45;&gt;132736916415552 -->\n<g id=\"edge17\" class=\"edge\">\n<title>132736916414208&#45;&gt;132736916415552</title>\n<path fill=\"none\" stroke=\"black\" d=\"M1373.5,-974.37C1373.5,-965.16 1373.5,-950.29 1373.5,-938.27\"/>\n<polygon fill=\"black\" stroke=\"black\" points=\"1377,-937.91 1373.5,-927.91 1370,-937.91 1377,-937.91\"/>\n</g>\n<!-- 132736916022288 -->\n<g id=\"node20\" class=\"node\">\n<title>132736916022288</title>\n<polygon fill=\"lightgrey\" stroke=\"black\" points=\"1374,-1054 1237,-1054 1237,-1035 1374,-1035 1374,-1054\"/>\n<text text-anchor=\"middle\" x=\"1305.5\" y=\"-1042\" font-family=\"monospace\" font-size=\"10.00\">ConvolutionBackward0</text>\n</g>\n<!-- 132736916022288&#45;&gt;132736916414208 -->\n<g id=\"edge18\" class=\"edge\">\n<title>132736916022288&#45;&gt;132736916414208</title>\n<path fill=\"none\" stroke=\"black\" d=\"M1315.53,-1034.87C1326.08,-1025.8 1342.89,-1011.34 1355.69,-1000.32\"/>\n<polygon fill=\"black\" stroke=\"black\" points=\"1358.13,-1002.84 1363.43,-993.67 1353.56,-997.54 1358.13,-1002.84\"/>\n</g>\n<!-- 132736979855024 -->\n<g id=\"node21\" class=\"node\">\n<title>132736979855024</title>\n<polygon fill=\"lightgrey\" stroke=\"black\" points=\"1240,-1114.5 1145,-1114.5 1145,-1095.5 1240,-1095.5 1240,-1114.5\"/>\n<text text-anchor=\"middle\" x=\"1192.5\" y=\"-1102.5\" font-family=\"monospace\" font-size=\"10.00\">ReluBackward0</text>\n</g>\n<!-- 132736979855024&#45;&gt;132736916022288 -->\n<g id=\"edge19\" class=\"edge\">\n<title>132736979855024&#45;&gt;132736916022288</title>\n<path fill=\"none\" stroke=\"black\" d=\"M1209.17,-1095.37C1227.78,-1085.73 1258.12,-1070.03 1279.78,-1058.81\"/>\n<polygon fill=\"black\" stroke=\"black\" points=\"1281.49,-1061.87 1288.76,-1054.17 1278.27,-1055.66 1281.49,-1061.87\"/>\n</g>\n<!-- 132737155826448 -->\n<g id=\"node174\" class=\"node\">\n<title>132737155826448</title>\n<polygon fill=\"lightgrey\" stroke=\"black\" points=\"1145,-1054 1008,-1054 1008,-1035 1145,-1035 1145,-1054\"/>\n<text text-anchor=\"middle\" x=\"1076.5\" y=\"-1042\" font-family=\"monospace\" font-size=\"10.00\">ConvolutionBackward0</text>\n</g>\n<!-- 132736979855024&#45;&gt;132737155826448 -->\n<g id=\"edge179\" class=\"edge\">\n<title>132736979855024&#45;&gt;132737155826448</title>\n<path fill=\"none\" stroke=\"black\" d=\"M1175.38,-1095.37C1156.28,-1085.73 1125.13,-1070.03 1102.9,-1058.81\"/>\n<polygon fill=\"black\" stroke=\"black\" points=\"1104.19,-1055.55 1093.69,-1054.17 1101.04,-1061.8 1104.19,-1055.55\"/>\n</g>\n<!-- 132736979849072 -->\n<g id=\"node22\" class=\"node\">\n<title>132736979849072</title>\n<polygon fill=\"lightgrey\" stroke=\"black\" points=\"1237,-1180.5 1148,-1180.5 1148,-1161.5 1237,-1161.5 1237,-1180.5\"/>\n<text text-anchor=\"middle\" x=\"1192.5\" y=\"-1168.5\" font-family=\"monospace\" font-size=\"10.00\">AddBackward0</text>\n</g>\n<!-- 132736979849072&#45;&gt;132736979855024 -->\n<g id=\"edge20\" class=\"edge\">\n<title>132736979849072&#45;&gt;132736979855024</title>\n<path fill=\"none\" stroke=\"black\" d=\"M1192.5,-1161.37C1192.5,-1152.16 1192.5,-1137.29 1192.5,-1125.27\"/>\n<polygon fill=\"black\" stroke=\"black\" points=\"1196,-1124.91 1192.5,-1114.91 1189,-1124.91 1196,-1124.91\"/>\n</g>\n<!-- 132736979854352 -->\n<g id=\"node23\" class=\"node\">\n<title>132736979854352</title>\n<polygon fill=\"lightgrey\" stroke=\"black\" points=\"1449,-1241 1288,-1241 1288,-1222 1449,-1222 1449,-1241\"/>\n<text text-anchor=\"middle\" x=\"1368.5\" y=\"-1229\" font-family=\"monospace\" font-size=\"10.00\">NativeBatchNormBackward0</text>\n</g>\n<!-- 132736979854352&#45;&gt;132736979849072 -->\n<g id=\"edge21\" class=\"edge\">\n<title>132736979854352&#45;&gt;132736979849072</title>\n<path fill=\"none\" stroke=\"black\" d=\"M1342.91,-1221.99C1312.54,-1211.9 1261.74,-1195.01 1227.68,-1183.69\"/>\n<polygon fill=\"black\" stroke=\"black\" points=\"1228.72,-1180.35 1218.12,-1180.52 1226.51,-1186.99 1228.72,-1180.35\"/>\n</g>\n<!-- 132736981180640 -->\n<g id=\"node24\" class=\"node\">\n<title>132736981180640</title>\n<polygon fill=\"lightgrey\" stroke=\"black\" points=\"1369,-1296 1232,-1296 1232,-1277 1369,-1277 1369,-1296\"/>\n<text text-anchor=\"middle\" x=\"1300.5\" y=\"-1284\" font-family=\"monospace\" font-size=\"10.00\">ConvolutionBackward0</text>\n</g>\n<!-- 132736981180640&#45;&gt;132736979854352 -->\n<g id=\"edge22\" class=\"edge\">\n<title>132736981180640&#45;&gt;132736979854352</title>\n<path fill=\"none\" stroke=\"black\" d=\"M1311.43,-1276.98C1321.58,-1269.07 1336.92,-1257.11 1349.15,-1247.58\"/>\n<polygon fill=\"black\" stroke=\"black\" points=\"1351.64,-1250.08 1357.38,-1241.17 1347.34,-1244.56 1351.64,-1250.08\"/>\n</g>\n<!-- 132740944224960 -->\n<g id=\"node25\" class=\"node\">\n<title>132740944224960</title>\n<polygon fill=\"lightgrey\" stroke=\"black\" points=\"1235,-1356.5 1140,-1356.5 1140,-1337.5 1235,-1337.5 1235,-1356.5\"/>\n<text text-anchor=\"middle\" x=\"1187.5\" y=\"-1344.5\" font-family=\"monospace\" font-size=\"10.00\">ReluBackward0</text>\n</g>\n<!-- 132740944224960&#45;&gt;132736981180640 -->\n<g id=\"edge23\" class=\"edge\">\n<title>132740944224960&#45;&gt;132736981180640</title>\n<path fill=\"none\" stroke=\"black\" d=\"M1204.17,-1337.37C1222.78,-1327.73 1253.12,-1312.03 1274.78,-1300.81\"/>\n<polygon fill=\"black\" stroke=\"black\" points=\"1276.49,-1303.87 1283.76,-1296.17 1273.27,-1297.66 1276.49,-1303.87\"/>\n</g>\n<!-- 132736914948448 -->\n<g id=\"node26\" class=\"node\">\n<title>132736914948448</title>\n<polygon fill=\"lightgrey\" stroke=\"black\" points=\"1268,-1422.5 1107,-1422.5 1107,-1403.5 1268,-1403.5 1268,-1422.5\"/>\n<text text-anchor=\"middle\" x=\"1187.5\" y=\"-1410.5\" font-family=\"monospace\" font-size=\"10.00\">NativeBatchNormBackward0</text>\n</g>\n<!-- 132736914948448&#45;&gt;132740944224960 -->\n<g id=\"edge24\" class=\"edge\">\n<title>132736914948448&#45;&gt;132740944224960</title>\n<path fill=\"none\" stroke=\"black\" d=\"M1187.5,-1403.37C1187.5,-1394.16 1187.5,-1379.29 1187.5,-1367.27\"/>\n<polygon fill=\"black\" stroke=\"black\" points=\"1191,-1366.91 1187.5,-1356.91 1184,-1366.91 1191,-1366.91\"/>\n</g>\n<!-- 132736914948544 -->\n<g id=\"node27\" class=\"node\">\n<title>132736914948544</title>\n<polygon fill=\"lightgrey\" stroke=\"black\" points=\"1190,-1483 1053,-1483 1053,-1464 1190,-1464 1190,-1483\"/>\n<text text-anchor=\"middle\" x=\"1121.5\" y=\"-1471\" font-family=\"monospace\" font-size=\"10.00\">ConvolutionBackward0</text>\n</g>\n<!-- 132736914948544&#45;&gt;132736914948448 -->\n<g id=\"edge25\" class=\"edge\">\n<title>132736914948544&#45;&gt;132736914948448</title>\n<path fill=\"none\" stroke=\"black\" d=\"M1131.24,-1463.87C1141.47,-1454.8 1157.79,-1440.34 1170.22,-1429.32\"/>\n<polygon fill=\"black\" stroke=\"black\" points=\"1172.56,-1431.92 1177.72,-1422.67 1167.92,-1426.68 1172.56,-1431.92\"/>\n</g>\n<!-- 132736981183616 -->\n<g id=\"node28\" class=\"node\">\n<title>132736981183616</title>\n<polygon fill=\"lightgrey\" stroke=\"black\" points=\"1056,-1543.5 961,-1543.5 961,-1524.5 1056,-1524.5 1056,-1543.5\"/>\n<text text-anchor=\"middle\" x=\"1008.5\" y=\"-1531.5\" font-family=\"monospace\" font-size=\"10.00\">ReluBackward0</text>\n</g>\n<!-- 132736981183616&#45;&gt;132736979849072 -->\n<g id=\"edge164\" class=\"edge\">\n<title>132736981183616&#45;&gt;132736979849072</title>\n<path fill=\"none\" stroke=\"black\" d=\"M1009.48,-1524.35C1011.62,-1504.75 1016.5,-1455.41 1016.5,-1414 1016.5,-1414 1016.5,-1414 1016.5,-1285.5 1016.5,-1251.33 1111.39,-1206.15 1161.82,-1184.55\"/>\n<polygon fill=\"black\" stroke=\"black\" points=\"1163.42,-1187.67 1171.27,-1180.55 1160.7,-1181.22 1163.42,-1187.67\"/>\n</g>\n<!-- 132736981183616&#45;&gt;132736914948544 -->\n<g id=\"edge26\" class=\"edge\">\n<title>132736981183616&#45;&gt;132736914948544</title>\n<path fill=\"none\" stroke=\"black\" d=\"M1025.17,-1524.37C1043.78,-1514.73 1074.12,-1499.03 1095.78,-1487.81\"/>\n<polygon fill=\"black\" stroke=\"black\" points=\"1097.49,-1490.87 1104.76,-1483.17 1094.27,-1484.66 1097.49,-1490.87\"/>\n</g>\n<!-- 132736914948832 -->\n<g id=\"node29\" class=\"node\">\n<title>132736914948832</title>\n<polygon fill=\"lightgrey\" stroke=\"black\" points=\"1044,-1609.5 955,-1609.5 955,-1590.5 1044,-1590.5 1044,-1609.5\"/>\n<text text-anchor=\"middle\" x=\"999.5\" y=\"-1597.5\" font-family=\"monospace\" font-size=\"10.00\">AddBackward0</text>\n</g>\n<!-- 132736914948832&#45;&gt;132736981183616 -->\n<g id=\"edge27\" class=\"edge\">\n<title>132736914948832&#45;&gt;132736981183616</title>\n<path fill=\"none\" stroke=\"black\" d=\"M1000.71,-1590.37C1002.02,-1581.07 1004.14,-1565.98 1005.84,-1553.9\"/>\n<polygon fill=\"black\" stroke=\"black\" points=\"1009.32,-1554.3 1007.25,-1543.91 1002.39,-1553.32 1009.32,-1554.3\"/>\n</g>\n<!-- 132736914948928 -->\n<g id=\"node30\" class=\"node\">\n<title>132736914948928</title>\n<polygon fill=\"lightgrey\" stroke=\"black\" points=\"1319,-1670 1158,-1670 1158,-1651 1319,-1651 1319,-1670\"/>\n<text text-anchor=\"middle\" x=\"1238.5\" y=\"-1658\" font-family=\"monospace\" font-size=\"10.00\">NativeBatchNormBackward0</text>\n</g>\n<!-- 132736914948928&#45;&gt;132736914948832 -->\n<g id=\"edge28\" class=\"edge\">\n<title>132736914948928&#45;&gt;132736914948832</title>\n<path fill=\"none\" stroke=\"black\" d=\"M1201.73,-1650.97C1164.17,-1642.2 1104.18,-1628.01 1052.5,-1615 1048.87,-1614.09 1045.11,-1613.12 1041.34,-1612.15\"/>\n<polygon fill=\"black\" stroke=\"black\" points=\"1041.98,-1608.7 1031.42,-1609.56 1040.21,-1615.47 1041.98,-1608.7\"/>\n</g>\n<!-- 132736914949072 -->\n<g id=\"node31\" class=\"node\">\n<title>132736914949072</title>\n<polygon fill=\"lightgrey\" stroke=\"black\" points=\"1239,-1725 1102,-1725 1102,-1706 1239,-1706 1239,-1725\"/>\n<text text-anchor=\"middle\" x=\"1170.5\" y=\"-1713\" font-family=\"monospace\" font-size=\"10.00\">ConvolutionBackward0</text>\n</g>\n<!-- 132736914949072&#45;&gt;132736914948928 -->\n<g id=\"edge29\" class=\"edge\">\n<title>132736914949072&#45;&gt;132736914948928</title>\n<path fill=\"none\" stroke=\"black\" d=\"M1181.43,-1705.98C1191.58,-1698.07 1206.92,-1686.11 1219.15,-1676.58\"/>\n<polygon fill=\"black\" stroke=\"black\" points=\"1221.64,-1679.08 1227.38,-1670.17 1217.34,-1673.56 1221.64,-1679.08\"/>\n</g>\n<!-- 132736914949264 -->\n<g id=\"node32\" class=\"node\">\n<title>132736914949264</title>\n<polygon fill=\"lightgrey\" stroke=\"black\" points=\"1105,-1785.5 1010,-1785.5 1010,-1766.5 1105,-1766.5 1105,-1785.5\"/>\n<text text-anchor=\"middle\" x=\"1057.5\" y=\"-1773.5\" font-family=\"monospace\" font-size=\"10.00\">ReluBackward0</text>\n</g>\n<!-- 132736914949264&#45;&gt;132736914949072 -->\n<g id=\"edge30\" class=\"edge\">\n<title>132736914949264&#45;&gt;132736914949072</title>\n<path fill=\"none\" stroke=\"black\" d=\"M1074.17,-1766.37C1092.78,-1756.73 1123.12,-1741.03 1144.78,-1729.81\"/>\n<polygon fill=\"black\" stroke=\"black\" points=\"1146.49,-1732.87 1153.76,-1725.17 1143.27,-1726.66 1146.49,-1732.87\"/>\n</g>\n<!-- 132736914949408 -->\n<g id=\"node33\" class=\"node\">\n<title>132736914949408</title>\n<polygon fill=\"lightgrey\" stroke=\"black\" points=\"1138,-1851.5 977,-1851.5 977,-1832.5 1138,-1832.5 1138,-1851.5\"/>\n<text text-anchor=\"middle\" x=\"1057.5\" y=\"-1839.5\" font-family=\"monospace\" font-size=\"10.00\">NativeBatchNormBackward0</text>\n</g>\n<!-- 132736914949408&#45;&gt;132736914949264 -->\n<g id=\"edge31\" class=\"edge\">\n<title>132736914949408&#45;&gt;132736914949264</title>\n<path fill=\"none\" stroke=\"black\" d=\"M1057.5,-1832.37C1057.5,-1823.16 1057.5,-1808.29 1057.5,-1796.27\"/>\n<polygon fill=\"black\" stroke=\"black\" points=\"1061,-1795.91 1057.5,-1785.91 1054,-1795.91 1061,-1795.91\"/>\n</g>\n<!-- 132736914949504 -->\n<g id=\"node34\" class=\"node\">\n<title>132736914949504</title>\n<polygon fill=\"lightgrey\" stroke=\"black\" points=\"1058,-1912 921,-1912 921,-1893 1058,-1893 1058,-1912\"/>\n<text text-anchor=\"middle\" x=\"989.5\" y=\"-1900\" font-family=\"monospace\" font-size=\"10.00\">ConvolutionBackward0</text>\n</g>\n<!-- 132736914949504&#45;&gt;132736914949408 -->\n<g id=\"edge32\" class=\"edge\">\n<title>132736914949504&#45;&gt;132736914949408</title>\n<path fill=\"none\" stroke=\"black\" d=\"M999.53,-1892.87C1010.08,-1883.8 1026.89,-1869.34 1039.69,-1858.32\"/>\n<polygon fill=\"black\" stroke=\"black\" points=\"1042.13,-1860.84 1047.43,-1851.67 1037.56,-1855.54 1042.13,-1860.84\"/>\n</g>\n<!-- 132736914949696 -->\n<g id=\"node35\" class=\"node\">\n<title>132736914949696</title>\n<polygon fill=\"lightgrey\" stroke=\"black\" points=\"924,-1972.5 829,-1972.5 829,-1953.5 924,-1953.5 924,-1972.5\"/>\n<text text-anchor=\"middle\" x=\"876.5\" y=\"-1960.5\" font-family=\"monospace\" font-size=\"10.00\">ReluBackward0</text>\n</g>\n<!-- 132736914949696&#45;&gt;132736914949504 -->\n<g id=\"edge33\" class=\"edge\">\n<title>132736914949696&#45;&gt;132736914949504</title>\n<path fill=\"none\" stroke=\"black\" d=\"M893.17,-1953.37C911.78,-1943.73 942.12,-1928.03 963.78,-1916.81\"/>\n<polygon fill=\"black\" stroke=\"black\" points=\"965.49,-1919.87 972.76,-1912.17 962.27,-1913.66 965.49,-1919.87\"/>\n</g>\n<!-- 132736914949600 -->\n<g id=\"node142\" class=\"node\">\n<title>132736914949600</title>\n<polygon fill=\"lightgrey\" stroke=\"black\" points=\"829,-1912 692,-1912 692,-1893 829,-1893 829,-1912\"/>\n<text text-anchor=\"middle\" x=\"760.5\" y=\"-1900\" font-family=\"monospace\" font-size=\"10.00\">ConvolutionBackward0</text>\n</g>\n<!-- 132736914949696&#45;&gt;132736914949600 -->\n<g id=\"edge145\" class=\"edge\">\n<title>132736914949696&#45;&gt;132736914949600</title>\n<path fill=\"none\" stroke=\"black\" d=\"M859.38,-1953.37C840.28,-1943.73 809.13,-1928.03 786.9,-1916.81\"/>\n<polygon fill=\"black\" stroke=\"black\" points=\"788.19,-1913.55 777.69,-1912.17 785.04,-1919.8 788.19,-1913.55\"/>\n</g>\n<!-- 132736914949840 -->\n<g id=\"node36\" class=\"node\">\n<title>132736914949840</title>\n<polygon fill=\"lightgrey\" stroke=\"black\" points=\"921,-2038.5 832,-2038.5 832,-2019.5 921,-2019.5 921,-2038.5\"/>\n<text text-anchor=\"middle\" x=\"876.5\" y=\"-2026.5\" font-family=\"monospace\" font-size=\"10.00\">AddBackward0</text>\n</g>\n<!-- 132736914949840&#45;&gt;132736914949696 -->\n<g id=\"edge34\" class=\"edge\">\n<title>132736914949840&#45;&gt;132736914949696</title>\n<path fill=\"none\" stroke=\"black\" d=\"M876.5,-2019.37C876.5,-2010.16 876.5,-1995.29 876.5,-1983.27\"/>\n<polygon fill=\"black\" stroke=\"black\" points=\"880,-1982.91 876.5,-1972.91 873,-1982.91 880,-1982.91\"/>\n</g>\n<!-- 132736914949936 -->\n<g id=\"node37\" class=\"node\">\n<title>132736914949936</title>\n<polygon fill=\"lightgrey\" stroke=\"black\" points=\"1133,-2099 972,-2099 972,-2080 1133,-2080 1133,-2099\"/>\n<text text-anchor=\"middle\" x=\"1052.5\" y=\"-2087\" font-family=\"monospace\" font-size=\"10.00\">NativeBatchNormBackward0</text>\n</g>\n<!-- 132736914949936&#45;&gt;132736914949840 -->\n<g id=\"edge35\" class=\"edge\">\n<title>132736914949936&#45;&gt;132736914949840</title>\n<path fill=\"none\" stroke=\"black\" d=\"M1026.91,-2079.99C996.54,-2069.9 945.74,-2053.01 911.68,-2041.69\"/>\n<polygon fill=\"black\" stroke=\"black\" points=\"912.72,-2038.35 902.12,-2038.52 910.51,-2044.99 912.72,-2038.35\"/>\n</g>\n<!-- 132736914950080 -->\n<g id=\"node38\" class=\"node\">\n<title>132736914950080</title>\n<polygon fill=\"lightgrey\" stroke=\"black\" points=\"1053,-2154 916,-2154 916,-2135 1053,-2135 1053,-2154\"/>\n<text text-anchor=\"middle\" x=\"984.5\" y=\"-2142\" font-family=\"monospace\" font-size=\"10.00\">ConvolutionBackward0</text>\n</g>\n<!-- 132736914950080&#45;&gt;132736914949936 -->\n<g id=\"edge36\" class=\"edge\">\n<title>132736914950080&#45;&gt;132736914949936</title>\n<path fill=\"none\" stroke=\"black\" d=\"M995.43,-2134.98C1005.58,-2127.07 1020.92,-2115.11 1033.15,-2105.58\"/>\n<polygon fill=\"black\" stroke=\"black\" points=\"1035.64,-2108.08 1041.38,-2099.17 1031.34,-2102.56 1035.64,-2108.08\"/>\n</g>\n<!-- 132736914950272 -->\n<g id=\"node39\" class=\"node\">\n<title>132736914950272</title>\n<polygon fill=\"lightgrey\" stroke=\"black\" points=\"919,-2214.5 824,-2214.5 824,-2195.5 919,-2195.5 919,-2214.5\"/>\n<text text-anchor=\"middle\" x=\"871.5\" y=\"-2202.5\" font-family=\"monospace\" font-size=\"10.00\">ReluBackward0</text>\n</g>\n<!-- 132736914950272&#45;&gt;132736914950080 -->\n<g id=\"edge37\" class=\"edge\">\n<title>132736914950272&#45;&gt;132736914950080</title>\n<path fill=\"none\" stroke=\"black\" d=\"M888.17,-2195.37C906.78,-2185.73 937.12,-2170.03 958.78,-2158.81\"/>\n<polygon fill=\"black\" stroke=\"black\" points=\"960.49,-2161.87 967.76,-2154.17 957.27,-2155.66 960.49,-2161.87\"/>\n</g>\n<!-- 132736914950416 -->\n<g id=\"node40\" class=\"node\">\n<title>132736914950416</title>\n<polygon fill=\"lightgrey\" stroke=\"black\" points=\"952,-2280.5 791,-2280.5 791,-2261.5 952,-2261.5 952,-2280.5\"/>\n<text text-anchor=\"middle\" x=\"871.5\" y=\"-2268.5\" font-family=\"monospace\" font-size=\"10.00\">NativeBatchNormBackward0</text>\n</g>\n<!-- 132736914950416&#45;&gt;132736914950272 -->\n<g id=\"edge38\" class=\"edge\">\n<title>132736914950416&#45;&gt;132736914950272</title>\n<path fill=\"none\" stroke=\"black\" d=\"M871.5,-2261.37C871.5,-2252.16 871.5,-2237.29 871.5,-2225.27\"/>\n<polygon fill=\"black\" stroke=\"black\" points=\"875,-2224.91 871.5,-2214.91 868,-2224.91 875,-2224.91\"/>\n</g>\n<!-- 132736914950512 -->\n<g id=\"node41\" class=\"node\">\n<title>132736914950512</title>\n<polygon fill=\"lightgrey\" stroke=\"black\" points=\"874,-2341 737,-2341 737,-2322 874,-2322 874,-2341\"/>\n<text text-anchor=\"middle\" x=\"805.5\" y=\"-2329\" font-family=\"monospace\" font-size=\"10.00\">ConvolutionBackward0</text>\n</g>\n<!-- 132736914950512&#45;&gt;132736914950416 -->\n<g id=\"edge39\" class=\"edge\">\n<title>132736914950512&#45;&gt;132736914950416</title>\n<path fill=\"none\" stroke=\"black\" d=\"M815.24,-2321.87C825.47,-2312.8 841.79,-2298.34 854.22,-2287.32\"/>\n<polygon fill=\"black\" stroke=\"black\" points=\"856.56,-2289.92 861.72,-2280.67 851.92,-2284.68 856.56,-2289.92\"/>\n</g>\n<!-- 132736914949888 -->\n<g id=\"node42\" class=\"node\">\n<title>132736914949888</title>\n<polygon fill=\"lightgrey\" stroke=\"black\" points=\"740,-2401.5 645,-2401.5 645,-2382.5 740,-2382.5 740,-2401.5\"/>\n<text text-anchor=\"middle\" x=\"692.5\" y=\"-2389.5\" font-family=\"monospace\" font-size=\"10.00\">ReluBackward0</text>\n</g>\n<!-- 132736914949888&#45;&gt;132736914949840 -->\n<g id=\"edge130\" class=\"edge\">\n<title>132736914949888&#45;&gt;132736914949840</title>\n<path fill=\"none\" stroke=\"black\" d=\"M693.48,-2382.35C695.62,-2362.75 700.5,-2313.41 700.5,-2272 700.5,-2272 700.5,-2272 700.5,-2143.5 700.5,-2109.33 795.39,-2064.15 845.82,-2042.55\"/>\n<polygon fill=\"black\" stroke=\"black\" points=\"847.42,-2045.67 855.27,-2038.55 844.7,-2039.22 847.42,-2045.67\"/>\n</g>\n<!-- 132736914949888&#45;&gt;132736914950512 -->\n<g id=\"edge40\" class=\"edge\">\n<title>132736914949888&#45;&gt;132736914950512</title>\n<path fill=\"none\" stroke=\"black\" d=\"M709.17,-2382.37C727.78,-2372.73 758.12,-2357.03 779.78,-2345.81\"/>\n<polygon fill=\"black\" stroke=\"black\" points=\"781.49,-2348.87 788.76,-2341.17 778.27,-2342.66 781.49,-2348.87\"/>\n</g>\n<!-- 132736914950800 -->\n<g id=\"node43\" class=\"node\">\n<title>132736914950800</title>\n<polygon fill=\"lightgrey\" stroke=\"black\" points=\"728,-2467.5 639,-2467.5 639,-2448.5 728,-2448.5 728,-2467.5\"/>\n<text text-anchor=\"middle\" x=\"683.5\" y=\"-2455.5\" font-family=\"monospace\" font-size=\"10.00\">AddBackward0</text>\n</g>\n<!-- 132736914950800&#45;&gt;132736914949888 -->\n<g id=\"edge41\" class=\"edge\">\n<title>132736914950800&#45;&gt;132736914949888</title>\n<path fill=\"none\" stroke=\"black\" d=\"M684.71,-2448.37C686.02,-2439.07 688.14,-2423.98 689.84,-2411.9\"/>\n<polygon fill=\"black\" stroke=\"black\" points=\"693.32,-2412.3 691.25,-2401.91 686.39,-2411.32 693.32,-2412.3\"/>\n</g>\n<!-- 132736914950896 -->\n<g id=\"node44\" class=\"node\">\n<title>132736914950896</title>\n<polygon fill=\"lightgrey\" stroke=\"black\" points=\"1003,-2528 842,-2528 842,-2509 1003,-2509 1003,-2528\"/>\n<text text-anchor=\"middle\" x=\"922.5\" y=\"-2516\" font-family=\"monospace\" font-size=\"10.00\">NativeBatchNormBackward0</text>\n</g>\n<!-- 132736914950896&#45;&gt;132736914950800 -->\n<g id=\"edge42\" class=\"edge\">\n<title>132736914950896&#45;&gt;132736914950800</title>\n<path fill=\"none\" stroke=\"black\" d=\"M885.73,-2508.97C848.17,-2500.2 788.18,-2486.01 736.5,-2473 732.87,-2472.09 729.11,-2471.12 725.34,-2470.15\"/>\n<polygon fill=\"black\" stroke=\"black\" points=\"725.98,-2466.7 715.42,-2467.56 724.21,-2473.47 725.98,-2466.7\"/>\n</g>\n<!-- 132736914951040 -->\n<g id=\"node45\" class=\"node\">\n<title>132736914951040</title>\n<polygon fill=\"lightgrey\" stroke=\"black\" points=\"923,-2583 786,-2583 786,-2564 923,-2564 923,-2583\"/>\n<text text-anchor=\"middle\" x=\"854.5\" y=\"-2571\" font-family=\"monospace\" font-size=\"10.00\">ConvolutionBackward0</text>\n</g>\n<!-- 132736914951040&#45;&gt;132736914950896 -->\n<g id=\"edge43\" class=\"edge\">\n<title>132736914951040&#45;&gt;132736914950896</title>\n<path fill=\"none\" stroke=\"black\" d=\"M865.43,-2563.98C875.58,-2556.07 890.92,-2544.11 903.15,-2534.58\"/>\n<polygon fill=\"black\" stroke=\"black\" points=\"905.64,-2537.08 911.38,-2528.17 901.34,-2531.56 905.64,-2537.08\"/>\n</g>\n<!-- 132736914951232 -->\n<g id=\"node46\" class=\"node\">\n<title>132736914951232</title>\n<polygon fill=\"lightgrey\" stroke=\"black\" points=\"789,-2643.5 694,-2643.5 694,-2624.5 789,-2624.5 789,-2643.5\"/>\n<text text-anchor=\"middle\" x=\"741.5\" y=\"-2631.5\" font-family=\"monospace\" font-size=\"10.00\">ReluBackward0</text>\n</g>\n<!-- 132736914951232&#45;&gt;132736914951040 -->\n<g id=\"edge44\" class=\"edge\">\n<title>132736914951232&#45;&gt;132736914951040</title>\n<path fill=\"none\" stroke=\"black\" d=\"M758.17,-2624.37C776.78,-2614.73 807.12,-2599.03 828.78,-2587.81\"/>\n<polygon fill=\"black\" stroke=\"black\" points=\"830.49,-2590.87 837.76,-2583.17 827.27,-2584.66 830.49,-2590.87\"/>\n</g>\n<!-- 132736914951376 -->\n<g id=\"node47\" class=\"node\">\n<title>132736914951376</title>\n<polygon fill=\"lightgrey\" stroke=\"black\" points=\"822,-2709.5 661,-2709.5 661,-2690.5 822,-2690.5 822,-2709.5\"/>\n<text text-anchor=\"middle\" x=\"741.5\" y=\"-2697.5\" font-family=\"monospace\" font-size=\"10.00\">NativeBatchNormBackward0</text>\n</g>\n<!-- 132736914951376&#45;&gt;132736914951232 -->\n<g id=\"edge45\" class=\"edge\">\n<title>132736914951376&#45;&gt;132736914951232</title>\n<path fill=\"none\" stroke=\"black\" d=\"M741.5,-2690.37C741.5,-2681.16 741.5,-2666.29 741.5,-2654.27\"/>\n<polygon fill=\"black\" stroke=\"black\" points=\"745,-2653.91 741.5,-2643.91 738,-2653.91 745,-2653.91\"/>\n</g>\n<!-- 132736914951472 -->\n<g id=\"node48\" class=\"node\">\n<title>132736914951472</title>\n<polygon fill=\"lightgrey\" stroke=\"black\" points=\"742,-2770 605,-2770 605,-2751 742,-2751 742,-2770\"/>\n<text text-anchor=\"middle\" x=\"673.5\" y=\"-2758\" font-family=\"monospace\" font-size=\"10.00\">ConvolutionBackward0</text>\n</g>\n<!-- 132736914951472&#45;&gt;132736914951376 -->\n<g id=\"edge46\" class=\"edge\">\n<title>132736914951472&#45;&gt;132736914951376</title>\n<path fill=\"none\" stroke=\"black\" d=\"M683.53,-2750.87C694.08,-2741.8 710.89,-2727.34 723.69,-2716.32\"/>\n<polygon fill=\"black\" stroke=\"black\" points=\"726.13,-2718.84 731.43,-2709.67 721.56,-2713.54 726.13,-2718.84\"/>\n</g>\n<!-- 132736914951664 -->\n<g id=\"node49\" class=\"node\">\n<title>132736914951664</title>\n<polygon fill=\"lightgrey\" stroke=\"black\" points=\"608,-2830.5 513,-2830.5 513,-2811.5 608,-2811.5 608,-2830.5\"/>\n<text text-anchor=\"middle\" x=\"560.5\" y=\"-2818.5\" font-family=\"monospace\" font-size=\"10.00\">ReluBackward0</text>\n</g>\n<!-- 132736914951664&#45;&gt;132736914951472 -->\n<g id=\"edge47\" class=\"edge\">\n<title>132736914951664&#45;&gt;132736914951472</title>\n<path fill=\"none\" stroke=\"black\" d=\"M577.17,-2811.37C595.78,-2801.73 626.12,-2786.03 647.78,-2774.81\"/>\n<polygon fill=\"black\" stroke=\"black\" points=\"649.49,-2777.87 656.76,-2770.17 646.27,-2771.66 649.49,-2777.87\"/>\n</g>\n<!-- 132736914951568 -->\n<g id=\"node110\" class=\"node\">\n<title>132736914951568</title>\n<polygon fill=\"lightgrey\" stroke=\"black\" points=\"513,-2770 376,-2770 376,-2751 513,-2751 513,-2770\"/>\n<text text-anchor=\"middle\" x=\"444.5\" y=\"-2758\" font-family=\"monospace\" font-size=\"10.00\">ConvolutionBackward0</text>\n</g>\n<!-- 132736914951664&#45;&gt;132736914951568 -->\n<g id=\"edge111\" class=\"edge\">\n<title>132736914951664&#45;&gt;132736914951568</title>\n<path fill=\"none\" stroke=\"black\" d=\"M543.38,-2811.37C524.28,-2801.73 493.13,-2786.03 470.9,-2774.81\"/>\n<polygon fill=\"black\" stroke=\"black\" points=\"472.19,-2771.55 461.69,-2770.17 469.04,-2777.8 472.19,-2771.55\"/>\n</g>\n<!-- 132736914951808 -->\n<g id=\"node50\" class=\"node\">\n<title>132736914951808</title>\n<polygon fill=\"lightgrey\" stroke=\"black\" points=\"605,-2896.5 516,-2896.5 516,-2877.5 605,-2877.5 605,-2896.5\"/>\n<text text-anchor=\"middle\" x=\"560.5\" y=\"-2884.5\" font-family=\"monospace\" font-size=\"10.00\">AddBackward0</text>\n</g>\n<!-- 132736914951808&#45;&gt;132736914951664 -->\n<g id=\"edge48\" class=\"edge\">\n<title>132736914951808&#45;&gt;132736914951664</title>\n<path fill=\"none\" stroke=\"black\" d=\"M560.5,-2877.37C560.5,-2868.16 560.5,-2853.29 560.5,-2841.27\"/>\n<polygon fill=\"black\" stroke=\"black\" points=\"564,-2840.91 560.5,-2830.91 557,-2840.91 564,-2840.91\"/>\n</g>\n<!-- 132736914951856 -->\n<g id=\"node51\" class=\"node\">\n<title>132736914951856</title>\n<polygon fill=\"lightgrey\" stroke=\"black\" points=\"817,-2957 656,-2957 656,-2938 817,-2938 817,-2957\"/>\n<text text-anchor=\"middle\" x=\"736.5\" y=\"-2945\" font-family=\"monospace\" font-size=\"10.00\">NativeBatchNormBackward0</text>\n</g>\n<!-- 132736914951856&#45;&gt;132736914951808 -->\n<g id=\"edge49\" class=\"edge\">\n<title>132736914951856&#45;&gt;132736914951808</title>\n<path fill=\"none\" stroke=\"black\" d=\"M710.91,-2937.99C680.54,-2927.9 629.74,-2911.01 595.68,-2899.69\"/>\n<polygon fill=\"black\" stroke=\"black\" points=\"596.72,-2896.35 586.12,-2896.52 594.51,-2902.99 596.72,-2896.35\"/>\n</g>\n<!-- 132736914952096 -->\n<g id=\"node52\" class=\"node\">\n<title>132736914952096</title>\n<polygon fill=\"lightgrey\" stroke=\"black\" points=\"737,-3012 600,-3012 600,-2993 737,-2993 737,-3012\"/>\n<text text-anchor=\"middle\" x=\"668.5\" y=\"-3000\" font-family=\"monospace\" font-size=\"10.00\">ConvolutionBackward0</text>\n</g>\n<!-- 132736914952096&#45;&gt;132736914951856 -->\n<g id=\"edge50\" class=\"edge\">\n<title>132736914952096&#45;&gt;132736914951856</title>\n<path fill=\"none\" stroke=\"black\" d=\"M679.43,-2992.98C689.58,-2985.07 704.92,-2973.11 717.15,-2963.58\"/>\n<polygon fill=\"black\" stroke=\"black\" points=\"719.64,-2966.08 725.38,-2957.17 715.34,-2960.56 719.64,-2966.08\"/>\n</g>\n<!-- 132736914952288 -->\n<g id=\"node53\" class=\"node\">\n<title>132736914952288</title>\n<polygon fill=\"lightgrey\" stroke=\"black\" points=\"603,-3072.5 508,-3072.5 508,-3053.5 603,-3053.5 603,-3072.5\"/>\n<text text-anchor=\"middle\" x=\"555.5\" y=\"-3060.5\" font-family=\"monospace\" font-size=\"10.00\">ReluBackward0</text>\n</g>\n<!-- 132736914952288&#45;&gt;132736914952096 -->\n<g id=\"edge51\" class=\"edge\">\n<title>132736914952288&#45;&gt;132736914952096</title>\n<path fill=\"none\" stroke=\"black\" d=\"M572.17,-3053.37C590.78,-3043.73 621.12,-3028.03 642.78,-3016.81\"/>\n<polygon fill=\"black\" stroke=\"black\" points=\"644.49,-3019.87 651.76,-3012.17 641.27,-3013.66 644.49,-3019.87\"/>\n</g>\n<!-- 132736914952432 -->\n<g id=\"node54\" class=\"node\">\n<title>132736914952432</title>\n<polygon fill=\"lightgrey\" stroke=\"black\" points=\"636,-3138.5 475,-3138.5 475,-3119.5 636,-3119.5 636,-3138.5\"/>\n<text text-anchor=\"middle\" x=\"555.5\" y=\"-3126.5\" font-family=\"monospace\" font-size=\"10.00\">NativeBatchNormBackward0</text>\n</g>\n<!-- 132736914952432&#45;&gt;132736914952288 -->\n<g id=\"edge52\" class=\"edge\">\n<title>132736914952432&#45;&gt;132736914952288</title>\n<path fill=\"none\" stroke=\"black\" d=\"M555.5,-3119.37C555.5,-3110.16 555.5,-3095.29 555.5,-3083.27\"/>\n<polygon fill=\"black\" stroke=\"black\" points=\"559,-3082.91 555.5,-3072.91 552,-3082.91 559,-3082.91\"/>\n</g>\n<!-- 132736914952480 -->\n<g id=\"node55\" class=\"node\">\n<title>132736914952480</title>\n<polygon fill=\"lightgrey\" stroke=\"black\" points=\"558,-3199 421,-3199 421,-3180 558,-3180 558,-3199\"/>\n<text text-anchor=\"middle\" x=\"489.5\" y=\"-3187\" font-family=\"monospace\" font-size=\"10.00\">ConvolutionBackward0</text>\n</g>\n<!-- 132736914952480&#45;&gt;132736914952432 -->\n<g id=\"edge53\" class=\"edge\">\n<title>132736914952480&#45;&gt;132736914952432</title>\n<path fill=\"none\" stroke=\"black\" d=\"M499.24,-3179.87C509.47,-3170.8 525.79,-3156.34 538.22,-3145.32\"/>\n<polygon fill=\"black\" stroke=\"black\" points=\"540.56,-3147.92 545.72,-3138.67 535.92,-3142.68 540.56,-3147.92\"/>\n</g>\n<!-- 132736914951712 -->\n<g id=\"node56\" class=\"node\">\n<title>132736914951712</title>\n<polygon fill=\"lightgrey\" stroke=\"black\" points=\"424,-3259.5 329,-3259.5 329,-3240.5 424,-3240.5 424,-3259.5\"/>\n<text text-anchor=\"middle\" x=\"376.5\" y=\"-3247.5\" font-family=\"monospace\" font-size=\"10.00\">ReluBackward0</text>\n</g>\n<!-- 132736914951712&#45;&gt;132736914951808 -->\n<g id=\"edge96\" class=\"edge\">\n<title>132736914951712&#45;&gt;132736914951808</title>\n<path fill=\"none\" stroke=\"black\" d=\"M377.48,-3240.35C379.62,-3220.75 384.5,-3171.41 384.5,-3130 384.5,-3130 384.5,-3130 384.5,-3001.5 384.5,-2967.33 479.39,-2922.15 529.82,-2900.55\"/>\n<polygon fill=\"black\" stroke=\"black\" points=\"531.42,-2903.67 539.27,-2896.55 528.7,-2897.22 531.42,-2903.67\"/>\n</g>\n<!-- 132736914951712&#45;&gt;132736914952480 -->\n<g id=\"edge54\" class=\"edge\">\n<title>132736914951712&#45;&gt;132736914952480</title>\n<path fill=\"none\" stroke=\"black\" d=\"M393.17,-3240.37C411.78,-3230.73 442.12,-3215.03 463.78,-3203.81\"/>\n<polygon fill=\"black\" stroke=\"black\" points=\"465.49,-3206.87 472.76,-3199.17 462.27,-3200.66 465.49,-3206.87\"/>\n</g>\n<!-- 132736914952864 -->\n<g id=\"node57\" class=\"node\">\n<title>132736914952864</title>\n<polygon fill=\"lightgrey\" stroke=\"black\" points=\"412,-3325.5 323,-3325.5 323,-3306.5 412,-3306.5 412,-3325.5\"/>\n<text text-anchor=\"middle\" x=\"367.5\" y=\"-3313.5\" font-family=\"monospace\" font-size=\"10.00\">AddBackward0</text>\n</g>\n<!-- 132736914952864&#45;&gt;132736914951712 -->\n<g id=\"edge55\" class=\"edge\">\n<title>132736914952864&#45;&gt;132736914951712</title>\n<path fill=\"none\" stroke=\"black\" d=\"M368.71,-3306.37C370.02,-3297.07 372.14,-3281.98 373.84,-3269.9\"/>\n<polygon fill=\"black\" stroke=\"black\" points=\"377.32,-3270.3 375.25,-3259.91 370.39,-3269.32 377.32,-3270.3\"/>\n</g>\n<!-- 132736914952912 -->\n<g id=\"node58\" class=\"node\">\n<title>132736914952912</title>\n<polygon fill=\"lightgrey\" stroke=\"black\" points=\"689,-3386 528,-3386 528,-3367 689,-3367 689,-3386\"/>\n<text text-anchor=\"middle\" x=\"608.5\" y=\"-3374\" font-family=\"monospace\" font-size=\"10.00\">NativeBatchNormBackward0</text>\n</g>\n<!-- 132736914952912&#45;&gt;132736914952864 -->\n<g id=\"edge56\" class=\"edge\">\n<title>132736914952912&#45;&gt;132736914952864</title>\n<path fill=\"none\" stroke=\"black\" d=\"M570.98,-3366.92C532.98,-3358.16 472.56,-3344.03 420.5,-3331 416.87,-3330.09 413.11,-3329.13 409.33,-3328.16\"/>\n<polygon fill=\"black\" stroke=\"black\" points=\"409.98,-3324.71 399.42,-3325.57 408.21,-3331.48 409.98,-3324.71\"/>\n</g>\n<!-- 132736914953152 -->\n<g id=\"node59\" class=\"node\">\n<title>132736914953152</title>\n<polygon fill=\"lightgrey\" stroke=\"black\" points=\"609,-3441 472,-3441 472,-3422 609,-3422 609,-3441\"/>\n<text text-anchor=\"middle\" x=\"540.5\" y=\"-3429\" font-family=\"monospace\" font-size=\"10.00\">ConvolutionBackward0</text>\n</g>\n<!-- 132736914953152&#45;&gt;132736914952912 -->\n<g id=\"edge57\" class=\"edge\">\n<title>132736914953152&#45;&gt;132736914952912</title>\n<path fill=\"none\" stroke=\"black\" d=\"M551.43,-3421.98C561.58,-3414.07 576.92,-3402.11 589.15,-3392.58\"/>\n<polygon fill=\"black\" stroke=\"black\" points=\"591.64,-3395.08 597.38,-3386.17 587.34,-3389.56 591.64,-3395.08\"/>\n</g>\n<!-- 132736914953344 -->\n<g id=\"node60\" class=\"node\">\n<title>132736914953344</title>\n<polygon fill=\"lightgrey\" stroke=\"black\" points=\"475,-3501.5 380,-3501.5 380,-3482.5 475,-3482.5 475,-3501.5\"/>\n<text text-anchor=\"middle\" x=\"427.5\" y=\"-3489.5\" font-family=\"monospace\" font-size=\"10.00\">ReluBackward0</text>\n</g>\n<!-- 132736914953344&#45;&gt;132736914953152 -->\n<g id=\"edge58\" class=\"edge\">\n<title>132736914953344&#45;&gt;132736914953152</title>\n<path fill=\"none\" stroke=\"black\" d=\"M444.17,-3482.37C462.78,-3472.73 493.12,-3457.03 514.78,-3445.81\"/>\n<polygon fill=\"black\" stroke=\"black\" points=\"516.49,-3448.87 523.76,-3441.17 513.27,-3442.66 516.49,-3448.87\"/>\n</g>\n<!-- 132736914953488 -->\n<g id=\"node61\" class=\"node\">\n<title>132736914953488</title>\n<polygon fill=\"lightgrey\" stroke=\"black\" points=\"508,-3567.5 347,-3567.5 347,-3548.5 508,-3548.5 508,-3567.5\"/>\n<text text-anchor=\"middle\" x=\"427.5\" y=\"-3555.5\" font-family=\"monospace\" font-size=\"10.00\">NativeBatchNormBackward0</text>\n</g>\n<!-- 132736914953488&#45;&gt;132736914953344 -->\n<g id=\"edge59\" class=\"edge\">\n<title>132736914953488&#45;&gt;132736914953344</title>\n<path fill=\"none\" stroke=\"black\" d=\"M427.5,-3548.37C427.5,-3539.16 427.5,-3524.29 427.5,-3512.27\"/>\n<polygon fill=\"black\" stroke=\"black\" points=\"431,-3511.91 427.5,-3501.91 424,-3511.91 431,-3511.91\"/>\n</g>\n<!-- 132736914953536 -->\n<g id=\"node62\" class=\"node\">\n<title>132736914953536</title>\n<polygon fill=\"lightgrey\" stroke=\"black\" points=\"454,-3628 317,-3628 317,-3609 454,-3609 454,-3628\"/>\n<text text-anchor=\"middle\" x=\"385.5\" y=\"-3616\" font-family=\"monospace\" font-size=\"10.00\">ConvolutionBackward0</text>\n</g>\n<!-- 132736914953536&#45;&gt;132736914953488 -->\n<g id=\"edge60\" class=\"edge\">\n<title>132736914953536&#45;&gt;132736914953488</title>\n<path fill=\"none\" stroke=\"black\" d=\"M391.7,-3608.87C397.9,-3600.23 407.61,-3586.7 415.36,-3575.92\"/>\n<polygon fill=\"black\" stroke=\"black\" points=\"418.29,-3577.83 421.28,-3567.67 412.6,-3573.75 418.29,-3577.83\"/>\n</g>\n<!-- 132736914952672 -->\n<g id=\"node63\" class=\"node\">\n<title>132736914952672</title>\n<polygon fill=\"lightgrey\" stroke=\"black\" points=\"320,-3688.5 129,-3688.5 129,-3669.5 320,-3669.5 320,-3688.5\"/>\n<text text-anchor=\"middle\" x=\"224.5\" y=\"-3676.5\" font-family=\"monospace\" font-size=\"10.00\">MaxPool2DWithIndicesBackward0</text>\n</g>\n<!-- 132736914952672&#45;&gt;132736914952864 -->\n<g id=\"edge83\" class=\"edge\">\n<title>132736914952672&#45;&gt;132736914952864</title>\n<path fill=\"none\" stroke=\"black\" d=\"M228.55,-3669.26C237.16,-3649.87 256.5,-3601.57 256.5,-3559 256.5,-3559 256.5,-3559 256.5,-3430.5 256.5,-3383.09 306.62,-3348.15 339.5,-3330.32\"/>\n<polygon fill=\"black\" stroke=\"black\" points=\"341.42,-3333.27 348.67,-3325.55 338.18,-3327.06 341.42,-3333.27\"/>\n</g>\n<!-- 132736914952672&#45;&gt;132736914953536 -->\n<g id=\"edge61\" class=\"edge\">\n<title>132736914952672&#45;&gt;132736914953536</title>\n<path fill=\"none\" stroke=\"black\" d=\"M247.91,-3669.49C275.45,-3659.49 321.37,-3642.8 352.51,-3631.49\"/>\n<polygon fill=\"black\" stroke=\"black\" points=\"353.86,-3634.72 362.06,-3628.02 351.47,-3628.14 353.86,-3634.72\"/>\n</g>\n<!-- 132736914953920 -->\n<g id=\"node64\" class=\"node\">\n<title>132736914953920</title>\n<polygon fill=\"lightgrey\" stroke=\"black\" points=\"272,-3754.5 177,-3754.5 177,-3735.5 272,-3735.5 272,-3754.5\"/>\n<text text-anchor=\"middle\" x=\"224.5\" y=\"-3742.5\" font-family=\"monospace\" font-size=\"10.00\">ReluBackward0</text>\n</g>\n<!-- 132736914953920&#45;&gt;132736914952672 -->\n<g id=\"edge62\" class=\"edge\">\n<title>132736914953920&#45;&gt;132736914952672</title>\n<path fill=\"none\" stroke=\"black\" d=\"M224.5,-3735.37C224.5,-3726.16 224.5,-3711.29 224.5,-3699.27\"/>\n<polygon fill=\"black\" stroke=\"black\" points=\"228,-3698.91 224.5,-3688.91 221,-3698.91 228,-3698.91\"/>\n</g>\n<!-- 132736914953968 -->\n<g id=\"node65\" class=\"node\">\n<title>132736914953968</title>\n<polygon fill=\"lightgrey\" stroke=\"black\" points=\"305,-3815 144,-3815 144,-3796 305,-3796 305,-3815\"/>\n<text text-anchor=\"middle\" x=\"224.5\" y=\"-3803\" font-family=\"monospace\" font-size=\"10.00\">NativeBatchNormBackward0</text>\n</g>\n<!-- 132736914953968&#45;&gt;132736914953920 -->\n<g id=\"edge63\" class=\"edge\">\n<title>132736914953968&#45;&gt;132736914953920</title>\n<path fill=\"none\" stroke=\"black\" d=\"M224.5,-3795.87C224.5,-3787.75 224.5,-3775.31 224.5,-3764.89\"/>\n<polygon fill=\"black\" stroke=\"black\" points=\"228,-3764.67 224.5,-3754.67 221,-3764.67 228,-3764.67\"/>\n</g>\n<!-- 132736914954112 -->\n<g id=\"node66\" class=\"node\">\n<title>132736914954112</title>\n<polygon fill=\"lightgrey\" stroke=\"black\" points=\"156,-3870 19,-3870 19,-3851 156,-3851 156,-3870\"/>\n<text text-anchor=\"middle\" x=\"87.5\" y=\"-3858\" font-family=\"monospace\" font-size=\"10.00\">ConvolutionBackward0</text>\n</g>\n<!-- 132736914954112&#45;&gt;132736914953968 -->\n<g id=\"edge64\" class=\"edge\">\n<title>132736914954112&#45;&gt;132736914953968</title>\n<path fill=\"none\" stroke=\"black\" d=\"M109.51,-3850.98C131.95,-3842.3 166.98,-3828.75 192.49,-3818.88\"/>\n<polygon fill=\"black\" stroke=\"black\" points=\"194.02,-3822.04 202.09,-3815.17 191.5,-3815.51 194.02,-3822.04\"/>\n</g>\n<!-- 132736914954400 -->\n<g id=\"node67\" class=\"node\">\n<title>132736914954400</title>\n<polygon fill=\"lightgrey\" stroke=\"black\" points=\"138,-3930.5 37,-3930.5 37,-3911.5 138,-3911.5 138,-3930.5\"/>\n<text text-anchor=\"middle\" x=\"87.5\" y=\"-3918.5\" font-family=\"monospace\" font-size=\"10.00\">AccumulateGrad</text>\n</g>\n<!-- 132736914954400&#45;&gt;132736914954112 -->\n<g id=\"edge65\" class=\"edge\">\n<title>132736914954400&#45;&gt;132736914954112</title>\n<path fill=\"none\" stroke=\"black\" d=\"M87.5,-3911.37C87.5,-3903.25 87.5,-3890.81 87.5,-3880.39\"/>\n<polygon fill=\"black\" stroke=\"black\" points=\"91,-3880.17 87.5,-3870.17 84,-3880.17 91,-3880.17\"/>\n</g>\n<!-- 132736938181072 -->\n<g id=\"node68\" class=\"node\">\n<title>132736938181072</title>\n<polygon fill=\"lightblue\" stroke=\"black\" points=\"138,-4002 37,-4002 37,-3972 138,-3972 138,-4002\"/>\n<text text-anchor=\"middle\" x=\"87.5\" y=\"-3990\" font-family=\"monospace\" font-size=\"10.00\">conv1.weight</text>\n<text text-anchor=\"middle\" x=\"87.5\" y=\"-3979\" font-family=\"monospace\" font-size=\"10.00\"> (64, 3, 7, 7)</text>\n</g>\n<!-- 132736938181072&#45;&gt;132736914954400 -->\n<g id=\"edge66\" class=\"edge\">\n<title>132736938181072&#45;&gt;132736914954400</title>\n<path fill=\"none\" stroke=\"black\" d=\"M87.5,-3971.8C87.5,-3962.7 87.5,-3950.79 87.5,-3940.9\"/>\n<polygon fill=\"black\" stroke=\"black\" points=\"91,-3940.84 87.5,-3930.84 84,-3940.84 91,-3940.84\"/>\n</g>\n<!-- 132736914954064 -->\n<g id=\"node69\" class=\"node\">\n<title>132736914954064</title>\n<polygon fill=\"lightgrey\" stroke=\"black\" points=\"275,-3870 174,-3870 174,-3851 275,-3851 275,-3870\"/>\n<text text-anchor=\"middle\" x=\"224.5\" y=\"-3858\" font-family=\"monospace\" font-size=\"10.00\">AccumulateGrad</text>\n</g>\n<!-- 132736914954064&#45;&gt;132736914953968 -->\n<g id=\"edge67\" class=\"edge\">\n<title>132736914954064&#45;&gt;132736914953968</title>\n<path fill=\"none\" stroke=\"black\" d=\"M224.5,-3850.75C224.5,-3843.8 224.5,-3833.85 224.5,-3825.13\"/>\n<polygon fill=\"black\" stroke=\"black\" points=\"228,-3825.09 224.5,-3815.09 221,-3825.09 228,-3825.09\"/>\n</g>\n<!-- 132736979897856 -->\n<g id=\"node70\" class=\"node\">\n<title>132736979897856</title>\n<polygon fill=\"lightblue\" stroke=\"black\" points=\"263,-3936 186,-3936 186,-3906 263,-3906 263,-3936\"/>\n<text text-anchor=\"middle\" x=\"224.5\" y=\"-3924\" font-family=\"monospace\" font-size=\"10.00\">bn1.weight</text>\n<text text-anchor=\"middle\" x=\"224.5\" y=\"-3913\" font-family=\"monospace\" font-size=\"10.00\"> (64)</text>\n</g>\n<!-- 132736979897856&#45;&gt;132736914954064 -->\n<g id=\"edge68\" class=\"edge\">\n<title>132736979897856&#45;&gt;132736914954064</title>\n<path fill=\"none\" stroke=\"black\" d=\"M224.5,-3905.84C224.5,-3898.21 224.5,-3888.7 224.5,-3880.45\"/>\n<polygon fill=\"black\" stroke=\"black\" points=\"228,-3880.27 224.5,-3870.27 221,-3880.27 228,-3880.27\"/>\n</g>\n<!-- 132736914954208 -->\n<g id=\"node71\" class=\"node\">\n<title>132736914954208</title>\n<polygon fill=\"lightgrey\" stroke=\"black\" points=\"394,-3870 293,-3870 293,-3851 394,-3851 394,-3870\"/>\n<text text-anchor=\"middle\" x=\"343.5\" y=\"-3858\" font-family=\"monospace\" font-size=\"10.00\">AccumulateGrad</text>\n</g>\n<!-- 132736914954208&#45;&gt;132736914953968 -->\n<g id=\"edge69\" class=\"edge\">\n<title>132736914954208&#45;&gt;132736914953968</title>\n<path fill=\"none\" stroke=\"black\" d=\"M324.38,-3850.98C305.15,-3842.42 275.27,-3829.11 253.19,-3819.28\"/>\n<polygon fill=\"black\" stroke=\"black\" points=\"254.53,-3816.04 243.97,-3815.17 251.68,-3822.44 254.53,-3816.04\"/>\n</g>\n<!-- 132736917888096 -->\n<g id=\"node72\" class=\"node\">\n<title>132736917888096</title>\n<polygon fill=\"lightblue\" stroke=\"black\" points=\"376,-3936 311,-3936 311,-3906 376,-3906 376,-3936\"/>\n<text text-anchor=\"middle\" x=\"343.5\" y=\"-3924\" font-family=\"monospace\" font-size=\"10.00\">bn1.bias</text>\n<text text-anchor=\"middle\" x=\"343.5\" y=\"-3913\" font-family=\"monospace\" font-size=\"10.00\"> (64)</text>\n</g>\n<!-- 132736917888096&#45;&gt;132736914954208 -->\n<g id=\"edge70\" class=\"edge\">\n<title>132736917888096&#45;&gt;132736914954208</title>\n<path fill=\"none\" stroke=\"black\" d=\"M343.5,-3905.84C343.5,-3898.21 343.5,-3888.7 343.5,-3880.45\"/>\n<polygon fill=\"black\" stroke=\"black\" points=\"347,-3880.27 343.5,-3870.27 340,-3880.27 347,-3880.27\"/>\n</g>\n<!-- 132736914953824 -->\n<g id=\"node73\" class=\"node\">\n<title>132736914953824</title>\n<polygon fill=\"lightgrey\" stroke=\"black\" points=\"439,-3688.5 338,-3688.5 338,-3669.5 439,-3669.5 439,-3688.5\"/>\n<text text-anchor=\"middle\" x=\"388.5\" y=\"-3676.5\" font-family=\"monospace\" font-size=\"10.00\">AccumulateGrad</text>\n</g>\n<!-- 132736914953824&#45;&gt;132736914953536 -->\n<g id=\"edge71\" class=\"edge\">\n<title>132736914953824&#45;&gt;132736914953536</title>\n<path fill=\"none\" stroke=\"black\" d=\"M388.06,-3669.37C387.64,-3661.25 387,-3648.81 386.47,-3638.39\"/>\n<polygon fill=\"black\" stroke=\"black\" points=\"389.95,-3637.97 385.94,-3628.17 382.96,-3638.33 389.95,-3637.97\"/>\n</g>\n<!-- 132736979897456 -->\n<g id=\"node74\" class=\"node\">\n<title>132736979897456</title>\n<polygon fill=\"lightblue\" stroke=\"black\" points=\"460,-3760 317,-3760 317,-3730 460,-3730 460,-3760\"/>\n<text text-anchor=\"middle\" x=\"388.5\" y=\"-3748\" font-family=\"monospace\" font-size=\"10.00\">layer1.0.conv1.weight</text>\n<text text-anchor=\"middle\" x=\"388.5\" y=\"-3737\" font-family=\"monospace\" font-size=\"10.00\"> (64, 64, 3, 3)</text>\n</g>\n<!-- 132736979897456&#45;&gt;132736914953824 -->\n<g id=\"edge72\" class=\"edge\">\n<title>132736979897456&#45;&gt;132736914953824</title>\n<path fill=\"none\" stroke=\"black\" d=\"M388.5,-3729.8C388.5,-3720.7 388.5,-3708.79 388.5,-3698.9\"/>\n<polygon fill=\"black\" stroke=\"black\" points=\"392,-3698.84 388.5,-3688.84 385,-3698.84 392,-3698.84\"/>\n</g>\n<!-- 132736914953392 -->\n<g id=\"node75\" class=\"node\">\n<title>132736914953392</title>\n<polygon fill=\"lightgrey\" stroke=\"black\" points=\"573,-3628 472,-3628 472,-3609 573,-3609 573,-3628\"/>\n<text text-anchor=\"middle\" x=\"522.5\" y=\"-3616\" font-family=\"monospace\" font-size=\"10.00\">AccumulateGrad</text>\n</g>\n<!-- 132736914953392&#45;&gt;132736914953488 -->\n<g id=\"edge73\" class=\"edge\">\n<title>132736914953392&#45;&gt;132736914953488</title>\n<path fill=\"none\" stroke=\"black\" d=\"M508.48,-3608.87C493.19,-3599.45 468.47,-3584.23 450.36,-3573.08\"/>\n<polygon fill=\"black\" stroke=\"black\" points=\"451.93,-3569.93 441.58,-3567.67 448.25,-3575.89 451.93,-3569.93\"/>\n</g>\n<!-- 132736979897536 -->\n<g id=\"node76\" class=\"node\">\n<title>132736979897536</title>\n<polygon fill=\"lightblue\" stroke=\"black\" points=\"588,-3694 457,-3694 457,-3664 588,-3664 588,-3694\"/>\n<text text-anchor=\"middle\" x=\"522.5\" y=\"-3682\" font-family=\"monospace\" font-size=\"10.00\">layer1.0.bn1.weight</text>\n<text text-anchor=\"middle\" x=\"522.5\" y=\"-3671\" font-family=\"monospace\" font-size=\"10.00\"> (64)</text>\n</g>\n<!-- 132736979897536&#45;&gt;132736914953392 -->\n<g id=\"edge74\" class=\"edge\">\n<title>132736979897536&#45;&gt;132736914953392</title>\n<path fill=\"none\" stroke=\"black\" d=\"M522.5,-3663.84C522.5,-3656.21 522.5,-3646.7 522.5,-3638.45\"/>\n<polygon fill=\"black\" stroke=\"black\" points=\"526,-3638.27 522.5,-3628.27 519,-3638.27 526,-3638.27\"/>\n</g>\n<!-- 132736914953632 -->\n<g id=\"node77\" class=\"node\">\n<title>132736914953632</title>\n<polygon fill=\"lightgrey\" stroke=\"black\" points=\"704,-3628 603,-3628 603,-3609 704,-3609 704,-3628\"/>\n<text text-anchor=\"middle\" x=\"653.5\" y=\"-3616\" font-family=\"monospace\" font-size=\"10.00\">AccumulateGrad</text>\n</g>\n<!-- 132736914953632&#45;&gt;132736914953488 -->\n<g id=\"edge75\" class=\"edge\">\n<title>132736914953632&#45;&gt;132736914953488</title>\n<path fill=\"none\" stroke=\"black\" d=\"M620.64,-3608.99C580.89,-3598.7 513.87,-3581.36 470.17,-3570.04\"/>\n<polygon fill=\"black\" stroke=\"black\" points=\"470.96,-3566.63 460.4,-3567.52 469.21,-3573.41 470.96,-3566.63\"/>\n</g>\n<!-- 132736979897376 -->\n<g id=\"node78\" class=\"node\">\n<title>132736979897376</title>\n<polygon fill=\"lightblue\" stroke=\"black\" points=\"725,-3694 606,-3694 606,-3664 725,-3664 725,-3694\"/>\n<text text-anchor=\"middle\" x=\"665.5\" y=\"-3682\" font-family=\"monospace\" font-size=\"10.00\">layer1.0.bn1.bias</text>\n<text text-anchor=\"middle\" x=\"665.5\" y=\"-3671\" font-family=\"monospace\" font-size=\"10.00\"> (64)</text>\n</g>\n<!-- 132736979897376&#45;&gt;132736914953632 -->\n<g id=\"edge76\" class=\"edge\">\n<title>132736979897376&#45;&gt;132736914953632</title>\n<path fill=\"none\" stroke=\"black\" d=\"M662.6,-3663.84C661.01,-3656.13 659.04,-3646.49 657.33,-3638.17\"/>\n<polygon fill=\"black\" stroke=\"black\" points=\"660.74,-3637.36 655.3,-3628.27 653.88,-3638.77 660.74,-3637.36\"/>\n</g>\n<!-- 132736914953296 -->\n<g id=\"node79\" class=\"node\">\n<title>132736914953296</title>\n<polygon fill=\"lightgrey\" stroke=\"black\" points=\"594,-3501.5 493,-3501.5 493,-3482.5 594,-3482.5 594,-3501.5\"/>\n<text text-anchor=\"middle\" x=\"543.5\" y=\"-3489.5\" font-family=\"monospace\" font-size=\"10.00\">AccumulateGrad</text>\n</g>\n<!-- 132736914953296&#45;&gt;132736914953152 -->\n<g id=\"edge77\" class=\"edge\">\n<title>132736914953296&#45;&gt;132736914953152</title>\n<path fill=\"none\" stroke=\"black\" d=\"M543.06,-3482.37C542.64,-3474.25 542,-3461.81 541.47,-3451.39\"/>\n<polygon fill=\"black\" stroke=\"black\" points=\"544.95,-3450.97 540.94,-3441.17 537.96,-3451.33 544.95,-3450.97\"/>\n</g>\n<!-- 132736979904656 -->\n<g id=\"node80\" class=\"node\">\n<title>132736979904656</title>\n<polygon fill=\"lightblue\" stroke=\"black\" points=\"669,-3573 526,-3573 526,-3543 669,-3543 669,-3573\"/>\n<text text-anchor=\"middle\" x=\"597.5\" y=\"-3561\" font-family=\"monospace\" font-size=\"10.00\">layer1.0.conv2.weight</text>\n<text text-anchor=\"middle\" x=\"597.5\" y=\"-3550\" font-family=\"monospace\" font-size=\"10.00\"> (64, 64, 3, 3)</text>\n</g>\n<!-- 132736979904656&#45;&gt;132736914953296 -->\n<g id=\"edge78\" class=\"edge\">\n<title>132736979904656&#45;&gt;132736914953296</title>\n<path fill=\"none\" stroke=\"black\" d=\"M585.52,-3542.8C577.26,-3533.01 566.26,-3519.98 557.59,-3509.7\"/>\n<polygon fill=\"black\" stroke=\"black\" points=\"560.09,-3507.23 550.96,-3501.84 554.74,-3511.74 560.09,-3507.23\"/>\n</g>\n<!-- 132736914953104 -->\n<g id=\"node81\" class=\"node\">\n<title>132736914953104</title>\n<polygon fill=\"lightgrey\" stroke=\"black\" points=\"728,-3441 627,-3441 627,-3422 728,-3422 728,-3441\"/>\n<text text-anchor=\"middle\" x=\"677.5\" y=\"-3429\" font-family=\"monospace\" font-size=\"10.00\">AccumulateGrad</text>\n</g>\n<!-- 132736914953104&#45;&gt;132736914952912 -->\n<g id=\"edge79\" class=\"edge\">\n<title>132736914953104&#45;&gt;132736914952912</title>\n<path fill=\"none\" stroke=\"black\" d=\"M666.41,-3421.98C656.01,-3414 640.24,-3401.88 627.78,-3392.31\"/>\n<polygon fill=\"black\" stroke=\"black\" points=\"629.85,-3389.49 619.79,-3386.17 625.59,-3395.04 629.85,-3389.49\"/>\n</g>\n<!-- 132736979904736 -->\n<g id=\"node82\" class=\"node\">\n<title>132736979904736</title>\n<polygon fill=\"lightblue\" stroke=\"black\" points=\"743,-3507 612,-3507 612,-3477 743,-3477 743,-3507\"/>\n<text text-anchor=\"middle\" x=\"677.5\" y=\"-3495\" font-family=\"monospace\" font-size=\"10.00\">layer1.0.bn2.weight</text>\n<text text-anchor=\"middle\" x=\"677.5\" y=\"-3484\" font-family=\"monospace\" font-size=\"10.00\"> (64)</text>\n</g>\n<!-- 132736979904736&#45;&gt;132736914953104 -->\n<g id=\"edge80\" class=\"edge\">\n<title>132736979904736&#45;&gt;132736914953104</title>\n<path fill=\"none\" stroke=\"black\" d=\"M677.5,-3476.84C677.5,-3469.21 677.5,-3459.7 677.5,-3451.45\"/>\n<polygon fill=\"black\" stroke=\"black\" points=\"681,-3451.27 677.5,-3441.27 674,-3451.27 681,-3451.27\"/>\n</g>\n<!-- 132736914953056 -->\n<g id=\"node83\" class=\"node\">\n<title>132736914953056</title>\n<polygon fill=\"lightgrey\" stroke=\"black\" points=\"859,-3441 758,-3441 758,-3422 859,-3422 859,-3441\"/>\n<text text-anchor=\"middle\" x=\"808.5\" y=\"-3429\" font-family=\"monospace\" font-size=\"10.00\">AccumulateGrad</text>\n</g>\n<!-- 132736914953056&#45;&gt;132736914952912 -->\n<g id=\"edge81\" class=\"edge\">\n<title>132736914953056&#45;&gt;132736914952912</title>\n<path fill=\"none\" stroke=\"black\" d=\"M776.37,-3421.98C742.35,-3412.97 688.5,-3398.7 651,-3388.76\"/>\n<polygon fill=\"black\" stroke=\"black\" points=\"651.45,-3385.26 640.89,-3386.08 649.66,-3392.03 651.45,-3385.26\"/>\n</g>\n<!-- 132736979896896 -->\n<g id=\"node84\" class=\"node\">\n<title>132736979896896</title>\n<polygon fill=\"lightblue\" stroke=\"black\" points=\"880,-3507 761,-3507 761,-3477 880,-3477 880,-3507\"/>\n<text text-anchor=\"middle\" x=\"820.5\" y=\"-3495\" font-family=\"monospace\" font-size=\"10.00\">layer1.0.bn2.bias</text>\n<text text-anchor=\"middle\" x=\"820.5\" y=\"-3484\" font-family=\"monospace\" font-size=\"10.00\"> (64)</text>\n</g>\n<!-- 132736979896896&#45;&gt;132736914953056 -->\n<g id=\"edge82\" class=\"edge\">\n<title>132736979896896&#45;&gt;132736914953056</title>\n<path fill=\"none\" stroke=\"black\" d=\"M817.6,-3476.84C816.01,-3469.13 814.04,-3459.49 812.33,-3451.17\"/>\n<polygon fill=\"black\" stroke=\"black\" points=\"815.74,-3450.36 810.3,-3441.27 808.88,-3451.77 815.74,-3450.36\"/>\n</g>\n<!-- 132736914952768 -->\n<g id=\"node85\" class=\"node\">\n<title>132736914952768</title>\n<polygon fill=\"lightgrey\" stroke=\"black\" points=\"543,-3259.5 442,-3259.5 442,-3240.5 543,-3240.5 543,-3259.5\"/>\n<text text-anchor=\"middle\" x=\"492.5\" y=\"-3247.5\" font-family=\"monospace\" font-size=\"10.00\">AccumulateGrad</text>\n</g>\n<!-- 132736914952768&#45;&gt;132736914952480 -->\n<g id=\"edge84\" class=\"edge\">\n<title>132736914952768&#45;&gt;132736914952480</title>\n<path fill=\"none\" stroke=\"black\" d=\"M492.06,-3240.37C491.64,-3232.25 491,-3219.81 490.47,-3209.39\"/>\n<polygon fill=\"black\" stroke=\"black\" points=\"493.95,-3208.97 489.94,-3199.17 486.96,-3209.33 493.95,-3208.97\"/>\n</g>\n<!-- 132736979896736 -->\n<g id=\"node86\" class=\"node\">\n<title>132736979896736</title>\n<polygon fill=\"lightblue\" stroke=\"black\" points=\"573,-3331 430,-3331 430,-3301 573,-3301 573,-3331\"/>\n<text text-anchor=\"middle\" x=\"501.5\" y=\"-3319\" font-family=\"monospace\" font-size=\"10.00\">layer1.1.conv1.weight</text>\n<text text-anchor=\"middle\" x=\"501.5\" y=\"-3308\" font-family=\"monospace\" font-size=\"10.00\"> (64, 64, 3, 3)</text>\n</g>\n<!-- 132736979896736&#45;&gt;132736914952768 -->\n<g id=\"edge85\" class=\"edge\">\n<title>132736979896736&#45;&gt;132736914952768</title>\n<path fill=\"none\" stroke=\"black\" d=\"M499.5,-3300.8C498.22,-3291.7 496.55,-3279.79 495.16,-3269.9\"/>\n<polygon fill=\"black\" stroke=\"black\" points=\"498.6,-3269.26 493.74,-3259.84 491.67,-3270.23 498.6,-3269.26\"/>\n</g>\n<!-- 132736914952336 -->\n<g id=\"node87\" class=\"node\">\n<title>132736914952336</title>\n<polygon fill=\"lightgrey\" stroke=\"black\" points=\"677,-3199 576,-3199 576,-3180 677,-3180 677,-3199\"/>\n<text text-anchor=\"middle\" x=\"626.5\" y=\"-3187\" font-family=\"monospace\" font-size=\"10.00\">AccumulateGrad</text>\n</g>\n<!-- 132736914952336&#45;&gt;132736914952432 -->\n<g id=\"edge86\" class=\"edge\">\n<title>132736914952336&#45;&gt;132736914952432</title>\n<path fill=\"none\" stroke=\"black\" d=\"M616.02,-3179.87C605.01,-3170.8 587.46,-3156.34 574.09,-3145.32\"/>\n<polygon fill=\"black\" stroke=\"black\" points=\"575.96,-3142.33 566.02,-3138.67 571.51,-3147.73 575.96,-3142.33\"/>\n</g>\n<!-- 132736979896816 -->\n<g id=\"node88\" class=\"node\">\n<title>132736979896816</title>\n<polygon fill=\"lightblue\" stroke=\"black\" points=\"692,-3265 561,-3265 561,-3235 692,-3235 692,-3265\"/>\n<text text-anchor=\"middle\" x=\"626.5\" y=\"-3253\" font-family=\"monospace\" font-size=\"10.00\">layer1.1.bn1.weight</text>\n<text text-anchor=\"middle\" x=\"626.5\" y=\"-3242\" font-family=\"monospace\" font-size=\"10.00\"> (64)</text>\n</g>\n<!-- 132736979896816&#45;&gt;132736914952336 -->\n<g id=\"edge87\" class=\"edge\">\n<title>132736979896816&#45;&gt;132736914952336</title>\n<path fill=\"none\" stroke=\"black\" d=\"M626.5,-3234.84C626.5,-3227.21 626.5,-3217.7 626.5,-3209.45\"/>\n<polygon fill=\"black\" stroke=\"black\" points=\"630,-3209.27 626.5,-3199.27 623,-3209.27 630,-3209.27\"/>\n</g>\n<!-- 132736914952576 -->\n<g id=\"node89\" class=\"node\">\n<title>132736914952576</title>\n<polygon fill=\"lightgrey\" stroke=\"black\" points=\"808,-3199 707,-3199 707,-3180 808,-3180 808,-3199\"/>\n<text text-anchor=\"middle\" x=\"757.5\" y=\"-3187\" font-family=\"monospace\" font-size=\"10.00\">AccumulateGrad</text>\n</g>\n<!-- 132736914952576&#45;&gt;132736914952432 -->\n<g id=\"edge88\" class=\"edge\">\n<title>132736914952576&#45;&gt;132736914952432</title>\n<path fill=\"none\" stroke=\"black\" d=\"M728.13,-3179.99C692.9,-3169.79 633.71,-3152.65 594.63,-3141.33\"/>\n<polygon fill=\"black\" stroke=\"black\" points=\"595.49,-3137.94 584.91,-3138.52 593.54,-3144.66 595.49,-3137.94\"/>\n</g>\n<!-- 132736979896496 -->\n<g id=\"node90\" class=\"node\">\n<title>132736979896496</title>\n<polygon fill=\"lightblue\" stroke=\"black\" points=\"829,-3265 710,-3265 710,-3235 829,-3235 829,-3265\"/>\n<text text-anchor=\"middle\" x=\"769.5\" y=\"-3253\" font-family=\"monospace\" font-size=\"10.00\">layer1.1.bn1.bias</text>\n<text text-anchor=\"middle\" x=\"769.5\" y=\"-3242\" font-family=\"monospace\" font-size=\"10.00\"> (64)</text>\n</g>\n<!-- 132736979896496&#45;&gt;132736914952576 -->\n<g id=\"edge89\" class=\"edge\">\n<title>132736979896496&#45;&gt;132736914952576</title>\n<path fill=\"none\" stroke=\"black\" d=\"M766.6,-3234.84C765.01,-3227.13 763.04,-3217.49 761.33,-3209.17\"/>\n<polygon fill=\"black\" stroke=\"black\" points=\"764.74,-3208.36 759.3,-3199.27 757.88,-3209.77 764.74,-3208.36\"/>\n</g>\n<!-- 132736914952240 -->\n<g id=\"node91\" class=\"node\">\n<title>132736914952240</title>\n<polygon fill=\"lightgrey\" stroke=\"black\" points=\"722,-3072.5 621,-3072.5 621,-3053.5 722,-3053.5 722,-3072.5\"/>\n<text text-anchor=\"middle\" x=\"671.5\" y=\"-3060.5\" font-family=\"monospace\" font-size=\"10.00\">AccumulateGrad</text>\n</g>\n<!-- 132736914952240&#45;&gt;132736914952096 -->\n<g id=\"edge90\" class=\"edge\">\n<title>132736914952240&#45;&gt;132736914952096</title>\n<path fill=\"none\" stroke=\"black\" d=\"M671.06,-3053.37C670.64,-3045.25 670,-3032.81 669.47,-3022.39\"/>\n<polygon fill=\"black\" stroke=\"black\" points=\"672.95,-3021.97 668.94,-3012.17 665.96,-3022.33 672.95,-3021.97\"/>\n</g>\n<!-- 132736979895936 -->\n<g id=\"node92\" class=\"node\">\n<title>132736979895936</title>\n<polygon fill=\"lightblue\" stroke=\"black\" points=\"797,-3144 654,-3144 654,-3114 797,-3114 797,-3144\"/>\n<text text-anchor=\"middle\" x=\"725.5\" y=\"-3132\" font-family=\"monospace\" font-size=\"10.00\">layer1.1.conv2.weight</text>\n<text text-anchor=\"middle\" x=\"725.5\" y=\"-3121\" font-family=\"monospace\" font-size=\"10.00\"> (64, 64, 3, 3)</text>\n</g>\n<!-- 132736979895936&#45;&gt;132736914952240 -->\n<g id=\"edge91\" class=\"edge\">\n<title>132736979895936&#45;&gt;132736914952240</title>\n<path fill=\"none\" stroke=\"black\" d=\"M713.52,-3113.8C705.26,-3104.01 694.26,-3090.98 685.59,-3080.7\"/>\n<polygon fill=\"black\" stroke=\"black\" points=\"688.09,-3078.23 678.96,-3072.84 682.74,-3082.74 688.09,-3078.23\"/>\n</g>\n<!-- 132736914952048 -->\n<g id=\"node93\" class=\"node\">\n<title>132736914952048</title>\n<polygon fill=\"lightgrey\" stroke=\"black\" points=\"856,-3012 755,-3012 755,-2993 856,-2993 856,-3012\"/>\n<text text-anchor=\"middle\" x=\"805.5\" y=\"-3000\" font-family=\"monospace\" font-size=\"10.00\">AccumulateGrad</text>\n</g>\n<!-- 132736914952048&#45;&gt;132736914951856 -->\n<g id=\"edge92\" class=\"edge\">\n<title>132736914952048&#45;&gt;132736914951856</title>\n<path fill=\"none\" stroke=\"black\" d=\"M794.41,-2992.98C784.01,-2985 768.24,-2972.88 755.78,-2963.31\"/>\n<polygon fill=\"black\" stroke=\"black\" points=\"757.85,-2960.49 747.79,-2957.17 753.59,-2966.04 757.85,-2960.49\"/>\n</g>\n<!-- 132736979896016 -->\n<g id=\"node94\" class=\"node\">\n<title>132736979896016</title>\n<polygon fill=\"lightblue\" stroke=\"black\" points=\"871,-3078 740,-3078 740,-3048 871,-3048 871,-3078\"/>\n<text text-anchor=\"middle\" x=\"805.5\" y=\"-3066\" font-family=\"monospace\" font-size=\"10.00\">layer1.1.bn2.weight</text>\n<text text-anchor=\"middle\" x=\"805.5\" y=\"-3055\" font-family=\"monospace\" font-size=\"10.00\"> (64)</text>\n</g>\n<!-- 132736979896016&#45;&gt;132736914952048 -->\n<g id=\"edge93\" class=\"edge\">\n<title>132736979896016&#45;&gt;132736914952048</title>\n<path fill=\"none\" stroke=\"black\" d=\"M805.5,-3047.84C805.5,-3040.21 805.5,-3030.7 805.5,-3022.45\"/>\n<polygon fill=\"black\" stroke=\"black\" points=\"809,-3022.27 805.5,-3012.27 802,-3022.27 809,-3022.27\"/>\n</g>\n<!-- 132736914952000 -->\n<g id=\"node95\" class=\"node\">\n<title>132736914952000</title>\n<polygon fill=\"lightgrey\" stroke=\"black\" points=\"987,-3012 886,-3012 886,-2993 987,-2993 987,-3012\"/>\n<text text-anchor=\"middle\" x=\"936.5\" y=\"-3000\" font-family=\"monospace\" font-size=\"10.00\">AccumulateGrad</text>\n</g>\n<!-- 132736914952000&#45;&gt;132736914951856 -->\n<g id=\"edge94\" class=\"edge\">\n<title>132736914952000&#45;&gt;132736914951856</title>\n<path fill=\"none\" stroke=\"black\" d=\"M904.37,-2992.98C870.35,-2983.97 816.5,-2969.7 779,-2959.76\"/>\n<polygon fill=\"black\" stroke=\"black\" points=\"779.45,-2956.26 768.89,-2957.08 777.66,-2963.03 779.45,-2956.26\"/>\n</g>\n<!-- 132736979895856 -->\n<g id=\"node96\" class=\"node\">\n<title>132736979895856</title>\n<polygon fill=\"lightblue\" stroke=\"black\" points=\"1008,-3078 889,-3078 889,-3048 1008,-3048 1008,-3078\"/>\n<text text-anchor=\"middle\" x=\"948.5\" y=\"-3066\" font-family=\"monospace\" font-size=\"10.00\">layer1.1.bn2.bias</text>\n<text text-anchor=\"middle\" x=\"948.5\" y=\"-3055\" font-family=\"monospace\" font-size=\"10.00\"> (64)</text>\n</g>\n<!-- 132736979895856&#45;&gt;132736914952000 -->\n<g id=\"edge95\" class=\"edge\">\n<title>132736979895856&#45;&gt;132736914952000</title>\n<path fill=\"none\" stroke=\"black\" d=\"M945.6,-3047.84C944.01,-3040.13 942.04,-3030.49 940.33,-3022.17\"/>\n<polygon fill=\"black\" stroke=\"black\" points=\"943.74,-3021.36 938.3,-3012.27 936.88,-3022.77 943.74,-3021.36\"/>\n</g>\n<!-- 132736914951616 -->\n<g id=\"node97\" class=\"node\">\n<title>132736914951616</title>\n<polygon fill=\"lightgrey\" stroke=\"black\" points=\"727,-2830.5 626,-2830.5 626,-2811.5 727,-2811.5 727,-2830.5\"/>\n<text text-anchor=\"middle\" x=\"676.5\" y=\"-2818.5\" font-family=\"monospace\" font-size=\"10.00\">AccumulateGrad</text>\n</g>\n<!-- 132736914951616&#45;&gt;132736914951472 -->\n<g id=\"edge97\" class=\"edge\">\n<title>132736914951616&#45;&gt;132736914951472</title>\n<path fill=\"none\" stroke=\"black\" d=\"M676.06,-2811.37C675.64,-2803.25 675,-2790.81 674.47,-2780.39\"/>\n<polygon fill=\"black\" stroke=\"black\" points=\"677.95,-2779.97 673.94,-2770.17 670.96,-2780.33 677.95,-2779.97\"/>\n</g>\n<!-- 132736979894656 -->\n<g id=\"node98\" class=\"node\">\n<title>132736979894656</title>\n<polygon fill=\"lightblue\" stroke=\"black\" points=\"766,-2902 623,-2902 623,-2872 766,-2872 766,-2902\"/>\n<text text-anchor=\"middle\" x=\"694.5\" y=\"-2890\" font-family=\"monospace\" font-size=\"10.00\">layer2.0.conv1.weight</text>\n<text text-anchor=\"middle\" x=\"694.5\" y=\"-2879\" font-family=\"monospace\" font-size=\"10.00\"> (128, 64, 3, 3)</text>\n</g>\n<!-- 132736979894656&#45;&gt;132736914951616 -->\n<g id=\"edge98\" class=\"edge\">\n<title>132736979894656&#45;&gt;132736914951616</title>\n<path fill=\"none\" stroke=\"black\" d=\"M690.51,-2871.8C687.92,-2862.6 684.52,-2850.53 681.73,-2840.58\"/>\n<polygon fill=\"black\" stroke=\"black\" points=\"685.06,-2839.52 678.99,-2830.84 678.33,-2841.42 685.06,-2839.52\"/>\n</g>\n<!-- 132736914951424 -->\n<g id=\"node99\" class=\"node\">\n<title>132736914951424</title>\n<polygon fill=\"lightgrey\" stroke=\"black\" points=\"861,-2770 760,-2770 760,-2751 861,-2751 861,-2770\"/>\n<text text-anchor=\"middle\" x=\"810.5\" y=\"-2758\" font-family=\"monospace\" font-size=\"10.00\">AccumulateGrad</text>\n</g>\n<!-- 132736914951424&#45;&gt;132736914951376 -->\n<g id=\"edge99\" class=\"edge\">\n<title>132736914951424&#45;&gt;132736914951376</title>\n<path fill=\"none\" stroke=\"black\" d=\"M800.32,-2750.87C789.62,-2741.8 772.56,-2727.34 759.57,-2716.32\"/>\n<polygon fill=\"black\" stroke=\"black\" points=\"761.61,-2713.46 751.72,-2709.67 757.09,-2718.8 761.61,-2713.46\"/>\n</g>\n<!-- 132736979894416 -->\n<g id=\"node100\" class=\"node\">\n<title>132736979894416</title>\n<polygon fill=\"lightblue\" stroke=\"black\" points=\"876,-2836 745,-2836 745,-2806 876,-2806 876,-2836\"/>\n<text text-anchor=\"middle\" x=\"810.5\" y=\"-2824\" font-family=\"monospace\" font-size=\"10.00\">layer2.0.bn1.weight</text>\n<text text-anchor=\"middle\" x=\"810.5\" y=\"-2813\" font-family=\"monospace\" font-size=\"10.00\"> (128)</text>\n</g>\n<!-- 132736979894416&#45;&gt;132736914951424 -->\n<g id=\"edge100\" class=\"edge\">\n<title>132736979894416&#45;&gt;132736914951424</title>\n<path fill=\"none\" stroke=\"black\" d=\"M810.5,-2805.84C810.5,-2798.21 810.5,-2788.7 810.5,-2780.45\"/>\n<polygon fill=\"black\" stroke=\"black\" points=\"814,-2780.27 810.5,-2770.27 807,-2780.27 814,-2780.27\"/>\n</g>\n<!-- 132736914951280 -->\n<g id=\"node101\" class=\"node\">\n<title>132736914951280</title>\n<polygon fill=\"lightgrey\" stroke=\"black\" points=\"992,-2770 891,-2770 891,-2751 992,-2751 992,-2770\"/>\n<text text-anchor=\"middle\" x=\"941.5\" y=\"-2758\" font-family=\"monospace\" font-size=\"10.00\">AccumulateGrad</text>\n</g>\n<!-- 132736914951280&#45;&gt;132736914951376 -->\n<g id=\"edge101\" class=\"edge\">\n<title>132736914951280&#45;&gt;132736914951376</title>\n<path fill=\"none\" stroke=\"black\" d=\"M912.42,-2750.99C877.61,-2740.81 819.18,-2723.72 780.49,-2712.4\"/>\n<polygon fill=\"black\" stroke=\"black\" points=\"781.2,-2708.96 770.62,-2709.52 779.23,-2715.68 781.2,-2708.96\"/>\n</g>\n<!-- 132736979894576 -->\n<g id=\"node102\" class=\"node\">\n<title>132736979894576</title>\n<polygon fill=\"lightblue\" stroke=\"black\" points=\"1013,-2836 894,-2836 894,-2806 1013,-2806 1013,-2836\"/>\n<text text-anchor=\"middle\" x=\"953.5\" y=\"-2824\" font-family=\"monospace\" font-size=\"10.00\">layer2.0.bn1.bias</text>\n<text text-anchor=\"middle\" x=\"953.5\" y=\"-2813\" font-family=\"monospace\" font-size=\"10.00\"> (128)</text>\n</g>\n<!-- 132736979894576&#45;&gt;132736914951280 -->\n<g id=\"edge102\" class=\"edge\">\n<title>132736979894576&#45;&gt;132736914951280</title>\n<path fill=\"none\" stroke=\"black\" d=\"M950.6,-2805.84C949.01,-2798.13 947.04,-2788.49 945.33,-2780.17\"/>\n<polygon fill=\"black\" stroke=\"black\" points=\"948.74,-2779.36 943.3,-2770.27 941.88,-2780.77 948.74,-2779.36\"/>\n</g>\n<!-- 132736914951184 -->\n<g id=\"node103\" class=\"node\">\n<title>132736914951184</title>\n<polygon fill=\"lightgrey\" stroke=\"black\" points=\"908,-2643.5 807,-2643.5 807,-2624.5 908,-2624.5 908,-2643.5\"/>\n<text text-anchor=\"middle\" x=\"857.5\" y=\"-2631.5\" font-family=\"monospace\" font-size=\"10.00\">AccumulateGrad</text>\n</g>\n<!-- 132736914951184&#45;&gt;132736914951040 -->\n<g id=\"edge103\" class=\"edge\">\n<title>132736914951184&#45;&gt;132736914951040</title>\n<path fill=\"none\" stroke=\"black\" d=\"M857.06,-2624.37C856.64,-2616.25 856,-2603.81 855.47,-2593.39\"/>\n<polygon fill=\"black\" stroke=\"black\" points=\"858.95,-2592.97 854.94,-2583.17 851.96,-2593.33 858.95,-2592.97\"/>\n</g>\n<!-- 132736981167984 -->\n<g id=\"node104\" class=\"node\">\n<title>132736981167984</title>\n<polygon fill=\"lightblue\" stroke=\"black\" points=\"983,-2715 840,-2715 840,-2685 983,-2685 983,-2715\"/>\n<text text-anchor=\"middle\" x=\"911.5\" y=\"-2703\" font-family=\"monospace\" font-size=\"10.00\">layer2.0.conv2.weight</text>\n<text text-anchor=\"middle\" x=\"911.5\" y=\"-2692\" font-family=\"monospace\" font-size=\"10.00\"> (128, 128, 3, 3)</text>\n</g>\n<!-- 132736981167984&#45;&gt;132736914951184 -->\n<g id=\"edge104\" class=\"edge\">\n<title>132736981167984&#45;&gt;132736914951184</title>\n<path fill=\"none\" stroke=\"black\" d=\"M899.52,-2684.8C891.26,-2675.01 880.26,-2661.98 871.59,-2651.7\"/>\n<polygon fill=\"black\" stroke=\"black\" points=\"874.09,-2649.23 864.96,-2643.84 868.74,-2653.74 874.09,-2649.23\"/>\n</g>\n<!-- 132736914950992 -->\n<g id=\"node105\" class=\"node\">\n<title>132736914950992</title>\n<polygon fill=\"lightgrey\" stroke=\"black\" points=\"1042,-2583 941,-2583 941,-2564 1042,-2564 1042,-2583\"/>\n<text text-anchor=\"middle\" x=\"991.5\" y=\"-2571\" font-family=\"monospace\" font-size=\"10.00\">AccumulateGrad</text>\n</g>\n<!-- 132736914950992&#45;&gt;132736914950896 -->\n<g id=\"edge105\" class=\"edge\">\n<title>132736914950992&#45;&gt;132736914950896</title>\n<path fill=\"none\" stroke=\"black\" d=\"M980.41,-2563.98C970.01,-2556 954.24,-2543.88 941.78,-2534.31\"/>\n<polygon fill=\"black\" stroke=\"black\" points=\"943.85,-2531.49 933.79,-2528.17 939.59,-2537.04 943.85,-2531.49\"/>\n</g>\n<!-- 132736981167904 -->\n<g id=\"node106\" class=\"node\">\n<title>132736981167904</title>\n<polygon fill=\"lightblue\" stroke=\"black\" points=\"1057,-2649 926,-2649 926,-2619 1057,-2619 1057,-2649\"/>\n<text text-anchor=\"middle\" x=\"991.5\" y=\"-2637\" font-family=\"monospace\" font-size=\"10.00\">layer2.0.bn2.weight</text>\n<text text-anchor=\"middle\" x=\"991.5\" y=\"-2626\" font-family=\"monospace\" font-size=\"10.00\"> (128)</text>\n</g>\n<!-- 132736981167904&#45;&gt;132736914950992 -->\n<g id=\"edge106\" class=\"edge\">\n<title>132736981167904&#45;&gt;132736914950992</title>\n<path fill=\"none\" stroke=\"black\" d=\"M991.5,-2618.84C991.5,-2611.21 991.5,-2601.7 991.5,-2593.45\"/>\n<polygon fill=\"black\" stroke=\"black\" points=\"995,-2593.27 991.5,-2583.27 988,-2593.27 995,-2593.27\"/>\n</g>\n<!-- 132736914950944 -->\n<g id=\"node107\" class=\"node\">\n<title>132736914950944</title>\n<polygon fill=\"lightgrey\" stroke=\"black\" points=\"1173,-2583 1072,-2583 1072,-2564 1173,-2564 1173,-2583\"/>\n<text text-anchor=\"middle\" x=\"1122.5\" y=\"-2571\" font-family=\"monospace\" font-size=\"10.00\">AccumulateGrad</text>\n</g>\n<!-- 132736914950944&#45;&gt;132736914950896 -->\n<g id=\"edge107\" class=\"edge\">\n<title>132736914950944&#45;&gt;132736914950896</title>\n<path fill=\"none\" stroke=\"black\" d=\"M1090.37,-2563.98C1056.35,-2554.97 1002.5,-2540.7 965,-2530.76\"/>\n<polygon fill=\"black\" stroke=\"black\" points=\"965.45,-2527.26 954.89,-2528.08 963.66,-2534.03 965.45,-2527.26\"/>\n</g>\n<!-- 132736981166704 -->\n<g id=\"node108\" class=\"node\">\n<title>132736981166704</title>\n<polygon fill=\"lightblue\" stroke=\"black\" points=\"1194,-2649 1075,-2649 1075,-2619 1194,-2619 1194,-2649\"/>\n<text text-anchor=\"middle\" x=\"1134.5\" y=\"-2637\" font-family=\"monospace\" font-size=\"10.00\">layer2.0.bn2.bias</text>\n<text text-anchor=\"middle\" x=\"1134.5\" y=\"-2626\" font-family=\"monospace\" font-size=\"10.00\"> (128)</text>\n</g>\n<!-- 132736981166704&#45;&gt;132736914950944 -->\n<g id=\"edge108\" class=\"edge\">\n<title>132736981166704&#45;&gt;132736914950944</title>\n<path fill=\"none\" stroke=\"black\" d=\"M1131.6,-2618.84C1130.01,-2611.13 1128.04,-2601.49 1126.33,-2593.17\"/>\n<polygon fill=\"black\" stroke=\"black\" points=\"1129.74,-2592.36 1124.3,-2583.27 1122.88,-2593.77 1129.74,-2592.36\"/>\n</g>\n<!-- 132736914950848 -->\n<g id=\"node109\" class=\"node\">\n<title>132736914950848</title>\n<polygon fill=\"lightgrey\" stroke=\"black\" points=\"448,-2709.5 287,-2709.5 287,-2690.5 448,-2690.5 448,-2709.5\"/>\n<text text-anchor=\"middle\" x=\"367.5\" y=\"-2697.5\" font-family=\"monospace\" font-size=\"10.00\">NativeBatchNormBackward0</text>\n</g>\n<!-- 132736914950848&#45;&gt;132736914950800 -->\n<g id=\"edge109\" class=\"edge\">\n<title>132736914950848&#45;&gt;132736914950800</title>\n<path fill=\"none\" stroke=\"black\" d=\"M378.75,-2690.46C425.39,-2655.03 603.96,-2519.41 663.81,-2473.95\"/>\n<polygon fill=\"black\" stroke=\"black\" points=\"666.21,-2476.53 672.06,-2467.69 661.98,-2470.95 666.21,-2476.53\"/>\n</g>\n<!-- 132736914951568&#45;&gt;132736914950848 -->\n<g id=\"edge110\" class=\"edge\">\n<title>132736914951568&#45;&gt;132736914950848</title>\n<path fill=\"none\" stroke=\"black\" d=\"M433.14,-2750.87C421.08,-2741.71 401.8,-2727.06 387.25,-2716.01\"/>\n<polygon fill=\"black\" stroke=\"black\" points=\"388.99,-2712.93 378.91,-2709.67 384.75,-2718.5 388.99,-2712.93\"/>\n</g>\n<!-- 132736914951952 -->\n<g id=\"node111\" class=\"node\">\n<title>132736914951952</title>\n<polygon fill=\"lightgrey\" stroke=\"black\" points=\"495,-2830.5 394,-2830.5 394,-2811.5 495,-2811.5 495,-2830.5\"/>\n<text text-anchor=\"middle\" x=\"444.5\" y=\"-2818.5\" font-family=\"monospace\" font-size=\"10.00\">AccumulateGrad</text>\n</g>\n<!-- 132736914951952&#45;&gt;132736914951568 -->\n<g id=\"edge112\" class=\"edge\">\n<title>132736914951952&#45;&gt;132736914951568</title>\n<path fill=\"none\" stroke=\"black\" d=\"M444.5,-2811.37C444.5,-2803.25 444.5,-2790.81 444.5,-2780.39\"/>\n<polygon fill=\"black\" stroke=\"black\" points=\"448,-2780.17 444.5,-2770.17 441,-2780.17 448,-2780.17\"/>\n</g>\n<!-- 132736979895456 -->\n<g id=\"node112\" class=\"node\">\n<title>132736979895456</title>\n<polygon fill=\"lightblue\" stroke=\"black\" points=\"498,-2902 313,-2902 313,-2872 498,-2872 498,-2902\"/>\n<text text-anchor=\"middle\" x=\"405.5\" y=\"-2890\" font-family=\"monospace\" font-size=\"10.00\">layer2.0.downsample.0.weight</text>\n<text text-anchor=\"middle\" x=\"405.5\" y=\"-2879\" font-family=\"monospace\" font-size=\"10.00\"> (128, 64, 1, 1)</text>\n</g>\n<!-- 132736979895456&#45;&gt;132736914951952 -->\n<g id=\"edge113\" class=\"edge\">\n<title>132736979895456&#45;&gt;132736914951952</title>\n<path fill=\"none\" stroke=\"black\" d=\"M414.16,-2871.8C419.94,-2862.31 427.58,-2849.76 433.76,-2839.63\"/>\n<polygon fill=\"black\" stroke=\"black\" points=\"436.9,-2841.21 439.11,-2830.84 430.92,-2837.56 436.9,-2841.21\"/>\n</g>\n<!-- 132736914951136 -->\n<g id=\"node113\" class=\"node\">\n<title>132736914951136</title>\n<polygon fill=\"lightgrey\" stroke=\"black\" points=\"191,-2770 90,-2770 90,-2751 191,-2751 191,-2770\"/>\n<text text-anchor=\"middle\" x=\"140.5\" y=\"-2758\" font-family=\"monospace\" font-size=\"10.00\">AccumulateGrad</text>\n</g>\n<!-- 132736914951136&#45;&gt;132736914950848 -->\n<g id=\"edge114\" class=\"edge\">\n<title>132736914951136&#45;&gt;132736914950848</title>\n<path fill=\"none\" stroke=\"black\" d=\"M173.51,-2750.99C213.44,-2740.7 280.74,-2723.36 324.64,-2712.04\"/>\n<polygon fill=\"black\" stroke=\"black\" points=\"325.64,-2715.4 334.45,-2709.52 323.9,-2708.62 325.64,-2715.4\"/>\n</g>\n<!-- 132736979895376 -->\n<g id=\"node114\" class=\"node\">\n<title>132736979895376</title>\n<polygon fill=\"lightblue\" stroke=\"black\" points=\"185,-2836 0,-2836 0,-2806 185,-2806 185,-2836\"/>\n<text text-anchor=\"middle\" x=\"92.5\" y=\"-2824\" font-family=\"monospace\" font-size=\"10.00\">layer2.0.downsample.1.weight</text>\n<text text-anchor=\"middle\" x=\"92.5\" y=\"-2813\" font-family=\"monospace\" font-size=\"10.00\"> (128)</text>\n</g>\n<!-- 132736979895376&#45;&gt;132736914951136 -->\n<g id=\"edge115\" class=\"edge\">\n<title>132736979895376&#45;&gt;132736914951136</title>\n<path fill=\"none\" stroke=\"black\" d=\"M104.12,-2805.84C110.94,-2797.52 119.61,-2786.96 126.77,-2778.23\"/>\n<polygon fill=\"black\" stroke=\"black\" points=\"129.67,-2780.22 133.31,-2770.27 124.26,-2775.78 129.67,-2780.22\"/>\n</g>\n<!-- 132736914951088 -->\n<g id=\"node115\" class=\"node\">\n<title>132736914951088</title>\n<polygon fill=\"lightgrey\" stroke=\"black\" points=\"349,-2770 248,-2770 248,-2751 349,-2751 349,-2770\"/>\n<text text-anchor=\"middle\" x=\"298.5\" y=\"-2758\" font-family=\"monospace\" font-size=\"10.00\">AccumulateGrad</text>\n</g>\n<!-- 132736914951088&#45;&gt;132736914950848 -->\n<g id=\"edge116\" class=\"edge\">\n<title>132736914951088&#45;&gt;132736914950848</title>\n<path fill=\"none\" stroke=\"black\" d=\"M308.68,-2750.87C319.38,-2741.8 336.44,-2727.34 349.43,-2716.32\"/>\n<polygon fill=\"black\" stroke=\"black\" points=\"351.91,-2718.8 357.28,-2709.67 347.39,-2713.46 351.91,-2718.8\"/>\n</g>\n<!-- 132736979895296 -->\n<g id=\"node116\" class=\"node\">\n<title>132736979895296</title>\n<polygon fill=\"lightblue\" stroke=\"black\" points=\"376,-2836 203,-2836 203,-2806 376,-2806 376,-2836\"/>\n<text text-anchor=\"middle\" x=\"289.5\" y=\"-2824\" font-family=\"monospace\" font-size=\"10.00\">layer2.0.downsample.1.bias</text>\n<text text-anchor=\"middle\" x=\"289.5\" y=\"-2813\" font-family=\"monospace\" font-size=\"10.00\"> (128)</text>\n</g>\n<!-- 132736979895296&#45;&gt;132736914951088 -->\n<g id=\"edge117\" class=\"edge\">\n<title>132736979895296&#45;&gt;132736914951088</title>\n<path fill=\"none\" stroke=\"black\" d=\"M291.68,-2805.84C292.87,-2798.13 294.35,-2788.49 295.63,-2780.17\"/>\n<polygon fill=\"black\" stroke=\"black\" points=\"299.09,-2780.68 297.15,-2770.27 292.17,-2779.62 299.09,-2780.68\"/>\n</g>\n<!-- 132736914950704 -->\n<g id=\"node117\" class=\"node\">\n<title>132736914950704</title>\n<polygon fill=\"lightgrey\" stroke=\"black\" points=\"859,-2401.5 758,-2401.5 758,-2382.5 859,-2382.5 859,-2401.5\"/>\n<text text-anchor=\"middle\" x=\"808.5\" y=\"-2389.5\" font-family=\"monospace\" font-size=\"10.00\">AccumulateGrad</text>\n</g>\n<!-- 132736914950704&#45;&gt;132736914950512 -->\n<g id=\"edge118\" class=\"edge\">\n<title>132736914950704&#45;&gt;132736914950512</title>\n<path fill=\"none\" stroke=\"black\" d=\"M808.06,-2382.37C807.64,-2374.25 807,-2361.81 806.47,-2351.39\"/>\n<polygon fill=\"black\" stroke=\"black\" points=\"809.95,-2350.97 805.94,-2341.17 802.96,-2351.33 809.95,-2350.97\"/>\n</g>\n<!-- 132736981166624 -->\n<g id=\"node118\" class=\"node\">\n<title>132736981166624</title>\n<polygon fill=\"lightblue\" stroke=\"black\" points=\"889,-2473 746,-2473 746,-2443 889,-2443 889,-2473\"/>\n<text text-anchor=\"middle\" x=\"817.5\" y=\"-2461\" font-family=\"monospace\" font-size=\"10.00\">layer2.1.conv1.weight</text>\n<text text-anchor=\"middle\" x=\"817.5\" y=\"-2450\" font-family=\"monospace\" font-size=\"10.00\"> (128, 128, 3, 3)</text>\n</g>\n<!-- 132736981166624&#45;&gt;132736914950704 -->\n<g id=\"edge119\" class=\"edge\">\n<title>132736981166624&#45;&gt;132736914950704</title>\n<path fill=\"none\" stroke=\"black\" d=\"M815.5,-2442.8C814.22,-2433.7 812.55,-2421.79 811.16,-2411.9\"/>\n<polygon fill=\"black\" stroke=\"black\" points=\"814.6,-2411.26 809.74,-2401.84 807.67,-2412.23 814.6,-2411.26\"/>\n</g>\n<!-- 132736914950464 -->\n<g id=\"node119\" class=\"node\">\n<title>132736914950464</title>\n<polygon fill=\"lightgrey\" stroke=\"black\" points=\"993,-2341 892,-2341 892,-2322 993,-2322 993,-2341\"/>\n<text text-anchor=\"middle\" x=\"942.5\" y=\"-2329\" font-family=\"monospace\" font-size=\"10.00\">AccumulateGrad</text>\n</g>\n<!-- 132736914950464&#45;&gt;132736914950416 -->\n<g id=\"edge120\" class=\"edge\">\n<title>132736914950464&#45;&gt;132736914950416</title>\n<path fill=\"none\" stroke=\"black\" d=\"M932.02,-2321.87C921.01,-2312.8 903.46,-2298.34 890.09,-2287.32\"/>\n<polygon fill=\"black\" stroke=\"black\" points=\"891.96,-2284.33 882.02,-2280.67 887.51,-2289.73 891.96,-2284.33\"/>\n</g>\n<!-- 132736981167824 -->\n<g id=\"node120\" class=\"node\">\n<title>132736981167824</title>\n<polygon fill=\"lightblue\" stroke=\"black\" points=\"1008,-2407 877,-2407 877,-2377 1008,-2377 1008,-2407\"/>\n<text text-anchor=\"middle\" x=\"942.5\" y=\"-2395\" font-family=\"monospace\" font-size=\"10.00\">layer2.1.bn1.weight</text>\n<text text-anchor=\"middle\" x=\"942.5\" y=\"-2384\" font-family=\"monospace\" font-size=\"10.00\"> (128)</text>\n</g>\n<!-- 132736981167824&#45;&gt;132736914950464 -->\n<g id=\"edge121\" class=\"edge\">\n<title>132736981167824&#45;&gt;132736914950464</title>\n<path fill=\"none\" stroke=\"black\" d=\"M942.5,-2376.84C942.5,-2369.21 942.5,-2359.7 942.5,-2351.45\"/>\n<polygon fill=\"black\" stroke=\"black\" points=\"946,-2351.27 942.5,-2341.27 939,-2351.27 946,-2351.27\"/>\n</g>\n<!-- 132736914950320 -->\n<g id=\"node121\" class=\"node\">\n<title>132736914950320</title>\n<polygon fill=\"lightgrey\" stroke=\"black\" points=\"1124,-2341 1023,-2341 1023,-2322 1124,-2322 1124,-2341\"/>\n<text text-anchor=\"middle\" x=\"1073.5\" y=\"-2329\" font-family=\"monospace\" font-size=\"10.00\">AccumulateGrad</text>\n</g>\n<!-- 132736914950320&#45;&gt;132736914950416 -->\n<g id=\"edge122\" class=\"edge\">\n<title>132736914950320&#45;&gt;132736914950416</title>\n<path fill=\"none\" stroke=\"black\" d=\"M1044.13,-2321.99C1008.9,-2311.79 949.71,-2294.65 910.63,-2283.33\"/>\n<polygon fill=\"black\" stroke=\"black\" points=\"911.49,-2279.94 900.91,-2280.52 909.54,-2286.66 911.49,-2279.94\"/>\n</g>\n<!-- 132736981168704 -->\n<g id=\"node122\" class=\"node\">\n<title>132736981168704</title>\n<polygon fill=\"lightblue\" stroke=\"black\" points=\"1145,-2407 1026,-2407 1026,-2377 1145,-2377 1145,-2407\"/>\n<text text-anchor=\"middle\" x=\"1085.5\" y=\"-2395\" font-family=\"monospace\" font-size=\"10.00\">layer2.1.bn1.bias</text>\n<text text-anchor=\"middle\" x=\"1085.5\" y=\"-2384\" font-family=\"monospace\" font-size=\"10.00\"> (128)</text>\n</g>\n<!-- 132736981168704&#45;&gt;132736914950320 -->\n<g id=\"edge123\" class=\"edge\">\n<title>132736981168704&#45;&gt;132736914950320</title>\n<path fill=\"none\" stroke=\"black\" d=\"M1082.6,-2376.84C1081.01,-2369.13 1079.04,-2359.49 1077.33,-2351.17\"/>\n<polygon fill=\"black\" stroke=\"black\" points=\"1080.74,-2350.36 1075.3,-2341.27 1073.88,-2351.77 1080.74,-2350.36\"/>\n</g>\n<!-- 132736914950224 -->\n<g id=\"node123\" class=\"node\">\n<title>132736914950224</title>\n<polygon fill=\"lightgrey\" stroke=\"black\" points=\"1038,-2214.5 937,-2214.5 937,-2195.5 1038,-2195.5 1038,-2214.5\"/>\n<text text-anchor=\"middle\" x=\"987.5\" y=\"-2202.5\" font-family=\"monospace\" font-size=\"10.00\">AccumulateGrad</text>\n</g>\n<!-- 132736914950224&#45;&gt;132736914950080 -->\n<g id=\"edge124\" class=\"edge\">\n<title>132736914950224&#45;&gt;132736914950080</title>\n<path fill=\"none\" stroke=\"black\" d=\"M987.06,-2195.37C986.64,-2187.25 986,-2174.81 985.47,-2164.39\"/>\n<polygon fill=\"black\" stroke=\"black\" points=\"988.95,-2163.97 984.94,-2154.17 981.96,-2164.33 988.95,-2163.97\"/>\n</g>\n<!-- 132736981169104 -->\n<g id=\"node124\" class=\"node\">\n<title>132736981169104</title>\n<polygon fill=\"lightblue\" stroke=\"black\" points=\"1113,-2286 970,-2286 970,-2256 1113,-2256 1113,-2286\"/>\n<text text-anchor=\"middle\" x=\"1041.5\" y=\"-2274\" font-family=\"monospace\" font-size=\"10.00\">layer2.1.conv2.weight</text>\n<text text-anchor=\"middle\" x=\"1041.5\" y=\"-2263\" font-family=\"monospace\" font-size=\"10.00\"> (128, 128, 3, 3)</text>\n</g>\n<!-- 132736981169104&#45;&gt;132736914950224 -->\n<g id=\"edge125\" class=\"edge\">\n<title>132736981169104&#45;&gt;132736914950224</title>\n<path fill=\"none\" stroke=\"black\" d=\"M1029.52,-2255.8C1021.26,-2246.01 1010.26,-2232.98 1001.59,-2222.7\"/>\n<polygon fill=\"black\" stroke=\"black\" points=\"1004.09,-2220.23 994.96,-2214.84 998.74,-2224.74 1004.09,-2220.23\"/>\n</g>\n<!-- 132736914950032 -->\n<g id=\"node125\" class=\"node\">\n<title>132736914950032</title>\n<polygon fill=\"lightgrey\" stroke=\"black\" points=\"1172,-2154 1071,-2154 1071,-2135 1172,-2135 1172,-2154\"/>\n<text text-anchor=\"middle\" x=\"1121.5\" y=\"-2142\" font-family=\"monospace\" font-size=\"10.00\">AccumulateGrad</text>\n</g>\n<!-- 132736914950032&#45;&gt;132736914949936 -->\n<g id=\"edge126\" class=\"edge\">\n<title>132736914950032&#45;&gt;132736914949936</title>\n<path fill=\"none\" stroke=\"black\" d=\"M1110.41,-2134.98C1100.01,-2127 1084.24,-2114.88 1071.78,-2105.31\"/>\n<polygon fill=\"black\" stroke=\"black\" points=\"1073.85,-2102.49 1063.79,-2099.17 1069.59,-2108.04 1073.85,-2102.49\"/>\n</g>\n<!-- 132736981168864 -->\n<g id=\"node126\" class=\"node\">\n<title>132736981168864</title>\n<polygon fill=\"lightblue\" stroke=\"black\" points=\"1187,-2220 1056,-2220 1056,-2190 1187,-2190 1187,-2220\"/>\n<text text-anchor=\"middle\" x=\"1121.5\" y=\"-2208\" font-family=\"monospace\" font-size=\"10.00\">layer2.1.bn2.weight</text>\n<text text-anchor=\"middle\" x=\"1121.5\" y=\"-2197\" font-family=\"monospace\" font-size=\"10.00\"> (128)</text>\n</g>\n<!-- 132736981168864&#45;&gt;132736914950032 -->\n<g id=\"edge127\" class=\"edge\">\n<title>132736981168864&#45;&gt;132736914950032</title>\n<path fill=\"none\" stroke=\"black\" d=\"M1121.5,-2189.84C1121.5,-2182.21 1121.5,-2172.7 1121.5,-2164.45\"/>\n<polygon fill=\"black\" stroke=\"black\" points=\"1125,-2164.27 1121.5,-2154.27 1118,-2164.27 1125,-2164.27\"/>\n</g>\n<!-- 132736914949984 -->\n<g id=\"node127\" class=\"node\">\n<title>132736914949984</title>\n<polygon fill=\"lightgrey\" stroke=\"black\" points=\"1303,-2154 1202,-2154 1202,-2135 1303,-2135 1303,-2154\"/>\n<text text-anchor=\"middle\" x=\"1252.5\" y=\"-2142\" font-family=\"monospace\" font-size=\"10.00\">AccumulateGrad</text>\n</g>\n<!-- 132736914949984&#45;&gt;132736914949936 -->\n<g id=\"edge128\" class=\"edge\">\n<title>132736914949984&#45;&gt;132736914949936</title>\n<path fill=\"none\" stroke=\"black\" d=\"M1220.37,-2134.98C1186.35,-2125.97 1132.5,-2111.7 1095,-2101.76\"/>\n<polygon fill=\"black\" stroke=\"black\" points=\"1095.45,-2098.26 1084.89,-2099.08 1093.66,-2105.03 1095.45,-2098.26\"/>\n</g>\n<!-- 132736981169024 -->\n<g id=\"node128\" class=\"node\">\n<title>132736981169024</title>\n<polygon fill=\"lightblue\" stroke=\"black\" points=\"1324,-2220 1205,-2220 1205,-2190 1324,-2190 1324,-2220\"/>\n<text text-anchor=\"middle\" x=\"1264.5\" y=\"-2208\" font-family=\"monospace\" font-size=\"10.00\">layer2.1.bn2.bias</text>\n<text text-anchor=\"middle\" x=\"1264.5\" y=\"-2197\" font-family=\"monospace\" font-size=\"10.00\"> (128)</text>\n</g>\n<!-- 132736981169024&#45;&gt;132736914949984 -->\n<g id=\"edge129\" class=\"edge\">\n<title>132736981169024&#45;&gt;132736914949984</title>\n<path fill=\"none\" stroke=\"black\" d=\"M1261.6,-2189.84C1260.01,-2182.13 1258.04,-2172.49 1256.33,-2164.17\"/>\n<polygon fill=\"black\" stroke=\"black\" points=\"1259.74,-2163.36 1254.3,-2154.27 1252.88,-2164.77 1259.74,-2163.36\"/>\n</g>\n<!-- 132736914949648 -->\n<g id=\"node129\" class=\"node\">\n<title>132736914949648</title>\n<polygon fill=\"lightgrey\" stroke=\"black\" points=\"1043,-1972.5 942,-1972.5 942,-1953.5 1043,-1953.5 1043,-1972.5\"/>\n<text text-anchor=\"middle\" x=\"992.5\" y=\"-1960.5\" font-family=\"monospace\" font-size=\"10.00\">AccumulateGrad</text>\n</g>\n<!-- 132736914949648&#45;&gt;132736914949504 -->\n<g id=\"edge131\" class=\"edge\">\n<title>132736914949648&#45;&gt;132736914949504</title>\n<path fill=\"none\" stroke=\"black\" d=\"M992.06,-1953.37C991.64,-1945.25 991,-1932.81 990.47,-1922.39\"/>\n<polygon fill=\"black\" stroke=\"black\" points=\"993.95,-1921.97 989.94,-1912.17 986.96,-1922.33 993.95,-1921.97\"/>\n</g>\n<!-- 132736981169184 -->\n<g id=\"node130\" class=\"node\">\n<title>132736981169184</title>\n<polygon fill=\"lightblue\" stroke=\"black\" points=\"1082,-2044 939,-2044 939,-2014 1082,-2014 1082,-2044\"/>\n<text text-anchor=\"middle\" x=\"1010.5\" y=\"-2032\" font-family=\"monospace\" font-size=\"10.00\">layer3.0.conv1.weight</text>\n<text text-anchor=\"middle\" x=\"1010.5\" y=\"-2021\" font-family=\"monospace\" font-size=\"10.00\"> (256, 128, 3, 3)</text>\n</g>\n<!-- 132736981169184&#45;&gt;132736914949648 -->\n<g id=\"edge132\" class=\"edge\">\n<title>132736981169184&#45;&gt;132736914949648</title>\n<path fill=\"none\" stroke=\"black\" d=\"M1006.51,-2013.8C1003.92,-2004.6 1000.52,-1992.53 997.73,-1982.58\"/>\n<polygon fill=\"black\" stroke=\"black\" points=\"1001.06,-1981.52 994.99,-1972.84 994.33,-1983.42 1001.06,-1981.52\"/>\n</g>\n<!-- 132736914949456 -->\n<g id=\"node131\" class=\"node\">\n<title>132736914949456</title>\n<polygon fill=\"lightgrey\" stroke=\"black\" points=\"1177,-1912 1076,-1912 1076,-1893 1177,-1893 1177,-1912\"/>\n<text text-anchor=\"middle\" x=\"1126.5\" y=\"-1900\" font-family=\"monospace\" font-size=\"10.00\">AccumulateGrad</text>\n</g>\n<!-- 132736914949456&#45;&gt;132736914949408 -->\n<g id=\"edge133\" class=\"edge\">\n<title>132736914949456&#45;&gt;132736914949408</title>\n<path fill=\"none\" stroke=\"black\" d=\"M1116.32,-1892.87C1105.62,-1883.8 1088.56,-1869.34 1075.57,-1858.32\"/>\n<polygon fill=\"black\" stroke=\"black\" points=\"1077.61,-1855.46 1067.72,-1851.67 1073.09,-1860.8 1077.61,-1855.46\"/>\n</g>\n<!-- 132736981169904 -->\n<g id=\"node132\" class=\"node\">\n<title>132736981169904</title>\n<polygon fill=\"lightblue\" stroke=\"black\" points=\"1192,-1978 1061,-1978 1061,-1948 1192,-1948 1192,-1978\"/>\n<text text-anchor=\"middle\" x=\"1126.5\" y=\"-1966\" font-family=\"monospace\" font-size=\"10.00\">layer3.0.bn1.weight</text>\n<text text-anchor=\"middle\" x=\"1126.5\" y=\"-1955\" font-family=\"monospace\" font-size=\"10.00\"> (256)</text>\n</g>\n<!-- 132736981169904&#45;&gt;132736914949456 -->\n<g id=\"edge134\" class=\"edge\">\n<title>132736981169904&#45;&gt;132736914949456</title>\n<path fill=\"none\" stroke=\"black\" d=\"M1126.5,-1947.84C1126.5,-1940.21 1126.5,-1930.7 1126.5,-1922.45\"/>\n<polygon fill=\"black\" stroke=\"black\" points=\"1130,-1922.27 1126.5,-1912.27 1123,-1922.27 1130,-1922.27\"/>\n</g>\n<!-- 132736914949312 -->\n<g id=\"node133\" class=\"node\">\n<title>132736914949312</title>\n<polygon fill=\"lightgrey\" stroke=\"black\" points=\"1308,-1912 1207,-1912 1207,-1893 1308,-1893 1308,-1912\"/>\n<text text-anchor=\"middle\" x=\"1257.5\" y=\"-1900\" font-family=\"monospace\" font-size=\"10.00\">AccumulateGrad</text>\n</g>\n<!-- 132736914949312&#45;&gt;132736914949408 -->\n<g id=\"edge135\" class=\"edge\">\n<title>132736914949312&#45;&gt;132736914949408</title>\n<path fill=\"none\" stroke=\"black\" d=\"M1228.42,-1892.99C1193.61,-1882.81 1135.18,-1865.72 1096.49,-1854.4\"/>\n<polygon fill=\"black\" stroke=\"black\" points=\"1097.2,-1850.96 1086.62,-1851.52 1095.23,-1857.68 1097.2,-1850.96\"/>\n</g>\n<!-- 132736981169504 -->\n<g id=\"node134\" class=\"node\">\n<title>132736981169504</title>\n<polygon fill=\"lightblue\" stroke=\"black\" points=\"1329,-1978 1210,-1978 1210,-1948 1329,-1948 1329,-1978\"/>\n<text text-anchor=\"middle\" x=\"1269.5\" y=\"-1966\" font-family=\"monospace\" font-size=\"10.00\">layer3.0.bn1.bias</text>\n<text text-anchor=\"middle\" x=\"1269.5\" y=\"-1955\" font-family=\"monospace\" font-size=\"10.00\"> (256)</text>\n</g>\n<!-- 132736981169504&#45;&gt;132736914949312 -->\n<g id=\"edge136\" class=\"edge\">\n<title>132736981169504&#45;&gt;132736914949312</title>\n<path fill=\"none\" stroke=\"black\" d=\"M1266.6,-1947.84C1265.01,-1940.13 1263.04,-1930.49 1261.33,-1922.17\"/>\n<polygon fill=\"black\" stroke=\"black\" points=\"1264.74,-1921.36 1259.3,-1912.27 1257.88,-1922.77 1264.74,-1921.36\"/>\n</g>\n<!-- 132736914949216 -->\n<g id=\"node135\" class=\"node\">\n<title>132736914949216</title>\n<polygon fill=\"lightgrey\" stroke=\"black\" points=\"1224,-1785.5 1123,-1785.5 1123,-1766.5 1224,-1766.5 1224,-1785.5\"/>\n<text text-anchor=\"middle\" x=\"1173.5\" y=\"-1773.5\" font-family=\"monospace\" font-size=\"10.00\">AccumulateGrad</text>\n</g>\n<!-- 132736914949216&#45;&gt;132736914949072 -->\n<g id=\"edge137\" class=\"edge\">\n<title>132736914949216&#45;&gt;132736914949072</title>\n<path fill=\"none\" stroke=\"black\" d=\"M1173.06,-1766.37C1172.64,-1758.25 1172,-1745.81 1171.47,-1735.39\"/>\n<polygon fill=\"black\" stroke=\"black\" points=\"1174.95,-1734.97 1170.94,-1725.17 1167.96,-1735.33 1174.95,-1734.97\"/>\n</g>\n<!-- 132736981166384 -->\n<g id=\"node136\" class=\"node\">\n<title>132736981166384</title>\n<polygon fill=\"lightblue\" stroke=\"black\" points=\"1299,-1857 1156,-1857 1156,-1827 1299,-1827 1299,-1857\"/>\n<text text-anchor=\"middle\" x=\"1227.5\" y=\"-1845\" font-family=\"monospace\" font-size=\"10.00\">layer3.0.conv2.weight</text>\n<text text-anchor=\"middle\" x=\"1227.5\" y=\"-1834\" font-family=\"monospace\" font-size=\"10.00\"> (256, 256, 3, 3)</text>\n</g>\n<!-- 132736981166384&#45;&gt;132736914949216 -->\n<g id=\"edge138\" class=\"edge\">\n<title>132736981166384&#45;&gt;132736914949216</title>\n<path fill=\"none\" stroke=\"black\" d=\"M1215.52,-1826.8C1207.26,-1817.01 1196.26,-1803.98 1187.59,-1793.7\"/>\n<polygon fill=\"black\" stroke=\"black\" points=\"1190.09,-1791.23 1180.96,-1785.84 1184.74,-1795.74 1190.09,-1791.23\"/>\n</g>\n<!-- 132736914949024 -->\n<g id=\"node137\" class=\"node\">\n<title>132736914949024</title>\n<polygon fill=\"lightgrey\" stroke=\"black\" points=\"1358,-1725 1257,-1725 1257,-1706 1358,-1706 1358,-1725\"/>\n<text text-anchor=\"middle\" x=\"1307.5\" y=\"-1713\" font-family=\"monospace\" font-size=\"10.00\">AccumulateGrad</text>\n</g>\n<!-- 132736914949024&#45;&gt;132736914948928 -->\n<g id=\"edge139\" class=\"edge\">\n<title>132736914949024&#45;&gt;132736914948928</title>\n<path fill=\"none\" stroke=\"black\" d=\"M1296.41,-1705.98C1286.01,-1698 1270.24,-1685.88 1257.78,-1676.31\"/>\n<polygon fill=\"black\" stroke=\"black\" points=\"1259.85,-1673.49 1249.79,-1670.17 1255.59,-1679.04 1259.85,-1673.49\"/>\n</g>\n<!-- 132736981166304 -->\n<g id=\"node138\" class=\"node\">\n<title>132736981166304</title>\n<polygon fill=\"lightblue\" stroke=\"black\" points=\"1373,-1791 1242,-1791 1242,-1761 1373,-1761 1373,-1791\"/>\n<text text-anchor=\"middle\" x=\"1307.5\" y=\"-1779\" font-family=\"monospace\" font-size=\"10.00\">layer3.0.bn2.weight</text>\n<text text-anchor=\"middle\" x=\"1307.5\" y=\"-1768\" font-family=\"monospace\" font-size=\"10.00\"> (256)</text>\n</g>\n<!-- 132736981166304&#45;&gt;132736914949024 -->\n<g id=\"edge140\" class=\"edge\">\n<title>132736981166304&#45;&gt;132736914949024</title>\n<path fill=\"none\" stroke=\"black\" d=\"M1307.5,-1760.84C1307.5,-1753.21 1307.5,-1743.7 1307.5,-1735.45\"/>\n<polygon fill=\"black\" stroke=\"black\" points=\"1311,-1735.27 1307.5,-1725.27 1304,-1735.27 1311,-1735.27\"/>\n</g>\n<!-- 132736914948976 -->\n<g id=\"node139\" class=\"node\">\n<title>132736914948976</title>\n<polygon fill=\"lightgrey\" stroke=\"black\" points=\"1489,-1725 1388,-1725 1388,-1706 1489,-1706 1489,-1725\"/>\n<text text-anchor=\"middle\" x=\"1438.5\" y=\"-1713\" font-family=\"monospace\" font-size=\"10.00\">AccumulateGrad</text>\n</g>\n<!-- 132736914948976&#45;&gt;132736914948928 -->\n<g id=\"edge141\" class=\"edge\">\n<title>132736914948976&#45;&gt;132736914948928</title>\n<path fill=\"none\" stroke=\"black\" d=\"M1406.37,-1705.98C1372.35,-1696.97 1318.5,-1682.7 1281,-1672.76\"/>\n<polygon fill=\"black\" stroke=\"black\" points=\"1281.45,-1669.26 1270.89,-1670.08 1279.66,-1676.03 1281.45,-1669.26\"/>\n</g>\n<!-- 132736981162864 -->\n<g id=\"node140\" class=\"node\">\n<title>132736981162864</title>\n<polygon fill=\"lightblue\" stroke=\"black\" points=\"1510,-1791 1391,-1791 1391,-1761 1510,-1761 1510,-1791\"/>\n<text text-anchor=\"middle\" x=\"1450.5\" y=\"-1779\" font-family=\"monospace\" font-size=\"10.00\">layer3.0.bn2.bias</text>\n<text text-anchor=\"middle\" x=\"1450.5\" y=\"-1768\" font-family=\"monospace\" font-size=\"10.00\"> (256)</text>\n</g>\n<!-- 132736981162864&#45;&gt;132736914948976 -->\n<g id=\"edge142\" class=\"edge\">\n<title>132736981162864&#45;&gt;132736914948976</title>\n<path fill=\"none\" stroke=\"black\" d=\"M1447.6,-1760.84C1446.01,-1753.13 1444.04,-1743.49 1442.33,-1735.17\"/>\n<polygon fill=\"black\" stroke=\"black\" points=\"1445.74,-1734.36 1440.3,-1725.27 1438.88,-1735.77 1445.74,-1734.36\"/>\n</g>\n<!-- 132736914948880 -->\n<g id=\"node141\" class=\"node\">\n<title>132736914948880</title>\n<polygon fill=\"lightgrey\" stroke=\"black\" points=\"764,-1851.5 603,-1851.5 603,-1832.5 764,-1832.5 764,-1851.5\"/>\n<text text-anchor=\"middle\" x=\"683.5\" y=\"-1839.5\" font-family=\"monospace\" font-size=\"10.00\">NativeBatchNormBackward0</text>\n</g>\n<!-- 132736914948880&#45;&gt;132736914948832 -->\n<g id=\"edge143\" class=\"edge\">\n<title>132736914948880&#45;&gt;132736914948832</title>\n<path fill=\"none\" stroke=\"black\" d=\"M694.75,-1832.46C741.39,-1797.03 919.96,-1661.41 979.81,-1615.95\"/>\n<polygon fill=\"black\" stroke=\"black\" points=\"982.21,-1618.53 988.06,-1609.69 977.98,-1612.95 982.21,-1618.53\"/>\n</g>\n<!-- 132736914949600&#45;&gt;132736914948880 -->\n<g id=\"edge144\" class=\"edge\">\n<title>132736914949600&#45;&gt;132736914948880</title>\n<path fill=\"none\" stroke=\"black\" d=\"M749.14,-1892.87C737.08,-1883.71 717.8,-1869.06 703.25,-1858.01\"/>\n<polygon fill=\"black\" stroke=\"black\" points=\"704.99,-1854.93 694.91,-1851.67 700.75,-1860.5 704.99,-1854.93\"/>\n</g>\n<!-- 132736914949744 -->\n<g id=\"node143\" class=\"node\">\n<title>132736914949744</title>\n<polygon fill=\"lightgrey\" stroke=\"black\" points=\"811,-1972.5 710,-1972.5 710,-1953.5 811,-1953.5 811,-1972.5\"/>\n<text text-anchor=\"middle\" x=\"760.5\" y=\"-1960.5\" font-family=\"monospace\" font-size=\"10.00\">AccumulateGrad</text>\n</g>\n<!-- 132736914949744&#45;&gt;132736914949600 -->\n<g id=\"edge146\" class=\"edge\">\n<title>132736914949744&#45;&gt;132736914949600</title>\n<path fill=\"none\" stroke=\"black\" d=\"M760.5,-1953.37C760.5,-1945.25 760.5,-1932.81 760.5,-1922.39\"/>\n<polygon fill=\"black\" stroke=\"black\" points=\"764,-1922.17 760.5,-1912.17 757,-1922.17 764,-1922.17\"/>\n</g>\n<!-- 132736981170384 -->\n<g id=\"node144\" class=\"node\">\n<title>132736981170384</title>\n<polygon fill=\"lightblue\" stroke=\"black\" points=\"814,-2044 629,-2044 629,-2014 814,-2014 814,-2044\"/>\n<text text-anchor=\"middle\" x=\"721.5\" y=\"-2032\" font-family=\"monospace\" font-size=\"10.00\">layer3.0.downsample.0.weight</text>\n<text text-anchor=\"middle\" x=\"721.5\" y=\"-2021\" font-family=\"monospace\" font-size=\"10.00\"> (256, 128, 1, 1)</text>\n</g>\n<!-- 132736981170384&#45;&gt;132736914949744 -->\n<g id=\"edge147\" class=\"edge\">\n<title>132736981170384&#45;&gt;132736914949744</title>\n<path fill=\"none\" stroke=\"black\" d=\"M730.16,-2013.8C735.94,-2004.31 743.58,-1991.76 749.76,-1981.63\"/>\n<polygon fill=\"black\" stroke=\"black\" points=\"752.9,-1983.21 755.11,-1972.84 746.92,-1979.56 752.9,-1983.21\"/>\n</g>\n<!-- 132736914949168 -->\n<g id=\"node145\" class=\"node\">\n<title>132736914949168</title>\n<polygon fill=\"lightgrey\" stroke=\"black\" points=\"507,-1912 406,-1912 406,-1893 507,-1893 507,-1912\"/>\n<text text-anchor=\"middle\" x=\"456.5\" y=\"-1900\" font-family=\"monospace\" font-size=\"10.00\">AccumulateGrad</text>\n</g>\n<!-- 132736914949168&#45;&gt;132736914948880 -->\n<g id=\"edge148\" class=\"edge\">\n<title>132736914949168&#45;&gt;132736914948880</title>\n<path fill=\"none\" stroke=\"black\" d=\"M489.51,-1892.99C529.44,-1882.7 596.74,-1865.36 640.64,-1854.04\"/>\n<polygon fill=\"black\" stroke=\"black\" points=\"641.64,-1857.4 650.45,-1851.52 639.9,-1850.62 641.64,-1857.4\"/>\n</g>\n<!-- 132736981169744 -->\n<g id=\"node146\" class=\"node\">\n<title>132736981169744</title>\n<polygon fill=\"lightblue\" stroke=\"black\" points=\"501,-1978 316,-1978 316,-1948 501,-1948 501,-1978\"/>\n<text text-anchor=\"middle\" x=\"408.5\" y=\"-1966\" font-family=\"monospace\" font-size=\"10.00\">layer3.0.downsample.1.weight</text>\n<text text-anchor=\"middle\" x=\"408.5\" y=\"-1955\" font-family=\"monospace\" font-size=\"10.00\"> (256)</text>\n</g>\n<!-- 132736981169744&#45;&gt;132736914949168 -->\n<g id=\"edge149\" class=\"edge\">\n<title>132736981169744&#45;&gt;132736914949168</title>\n<path fill=\"none\" stroke=\"black\" d=\"M420.12,-1947.84C426.94,-1939.52 435.61,-1928.96 442.77,-1920.23\"/>\n<polygon fill=\"black\" stroke=\"black\" points=\"445.67,-1922.22 449.31,-1912.27 440.26,-1917.78 445.67,-1922.22\"/>\n</g>\n<!-- 132736914949120 -->\n<g id=\"node147\" class=\"node\">\n<title>132736914949120</title>\n<polygon fill=\"lightgrey\" stroke=\"black\" points=\"665,-1912 564,-1912 564,-1893 665,-1893 665,-1912\"/>\n<text text-anchor=\"middle\" x=\"614.5\" y=\"-1900\" font-family=\"monospace\" font-size=\"10.00\">AccumulateGrad</text>\n</g>\n<!-- 132736914949120&#45;&gt;132736914948880 -->\n<g id=\"edge150\" class=\"edge\">\n<title>132736914949120&#45;&gt;132736914948880</title>\n<path fill=\"none\" stroke=\"black\" d=\"M624.68,-1892.87C635.38,-1883.8 652.44,-1869.34 665.43,-1858.32\"/>\n<polygon fill=\"black\" stroke=\"black\" points=\"667.91,-1860.8 673.28,-1851.67 663.39,-1855.46 667.91,-1860.8\"/>\n</g>\n<!-- 132736981169824 -->\n<g id=\"node148\" class=\"node\">\n<title>132736981169824</title>\n<polygon fill=\"lightblue\" stroke=\"black\" points=\"692,-1978 519,-1978 519,-1948 692,-1948 692,-1978\"/>\n<text text-anchor=\"middle\" x=\"605.5\" y=\"-1966\" font-family=\"monospace\" font-size=\"10.00\">layer3.0.downsample.1.bias</text>\n<text text-anchor=\"middle\" x=\"605.5\" y=\"-1955\" font-family=\"monospace\" font-size=\"10.00\"> (256)</text>\n</g>\n<!-- 132736981169824&#45;&gt;132736914949120 -->\n<g id=\"edge151\" class=\"edge\">\n<title>132736981169824&#45;&gt;132736914949120</title>\n<path fill=\"none\" stroke=\"black\" d=\"M607.68,-1947.84C608.87,-1940.13 610.35,-1930.49 611.63,-1922.17\"/>\n<polygon fill=\"black\" stroke=\"black\" points=\"615.09,-1922.68 613.15,-1912.27 608.17,-1921.62 615.09,-1922.68\"/>\n</g>\n<!-- 132736914948736 -->\n<g id=\"node149\" class=\"node\">\n<title>132736914948736</title>\n<polygon fill=\"lightgrey\" stroke=\"black\" points=\"1175,-1543.5 1074,-1543.5 1074,-1524.5 1175,-1524.5 1175,-1543.5\"/>\n<text text-anchor=\"middle\" x=\"1124.5\" y=\"-1531.5\" font-family=\"monospace\" font-size=\"10.00\">AccumulateGrad</text>\n</g>\n<!-- 132736914948736&#45;&gt;132736914948544 -->\n<g id=\"edge152\" class=\"edge\">\n<title>132736914948736&#45;&gt;132736914948544</title>\n<path fill=\"none\" stroke=\"black\" d=\"M1124.06,-1524.37C1123.64,-1516.25 1123,-1503.81 1122.47,-1493.39\"/>\n<polygon fill=\"black\" stroke=\"black\" points=\"1125.95,-1492.97 1121.94,-1483.17 1118.96,-1493.33 1125.95,-1492.97\"/>\n</g>\n<!-- 132736981171824 -->\n<g id=\"node150\" class=\"node\">\n<title>132736981171824</title>\n<polygon fill=\"lightblue\" stroke=\"black\" points=\"1205,-1615 1062,-1615 1062,-1585 1205,-1585 1205,-1615\"/>\n<text text-anchor=\"middle\" x=\"1133.5\" y=\"-1603\" font-family=\"monospace\" font-size=\"10.00\">layer3.1.conv1.weight</text>\n<text text-anchor=\"middle\" x=\"1133.5\" y=\"-1592\" font-family=\"monospace\" font-size=\"10.00\"> (256, 256, 3, 3)</text>\n</g>\n<!-- 132736981171824&#45;&gt;132736914948736 -->\n<g id=\"edge153\" class=\"edge\">\n<title>132736981171824&#45;&gt;132736914948736</title>\n<path fill=\"none\" stroke=\"black\" d=\"M1131.5,-1584.8C1130.22,-1575.7 1128.55,-1563.79 1127.16,-1553.9\"/>\n<polygon fill=\"black\" stroke=\"black\" points=\"1130.6,-1553.26 1125.74,-1543.84 1123.67,-1554.23 1130.6,-1553.26\"/>\n</g>\n<!-- 132736914948496 -->\n<g id=\"node151\" class=\"node\">\n<title>132736914948496</title>\n<polygon fill=\"lightgrey\" stroke=\"black\" points=\"1309,-1483 1208,-1483 1208,-1464 1309,-1464 1309,-1483\"/>\n<text text-anchor=\"middle\" x=\"1258.5\" y=\"-1471\" font-family=\"monospace\" font-size=\"10.00\">AccumulateGrad</text>\n</g>\n<!-- 132736914948496&#45;&gt;132736914948448 -->\n<g id=\"edge154\" class=\"edge\">\n<title>132736914948496&#45;&gt;132736914948448</title>\n<path fill=\"none\" stroke=\"black\" d=\"M1248.02,-1463.87C1237.01,-1454.8 1219.46,-1440.34 1206.09,-1429.32\"/>\n<polygon fill=\"black\" stroke=\"black\" points=\"1207.96,-1426.33 1198.02,-1422.67 1203.51,-1431.73 1207.96,-1426.33\"/>\n</g>\n<!-- 132736981171744 -->\n<g id=\"node152\" class=\"node\">\n<title>132736981171744</title>\n<polygon fill=\"lightblue\" stroke=\"black\" points=\"1324,-1549 1193,-1549 1193,-1519 1324,-1519 1324,-1549\"/>\n<text text-anchor=\"middle\" x=\"1258.5\" y=\"-1537\" font-family=\"monospace\" font-size=\"10.00\">layer3.1.bn1.weight</text>\n<text text-anchor=\"middle\" x=\"1258.5\" y=\"-1526\" font-family=\"monospace\" font-size=\"10.00\"> (256)</text>\n</g>\n<!-- 132736981171744&#45;&gt;132736914948496 -->\n<g id=\"edge155\" class=\"edge\">\n<title>132736981171744&#45;&gt;132736914948496</title>\n<path fill=\"none\" stroke=\"black\" d=\"M1258.5,-1518.84C1258.5,-1511.21 1258.5,-1501.7 1258.5,-1493.45\"/>\n<polygon fill=\"black\" stroke=\"black\" points=\"1262,-1493.27 1258.5,-1483.27 1255,-1493.27 1262,-1493.27\"/>\n</g>\n<!-- 132736914948352 -->\n<g id=\"node153\" class=\"node\">\n<title>132736914948352</title>\n<polygon fill=\"lightgrey\" stroke=\"black\" points=\"1440,-1483 1339,-1483 1339,-1464 1440,-1464 1440,-1483\"/>\n<text text-anchor=\"middle\" x=\"1389.5\" y=\"-1471\" font-family=\"monospace\" font-size=\"10.00\">AccumulateGrad</text>\n</g>\n<!-- 132736914948352&#45;&gt;132736914948448 -->\n<g id=\"edge156\" class=\"edge\">\n<title>132736914948352&#45;&gt;132736914948448</title>\n<path fill=\"none\" stroke=\"black\" d=\"M1360.13,-1463.99C1324.9,-1453.79 1265.71,-1436.65 1226.63,-1425.33\"/>\n<polygon fill=\"black\" stroke=\"black\" points=\"1227.49,-1421.94 1216.91,-1422.52 1225.54,-1428.66 1227.49,-1421.94\"/>\n</g>\n<!-- 132736981171984 -->\n<g id=\"node154\" class=\"node\">\n<title>132736981171984</title>\n<polygon fill=\"lightblue\" stroke=\"black\" points=\"1461,-1549 1342,-1549 1342,-1519 1461,-1519 1461,-1549\"/>\n<text text-anchor=\"middle\" x=\"1401.5\" y=\"-1537\" font-family=\"monospace\" font-size=\"10.00\">layer3.1.bn1.bias</text>\n<text text-anchor=\"middle\" x=\"1401.5\" y=\"-1526\" font-family=\"monospace\" font-size=\"10.00\"> (256)</text>\n</g>\n<!-- 132736981171984&#45;&gt;132736914948352 -->\n<g id=\"edge157\" class=\"edge\">\n<title>132736981171984&#45;&gt;132736914948352</title>\n<path fill=\"none\" stroke=\"black\" d=\"M1398.6,-1518.84C1397.01,-1511.13 1395.04,-1501.49 1393.33,-1493.17\"/>\n<polygon fill=\"black\" stroke=\"black\" points=\"1396.74,-1492.36 1391.3,-1483.27 1389.88,-1493.77 1396.74,-1492.36\"/>\n</g>\n<!-- 132736914948304 -->\n<g id=\"node155\" class=\"node\">\n<title>132736914948304</title>\n<polygon fill=\"lightgrey\" stroke=\"black\" points=\"1354,-1356.5 1253,-1356.5 1253,-1337.5 1354,-1337.5 1354,-1356.5\"/>\n<text text-anchor=\"middle\" x=\"1303.5\" y=\"-1344.5\" font-family=\"monospace\" font-size=\"10.00\">AccumulateGrad</text>\n</g>\n<!-- 132736914948304&#45;&gt;132736981180640 -->\n<g id=\"edge158\" class=\"edge\">\n<title>132736914948304&#45;&gt;132736981180640</title>\n<path fill=\"none\" stroke=\"black\" d=\"M1303.06,-1337.37C1302.64,-1329.25 1302,-1316.81 1301.47,-1306.39\"/>\n<polygon fill=\"black\" stroke=\"black\" points=\"1304.95,-1305.97 1300.94,-1296.17 1297.96,-1306.33 1304.95,-1305.97\"/>\n</g>\n<!-- 132736981171344 -->\n<g id=\"node156\" class=\"node\">\n<title>132736981171344</title>\n<polygon fill=\"lightblue\" stroke=\"black\" points=\"1429,-1428 1286,-1428 1286,-1398 1429,-1398 1429,-1428\"/>\n<text text-anchor=\"middle\" x=\"1357.5\" y=\"-1416\" font-family=\"monospace\" font-size=\"10.00\">layer3.1.conv2.weight</text>\n<text text-anchor=\"middle\" x=\"1357.5\" y=\"-1405\" font-family=\"monospace\" font-size=\"10.00\"> (256, 256, 3, 3)</text>\n</g>\n<!-- 132736981171344&#45;&gt;132736914948304 -->\n<g id=\"edge159\" class=\"edge\">\n<title>132736981171344&#45;&gt;132736914948304</title>\n<path fill=\"none\" stroke=\"black\" d=\"M1345.52,-1397.8C1337.26,-1388.01 1326.26,-1374.98 1317.59,-1364.7\"/>\n<polygon fill=\"black\" stroke=\"black\" points=\"1320.09,-1362.23 1310.96,-1356.84 1314.74,-1366.74 1320.09,-1362.23\"/>\n</g>\n<!-- 132736981177328 -->\n<g id=\"node157\" class=\"node\">\n<title>132736981177328</title>\n<polygon fill=\"lightgrey\" stroke=\"black\" points=\"1488,-1296 1387,-1296 1387,-1277 1488,-1277 1488,-1296\"/>\n<text text-anchor=\"middle\" x=\"1437.5\" y=\"-1284\" font-family=\"monospace\" font-size=\"10.00\">AccumulateGrad</text>\n</g>\n<!-- 132736981177328&#45;&gt;132736979854352 -->\n<g id=\"edge160\" class=\"edge\">\n<title>132736981177328&#45;&gt;132736979854352</title>\n<path fill=\"none\" stroke=\"black\" d=\"M1426.41,-1276.98C1416.01,-1269 1400.24,-1256.88 1387.78,-1247.31\"/>\n<polygon fill=\"black\" stroke=\"black\" points=\"1389.85,-1244.49 1379.79,-1241.17 1385.59,-1250.04 1389.85,-1244.49\"/>\n</g>\n<!-- 132736981171104 -->\n<g id=\"node158\" class=\"node\">\n<title>132736981171104</title>\n<polygon fill=\"lightblue\" stroke=\"black\" points=\"1503,-1362 1372,-1362 1372,-1332 1503,-1332 1503,-1362\"/>\n<text text-anchor=\"middle\" x=\"1437.5\" y=\"-1350\" font-family=\"monospace\" font-size=\"10.00\">layer3.1.bn2.weight</text>\n<text text-anchor=\"middle\" x=\"1437.5\" y=\"-1339\" font-family=\"monospace\" font-size=\"10.00\"> (256)</text>\n</g>\n<!-- 132736981171104&#45;&gt;132736981177328 -->\n<g id=\"edge161\" class=\"edge\">\n<title>132736981171104&#45;&gt;132736981177328</title>\n<path fill=\"none\" stroke=\"black\" d=\"M1437.5,-1331.84C1437.5,-1324.21 1437.5,-1314.7 1437.5,-1306.45\"/>\n<polygon fill=\"black\" stroke=\"black\" points=\"1441,-1306.27 1437.5,-1296.27 1434,-1306.27 1441,-1306.27\"/>\n</g>\n<!-- 132736981182416 -->\n<g id=\"node159\" class=\"node\">\n<title>132736981182416</title>\n<polygon fill=\"lightgrey\" stroke=\"black\" points=\"1619,-1296 1518,-1296 1518,-1277 1619,-1277 1619,-1296\"/>\n<text text-anchor=\"middle\" x=\"1568.5\" y=\"-1284\" font-family=\"monospace\" font-size=\"10.00\">AccumulateGrad</text>\n</g>\n<!-- 132736981182416&#45;&gt;132736979854352 -->\n<g id=\"edge162\" class=\"edge\">\n<title>132736981182416&#45;&gt;132736979854352</title>\n<path fill=\"none\" stroke=\"black\" d=\"M1536.37,-1276.98C1502.35,-1267.97 1448.5,-1253.7 1411,-1243.76\"/>\n<polygon fill=\"black\" stroke=\"black\" points=\"1411.45,-1240.26 1400.89,-1241.08 1409.66,-1247.03 1411.45,-1240.26\"/>\n</g>\n<!-- 132736981171264 -->\n<g id=\"node160\" class=\"node\">\n<title>132736981171264</title>\n<polygon fill=\"lightblue\" stroke=\"black\" points=\"1640,-1362 1521,-1362 1521,-1332 1640,-1332 1640,-1362\"/>\n<text text-anchor=\"middle\" x=\"1580.5\" y=\"-1350\" font-family=\"monospace\" font-size=\"10.00\">layer3.1.bn2.bias</text>\n<text text-anchor=\"middle\" x=\"1580.5\" y=\"-1339\" font-family=\"monospace\" font-size=\"10.00\"> (256)</text>\n</g>\n<!-- 132736981171264&#45;&gt;132736981182416 -->\n<g id=\"edge163\" class=\"edge\">\n<title>132736981171264&#45;&gt;132736981182416</title>\n<path fill=\"none\" stroke=\"black\" d=\"M1577.6,-1331.84C1576.01,-1324.13 1574.04,-1314.49 1572.33,-1306.17\"/>\n<polygon fill=\"black\" stroke=\"black\" points=\"1575.74,-1305.36 1570.3,-1296.27 1568.88,-1306.77 1575.74,-1305.36\"/>\n</g>\n<!-- 132736979857088 -->\n<g id=\"node161\" class=\"node\">\n<title>132736979857088</title>\n<polygon fill=\"lightgrey\" stroke=\"black\" points=\"1359,-1114.5 1258,-1114.5 1258,-1095.5 1359,-1095.5 1359,-1114.5\"/>\n<text text-anchor=\"middle\" x=\"1308.5\" y=\"-1102.5\" font-family=\"monospace\" font-size=\"10.00\">AccumulateGrad</text>\n</g>\n<!-- 132736979857088&#45;&gt;132736916022288 -->\n<g id=\"edge165\" class=\"edge\">\n<title>132736979857088&#45;&gt;132736916022288</title>\n<path fill=\"none\" stroke=\"black\" d=\"M1308.06,-1095.37C1307.64,-1087.25 1307,-1074.81 1306.47,-1064.39\"/>\n<polygon fill=\"black\" stroke=\"black\" points=\"1309.95,-1063.97 1305.94,-1054.17 1302.96,-1064.33 1309.95,-1063.97\"/>\n</g>\n<!-- 132736981163104 -->\n<g id=\"node162\" class=\"node\">\n<title>132736981163104</title>\n<polygon fill=\"lightblue\" stroke=\"black\" points=\"1398,-1186 1255,-1186 1255,-1156 1398,-1156 1398,-1186\"/>\n<text text-anchor=\"middle\" x=\"1326.5\" y=\"-1174\" font-family=\"monospace\" font-size=\"10.00\">layer4.0.conv1.weight</text>\n<text text-anchor=\"middle\" x=\"1326.5\" y=\"-1163\" font-family=\"monospace\" font-size=\"10.00\"> (512, 256, 3, 3)</text>\n</g>\n<!-- 132736981163104&#45;&gt;132736979857088 -->\n<g id=\"edge166\" class=\"edge\">\n<title>132736981163104&#45;&gt;132736979857088</title>\n<path fill=\"none\" stroke=\"black\" d=\"M1322.51,-1155.8C1319.92,-1146.6 1316.52,-1134.53 1313.73,-1124.58\"/>\n<polygon fill=\"black\" stroke=\"black\" points=\"1317.06,-1123.52 1310.99,-1114.84 1310.33,-1125.42 1317.06,-1123.52\"/>\n</g>\n<!-- 132736916415408 -->\n<g id=\"node163\" class=\"node\">\n<title>132736916415408</title>\n<polygon fill=\"lightgrey\" stroke=\"black\" points=\"1493,-1054 1392,-1054 1392,-1035 1493,-1035 1493,-1054\"/>\n<text text-anchor=\"middle\" x=\"1442.5\" y=\"-1042\" font-family=\"monospace\" font-size=\"10.00\">AccumulateGrad</text>\n</g>\n<!-- 132736916415408&#45;&gt;132736916414208 -->\n<g id=\"edge167\" class=\"edge\">\n<title>132736916415408&#45;&gt;132736916414208</title>\n<path fill=\"none\" stroke=\"black\" d=\"M1432.32,-1034.87C1421.62,-1025.8 1404.56,-1011.34 1391.57,-1000.32\"/>\n<polygon fill=\"black\" stroke=\"black\" points=\"1393.61,-997.46 1383.72,-993.67 1389.09,-1002.8 1393.61,-997.46\"/>\n</g>\n<!-- 132736981163664 -->\n<g id=\"node164\" class=\"node\">\n<title>132736981163664</title>\n<polygon fill=\"lightblue\" stroke=\"black\" points=\"1508,-1120 1377,-1120 1377,-1090 1508,-1090 1508,-1120\"/>\n<text text-anchor=\"middle\" x=\"1442.5\" y=\"-1108\" font-family=\"monospace\" font-size=\"10.00\">layer4.0.bn1.weight</text>\n<text text-anchor=\"middle\" x=\"1442.5\" y=\"-1097\" font-family=\"monospace\" font-size=\"10.00\"> (512)</text>\n</g>\n<!-- 132736981163664&#45;&gt;132736916415408 -->\n<g id=\"edge168\" class=\"edge\">\n<title>132736981163664&#45;&gt;132736916415408</title>\n<path fill=\"none\" stroke=\"black\" d=\"M1442.5,-1089.84C1442.5,-1082.21 1442.5,-1072.7 1442.5,-1064.45\"/>\n<polygon fill=\"black\" stroke=\"black\" points=\"1446,-1064.27 1442.5,-1054.27 1439,-1064.27 1446,-1064.27\"/>\n</g>\n<!-- 132736979852240 -->\n<g id=\"node165\" class=\"node\">\n<title>132736979852240</title>\n<polygon fill=\"lightgrey\" stroke=\"black\" points=\"1624,-1054 1523,-1054 1523,-1035 1624,-1035 1624,-1054\"/>\n<text text-anchor=\"middle\" x=\"1573.5\" y=\"-1042\" font-family=\"monospace\" font-size=\"10.00\">AccumulateGrad</text>\n</g>\n<!-- 132736979852240&#45;&gt;132736916414208 -->\n<g id=\"edge169\" class=\"edge\">\n<title>132736979852240&#45;&gt;132736916414208</title>\n<path fill=\"none\" stroke=\"black\" d=\"M1544.42,-1034.99C1509.61,-1024.81 1451.18,-1007.72 1412.49,-996.4\"/>\n<polygon fill=\"black\" stroke=\"black\" points=\"1413.2,-992.96 1402.62,-993.52 1411.23,-999.68 1413.2,-992.96\"/>\n</g>\n<!-- 132736981164784 -->\n<g id=\"node166\" class=\"node\">\n<title>132736981164784</title>\n<polygon fill=\"lightblue\" stroke=\"black\" points=\"1645,-1120 1526,-1120 1526,-1090 1645,-1090 1645,-1120\"/>\n<text text-anchor=\"middle\" x=\"1585.5\" y=\"-1108\" font-family=\"monospace\" font-size=\"10.00\">layer4.0.bn1.bias</text>\n<text text-anchor=\"middle\" x=\"1585.5\" y=\"-1097\" font-family=\"monospace\" font-size=\"10.00\"> (512)</text>\n</g>\n<!-- 132736981164784&#45;&gt;132736979852240 -->\n<g id=\"edge170\" class=\"edge\">\n<title>132736981164784&#45;&gt;132736979852240</title>\n<path fill=\"none\" stroke=\"black\" d=\"M1582.6,-1089.84C1581.01,-1082.13 1579.04,-1072.49 1577.33,-1064.17\"/>\n<polygon fill=\"black\" stroke=\"black\" points=\"1580.74,-1063.36 1575.3,-1054.27 1573.88,-1064.77 1580.74,-1063.36\"/>\n</g>\n<!-- 132736916415600 -->\n<g id=\"node167\" class=\"node\">\n<title>132736916415600</title>\n<polygon fill=\"lightgrey\" stroke=\"black\" points=\"1540,-927.5 1439,-927.5 1439,-908.5 1540,-908.5 1540,-927.5\"/>\n<text text-anchor=\"middle\" x=\"1489.5\" y=\"-915.5\" font-family=\"monospace\" font-size=\"10.00\">AccumulateGrad</text>\n</g>\n<!-- 132736916415600&#45;&gt;132736916415504 -->\n<g id=\"edge171\" class=\"edge\">\n<title>132736916415600&#45;&gt;132736916415504</title>\n<path fill=\"none\" stroke=\"black\" d=\"M1489.06,-908.37C1488.64,-900.25 1488,-887.81 1487.47,-877.39\"/>\n<polygon fill=\"black\" stroke=\"black\" points=\"1490.95,-876.97 1486.94,-867.17 1483.96,-877.33 1490.95,-876.97\"/>\n</g>\n<!-- 132736981164304 -->\n<g id=\"node168\" class=\"node\">\n<title>132736981164304</title>\n<polygon fill=\"lightblue\" stroke=\"black\" points=\"1615,-999 1472,-999 1472,-969 1615,-969 1615,-999\"/>\n<text text-anchor=\"middle\" x=\"1543.5\" y=\"-987\" font-family=\"monospace\" font-size=\"10.00\">layer4.0.conv2.weight</text>\n<text text-anchor=\"middle\" x=\"1543.5\" y=\"-976\" font-family=\"monospace\" font-size=\"10.00\"> (512, 512, 3, 3)</text>\n</g>\n<!-- 132736981164304&#45;&gt;132736916415600 -->\n<g id=\"edge172\" class=\"edge\">\n<title>132736981164304&#45;&gt;132736916415600</title>\n<path fill=\"none\" stroke=\"black\" d=\"M1531.52,-968.8C1523.26,-959.01 1512.26,-945.98 1503.59,-935.7\"/>\n<polygon fill=\"black\" stroke=\"black\" points=\"1506.09,-933.23 1496.96,-927.84 1500.74,-937.74 1506.09,-933.23\"/>\n</g>\n<!-- 132736916415888 -->\n<g id=\"node169\" class=\"node\">\n<title>132736916415888</title>\n<polygon fill=\"lightgrey\" stroke=\"black\" points=\"1674,-867 1573,-867 1573,-848 1674,-848 1674,-867\"/>\n<text text-anchor=\"middle\" x=\"1623.5\" y=\"-855\" font-family=\"monospace\" font-size=\"10.00\">AccumulateGrad</text>\n</g>\n<!-- 132736916415888&#45;&gt;132736916415984 -->\n<g id=\"edge173\" class=\"edge\">\n<title>132736916415888&#45;&gt;132736916415984</title>\n<path fill=\"none\" stroke=\"black\" d=\"M1612.41,-847.98C1602.01,-840 1586.24,-827.88 1573.78,-818.31\"/>\n<polygon fill=\"black\" stroke=\"black\" points=\"1575.85,-815.49 1565.79,-812.17 1571.59,-821.04 1575.85,-815.49\"/>\n</g>\n<!-- 132736981164864 -->\n<g id=\"node170\" class=\"node\">\n<title>132736981164864</title>\n<polygon fill=\"lightblue\" stroke=\"black\" points=\"1689,-933 1558,-933 1558,-903 1689,-903 1689,-933\"/>\n<text text-anchor=\"middle\" x=\"1623.5\" y=\"-921\" font-family=\"monospace\" font-size=\"10.00\">layer4.0.bn2.weight</text>\n<text text-anchor=\"middle\" x=\"1623.5\" y=\"-910\" font-family=\"monospace\" font-size=\"10.00\"> (512)</text>\n</g>\n<!-- 132736981164864&#45;&gt;132736916415888 -->\n<g id=\"edge174\" class=\"edge\">\n<title>132736981164864&#45;&gt;132736916415888</title>\n<path fill=\"none\" stroke=\"black\" d=\"M1623.5,-902.84C1623.5,-895.21 1623.5,-885.7 1623.5,-877.45\"/>\n<polygon fill=\"black\" stroke=\"black\" points=\"1627,-877.27 1623.5,-867.27 1620,-877.27 1627,-877.27\"/>\n</g>\n<!-- 132736916415936 -->\n<g id=\"node171\" class=\"node\">\n<title>132736916415936</title>\n<polygon fill=\"lightgrey\" stroke=\"black\" points=\"1805,-867 1704,-867 1704,-848 1805,-848 1805,-867\"/>\n<text text-anchor=\"middle\" x=\"1754.5\" y=\"-855\" font-family=\"monospace\" font-size=\"10.00\">AccumulateGrad</text>\n</g>\n<!-- 132736916415936&#45;&gt;132736916415984 -->\n<g id=\"edge175\" class=\"edge\">\n<title>132736916415936&#45;&gt;132736916415984</title>\n<path fill=\"none\" stroke=\"black\" d=\"M1722.37,-847.98C1688.35,-838.97 1634.5,-824.7 1597,-814.76\"/>\n<polygon fill=\"black\" stroke=\"black\" points=\"1597.45,-811.26 1586.89,-812.08 1595.66,-818.03 1597.45,-811.26\"/>\n</g>\n<!-- 132736981159984 -->\n<g id=\"node172\" class=\"node\">\n<title>132736981159984</title>\n<polygon fill=\"lightblue\" stroke=\"black\" points=\"1826,-933 1707,-933 1707,-903 1826,-903 1826,-933\"/>\n<text text-anchor=\"middle\" x=\"1766.5\" y=\"-921\" font-family=\"monospace\" font-size=\"10.00\">layer4.0.bn2.bias</text>\n<text text-anchor=\"middle\" x=\"1766.5\" y=\"-910\" font-family=\"monospace\" font-size=\"10.00\"> (512)</text>\n</g>\n<!-- 132736981159984&#45;&gt;132736916415936 -->\n<g id=\"edge176\" class=\"edge\">\n<title>132736981159984&#45;&gt;132736916415936</title>\n<path fill=\"none\" stroke=\"black\" d=\"M1763.6,-902.84C1762.01,-895.13 1760.04,-885.49 1758.33,-877.17\"/>\n<polygon fill=\"black\" stroke=\"black\" points=\"1761.74,-876.36 1756.3,-867.27 1754.88,-877.77 1761.74,-876.36\"/>\n</g>\n<!-- 132736916416032 -->\n<g id=\"node173\" class=\"node\">\n<title>132736916416032</title>\n<polygon fill=\"lightgrey\" stroke=\"black\" points=\"1084,-993.5 923,-993.5 923,-974.5 1084,-974.5 1084,-993.5\"/>\n<text text-anchor=\"middle\" x=\"1003.5\" y=\"-981.5\" font-family=\"monospace\" font-size=\"10.00\">NativeBatchNormBackward0</text>\n</g>\n<!-- 132736916416032&#45;&gt;132736916416080 -->\n<g id=\"edge177\" class=\"edge\">\n<title>132736916416032&#45;&gt;132736916416080</title>\n<path fill=\"none\" stroke=\"black\" d=\"M1014.6,-974.46C1060.66,-939.03 1236.96,-803.41 1296.06,-757.95\"/>\n<polygon fill=\"black\" stroke=\"black\" points=\"1298.41,-760.56 1304.2,-751.69 1294.14,-755.01 1298.41,-760.56\"/>\n</g>\n<!-- 132737155826448&#45;&gt;132736916416032 -->\n<g id=\"edge178\" class=\"edge\">\n<title>132737155826448&#45;&gt;132736916416032</title>\n<path fill=\"none\" stroke=\"black\" d=\"M1065.73,-1034.87C1054.3,-1025.71 1036.02,-1011.06 1022.22,-1000.01\"/>\n<polygon fill=\"black\" stroke=\"black\" points=\"1024.31,-997.19 1014.32,-993.67 1019.93,-1002.65 1024.31,-997.19\"/>\n</g>\n<!-- 132736916415360 -->\n<g id=\"node175\" class=\"node\">\n<title>132736916415360</title>\n<polygon fill=\"lightgrey\" stroke=\"black\" points=\"1127,-1114.5 1026,-1114.5 1026,-1095.5 1127,-1095.5 1127,-1114.5\"/>\n<text text-anchor=\"middle\" x=\"1076.5\" y=\"-1102.5\" font-family=\"monospace\" font-size=\"10.00\">AccumulateGrad</text>\n</g>\n<!-- 132736916415360&#45;&gt;132737155826448 -->\n<g id=\"edge180\" class=\"edge\">\n<title>132736916415360&#45;&gt;132737155826448</title>\n<path fill=\"none\" stroke=\"black\" d=\"M1076.5,-1095.37C1076.5,-1087.25 1076.5,-1074.81 1076.5,-1064.39\"/>\n<polygon fill=\"black\" stroke=\"black\" points=\"1080,-1064.17 1076.5,-1054.17 1073,-1064.17 1080,-1064.17\"/>\n</g>\n<!-- 132736981171184 -->\n<g id=\"node176\" class=\"node\">\n<title>132736981171184</title>\n<polygon fill=\"lightblue\" stroke=\"black\" points=\"1130,-1186 945,-1186 945,-1156 1130,-1156 1130,-1186\"/>\n<text text-anchor=\"middle\" x=\"1037.5\" y=\"-1174\" font-family=\"monospace\" font-size=\"10.00\">layer4.0.downsample.0.weight</text>\n<text text-anchor=\"middle\" x=\"1037.5\" y=\"-1163\" font-family=\"monospace\" font-size=\"10.00\"> (512, 256, 1, 1)</text>\n</g>\n<!-- 132736981171184&#45;&gt;132736916415360 -->\n<g id=\"edge181\" class=\"edge\">\n<title>132736981171184&#45;&gt;132736916415360</title>\n<path fill=\"none\" stroke=\"black\" d=\"M1046.16,-1155.8C1051.94,-1146.31 1059.58,-1133.76 1065.76,-1123.63\"/>\n<polygon fill=\"black\" stroke=\"black\" points=\"1068.9,-1125.21 1071.11,-1114.84 1062.92,-1121.56 1068.9,-1125.21\"/>\n</g>\n<!-- 132736981187312 -->\n<g id=\"node177\" class=\"node\">\n<title>132736981187312</title>\n<polygon fill=\"lightgrey\" stroke=\"black\" points=\"814,-1054 713,-1054 713,-1035 814,-1035 814,-1054\"/>\n<text text-anchor=\"middle\" x=\"763.5\" y=\"-1042\" font-family=\"monospace\" font-size=\"10.00\">AccumulateGrad</text>\n</g>\n<!-- 132736981187312&#45;&gt;132736916416032 -->\n<g id=\"edge182\" class=\"edge\">\n<title>132736981187312&#45;&gt;132736916416032</title>\n<path fill=\"none\" stroke=\"black\" d=\"M798.4,-1034.99C840.79,-1024.66 912.37,-1007.21 958.77,-995.9\"/>\n<polygon fill=\"black\" stroke=\"black\" points=\"959.67,-999.29 968.56,-993.52 958.02,-992.48 959.67,-999.29\"/>\n</g>\n<!-- 132736981170784 -->\n<g id=\"node178\" class=\"node\">\n<title>132736981170784</title>\n<polygon fill=\"lightblue\" stroke=\"black\" points=\"817,-1120 632,-1120 632,-1090 817,-1090 817,-1120\"/>\n<text text-anchor=\"middle\" x=\"724.5\" y=\"-1108\" font-family=\"monospace\" font-size=\"10.00\">layer4.0.downsample.1.weight</text>\n<text text-anchor=\"middle\" x=\"724.5\" y=\"-1097\" font-family=\"monospace\" font-size=\"10.00\"> (512)</text>\n</g>\n<!-- 132736981170784&#45;&gt;132736981187312 -->\n<g id=\"edge183\" class=\"edge\">\n<title>132736981170784&#45;&gt;132736981187312</title>\n<path fill=\"none\" stroke=\"black\" d=\"M733.94,-1089.84C739.37,-1081.69 746.23,-1071.4 751.98,-1062.78\"/>\n<polygon fill=\"black\" stroke=\"black\" points=\"755.02,-1064.53 757.66,-1054.27 749.2,-1060.65 755.02,-1064.53\"/>\n</g>\n<!-- 132736916415456 -->\n<g id=\"node179\" class=\"node\">\n<title>132736916415456</title>\n<polygon fill=\"lightgrey\" stroke=\"black\" points=\"981,-1054 880,-1054 880,-1035 981,-1035 981,-1054\"/>\n<text text-anchor=\"middle\" x=\"930.5\" y=\"-1042\" font-family=\"monospace\" font-size=\"10.00\">AccumulateGrad</text>\n</g>\n<!-- 132736916415456&#45;&gt;132736916416032 -->\n<g id=\"edge184\" class=\"edge\">\n<title>132736916415456&#45;&gt;132736916416032</title>\n<path fill=\"none\" stroke=\"black\" d=\"M941.27,-1034.87C952.7,-1025.71 970.98,-1011.06 984.78,-1000.01\"/>\n<polygon fill=\"black\" stroke=\"black\" points=\"987.07,-1002.65 992.68,-993.67 982.69,-997.19 987.07,-1002.65\"/>\n</g>\n<!-- 132736981170704 -->\n<g id=\"node180\" class=\"node\">\n<title>132736981170704</title>\n<polygon fill=\"lightblue\" stroke=\"black\" points=\"1008,-1120 835,-1120 835,-1090 1008,-1090 1008,-1120\"/>\n<text text-anchor=\"middle\" x=\"921.5\" y=\"-1108\" font-family=\"monospace\" font-size=\"10.00\">layer4.0.downsample.1.bias</text>\n<text text-anchor=\"middle\" x=\"921.5\" y=\"-1097\" font-family=\"monospace\" font-size=\"10.00\"> (512)</text>\n</g>\n<!-- 132736981170704&#45;&gt;132736916415456 -->\n<g id=\"edge185\" class=\"edge\">\n<title>132736981170704&#45;&gt;132736916415456</title>\n<path fill=\"none\" stroke=\"black\" d=\"M923.68,-1089.84C924.87,-1082.13 926.35,-1072.49 927.63,-1064.17\"/>\n<polygon fill=\"black\" stroke=\"black\" points=\"931.09,-1064.68 929.15,-1054.27 924.17,-1063.62 931.09,-1064.68\"/>\n</g>\n<!-- 132736916415744 -->\n<g id=\"node181\" class=\"node\">\n<title>132736916415744</title>\n<polygon fill=\"lightgrey\" stroke=\"black\" points=\"1491,-685.5 1390,-685.5 1390,-666.5 1491,-666.5 1491,-685.5\"/>\n<text text-anchor=\"middle\" x=\"1440.5\" y=\"-673.5\" font-family=\"monospace\" font-size=\"10.00\">AccumulateGrad</text>\n</g>\n<!-- 132736916415744&#45;&gt;132736916416272 -->\n<g id=\"edge186\" class=\"edge\">\n<title>132736916415744&#45;&gt;132736916416272</title>\n<path fill=\"none\" stroke=\"black\" d=\"M1440.06,-666.37C1439.64,-658.25 1439,-645.81 1438.47,-635.39\"/>\n<polygon fill=\"black\" stroke=\"black\" points=\"1441.95,-634.97 1437.94,-625.17 1434.96,-635.33 1441.95,-634.97\"/>\n</g>\n<!-- 132736981165504 -->\n<g id=\"node182\" class=\"node\">\n<title>132736981165504</title>\n<polygon fill=\"lightblue\" stroke=\"black\" points=\"1521,-757 1378,-757 1378,-727 1521,-727 1521,-757\"/>\n<text text-anchor=\"middle\" x=\"1449.5\" y=\"-745\" font-family=\"monospace\" font-size=\"10.00\">layer4.1.conv1.weight</text>\n<text text-anchor=\"middle\" x=\"1449.5\" y=\"-734\" font-family=\"monospace\" font-size=\"10.00\"> (512, 512, 3, 3)</text>\n</g>\n<!-- 132736981165504&#45;&gt;132736916415744 -->\n<g id=\"edge187\" class=\"edge\">\n<title>132736981165504&#45;&gt;132736916415744</title>\n<path fill=\"none\" stroke=\"black\" d=\"M1447.5,-726.8C1446.22,-717.7 1444.55,-705.79 1443.16,-695.9\"/>\n<polygon fill=\"black\" stroke=\"black\" points=\"1446.6,-695.26 1441.74,-685.84 1439.67,-696.23 1446.6,-695.26\"/>\n</g>\n<!-- 132736916416320 -->\n<g id=\"node183\" class=\"node\">\n<title>132736916416320</title>\n<polygon fill=\"lightgrey\" stroke=\"black\" points=\"1625,-625 1524,-625 1524,-606 1625,-606 1625,-625\"/>\n<text text-anchor=\"middle\" x=\"1574.5\" y=\"-613\" font-family=\"monospace\" font-size=\"10.00\">AccumulateGrad</text>\n</g>\n<!-- 132736916416320&#45;&gt;132736916416368 -->\n<g id=\"edge188\" class=\"edge\">\n<title>132736916416320&#45;&gt;132736916416368</title>\n<path fill=\"none\" stroke=\"black\" d=\"M1564.02,-605.87C1553.01,-596.8 1535.46,-582.34 1522.09,-571.32\"/>\n<polygon fill=\"black\" stroke=\"black\" points=\"1523.96,-568.33 1514.02,-564.67 1519.51,-573.73 1523.96,-568.33\"/>\n</g>\n<!-- 132736981168144 -->\n<g id=\"node184\" class=\"node\">\n<title>132736981168144</title>\n<polygon fill=\"lightblue\" stroke=\"black\" points=\"1640,-691 1509,-691 1509,-661 1640,-661 1640,-691\"/>\n<text text-anchor=\"middle\" x=\"1574.5\" y=\"-679\" font-family=\"monospace\" font-size=\"10.00\">layer4.1.bn1.weight</text>\n<text text-anchor=\"middle\" x=\"1574.5\" y=\"-668\" font-family=\"monospace\" font-size=\"10.00\"> (512)</text>\n</g>\n<!-- 132736981168144&#45;&gt;132736916416320 -->\n<g id=\"edge189\" class=\"edge\">\n<title>132736981168144&#45;&gt;132736916416320</title>\n<path fill=\"none\" stroke=\"black\" d=\"M1574.5,-660.84C1574.5,-653.21 1574.5,-643.7 1574.5,-635.45\"/>\n<polygon fill=\"black\" stroke=\"black\" points=\"1578,-635.27 1574.5,-625.27 1571,-635.27 1578,-635.27\"/>\n</g>\n<!-- 132736916416128 -->\n<g id=\"node185\" class=\"node\">\n<title>132736916416128</title>\n<polygon fill=\"lightgrey\" stroke=\"black\" points=\"1756,-625 1655,-625 1655,-606 1756,-606 1756,-625\"/>\n<text text-anchor=\"middle\" x=\"1705.5\" y=\"-613\" font-family=\"monospace\" font-size=\"10.00\">AccumulateGrad</text>\n</g>\n<!-- 132736916416128&#45;&gt;132736916416368 -->\n<g id=\"edge190\" class=\"edge\">\n<title>132736916416128&#45;&gt;132736916416368</title>\n<path fill=\"none\" stroke=\"black\" d=\"M1676.13,-605.99C1640.9,-595.79 1581.71,-578.65 1542.63,-567.33\"/>\n<polygon fill=\"black\" stroke=\"black\" points=\"1543.49,-563.94 1532.91,-564.52 1541.54,-570.66 1543.49,-563.94\"/>\n</g>\n<!-- 132736981170864 -->\n<g id=\"node186\" class=\"node\">\n<title>132736981170864</title>\n<polygon fill=\"lightblue\" stroke=\"black\" points=\"1777,-691 1658,-691 1658,-661 1777,-661 1777,-691\"/>\n<text text-anchor=\"middle\" x=\"1717.5\" y=\"-679\" font-family=\"monospace\" font-size=\"10.00\">layer4.1.bn1.bias</text>\n<text text-anchor=\"middle\" x=\"1717.5\" y=\"-668\" font-family=\"monospace\" font-size=\"10.00\"> (512)</text>\n</g>\n<!-- 132736981170864&#45;&gt;132736916416128 -->\n<g id=\"edge191\" class=\"edge\">\n<title>132736981170864&#45;&gt;132736916416128</title>\n<path fill=\"none\" stroke=\"black\" d=\"M1714.6,-660.84C1713.01,-653.13 1711.04,-643.49 1709.33,-635.17\"/>\n<polygon fill=\"black\" stroke=\"black\" points=\"1712.74,-634.36 1707.3,-625.27 1705.88,-635.77 1712.74,-634.36\"/>\n</g>\n<!-- 132736916416656 -->\n<g id=\"node187\" class=\"node\">\n<title>132736916416656</title>\n<polygon fill=\"lightgrey\" stroke=\"black\" points=\"1670,-498.5 1569,-498.5 1569,-479.5 1670,-479.5 1670,-498.5\"/>\n<text text-anchor=\"middle\" x=\"1619.5\" y=\"-486.5\" font-family=\"monospace\" font-size=\"10.00\">AccumulateGrad</text>\n</g>\n<!-- 132736916416656&#45;&gt;132736916416800 -->\n<g id=\"edge192\" class=\"edge\">\n<title>132736916416656&#45;&gt;132736916416800</title>\n<path fill=\"none\" stroke=\"black\" d=\"M1619.06,-479.37C1618.64,-471.25 1618,-458.81 1617.47,-448.39\"/>\n<polygon fill=\"black\" stroke=\"black\" points=\"1620.95,-447.97 1616.94,-438.17 1613.96,-448.33 1620.95,-447.97\"/>\n</g>\n<!-- 132736981285632 -->\n<g id=\"node188\" class=\"node\">\n<title>132736981285632</title>\n<polygon fill=\"lightblue\" stroke=\"black\" points=\"1745,-570 1602,-570 1602,-540 1745,-540 1745,-570\"/>\n<text text-anchor=\"middle\" x=\"1673.5\" y=\"-558\" font-family=\"monospace\" font-size=\"10.00\">layer4.1.conv2.weight</text>\n<text text-anchor=\"middle\" x=\"1673.5\" y=\"-547\" font-family=\"monospace\" font-size=\"10.00\"> (512, 512, 3, 3)</text>\n</g>\n<!-- 132736981285632&#45;&gt;132736916416656 -->\n<g id=\"edge193\" class=\"edge\">\n<title>132736981285632&#45;&gt;132736916416656</title>\n<path fill=\"none\" stroke=\"black\" d=\"M1661.52,-539.8C1653.26,-530.01 1642.26,-516.98 1633.59,-506.7\"/>\n<polygon fill=\"black\" stroke=\"black\" points=\"1636.09,-504.23 1626.96,-498.84 1630.74,-508.74 1636.09,-504.23\"/>\n</g>\n<!-- 132736916416848 -->\n<g id=\"node189\" class=\"node\">\n<title>132736916416848</title>\n<polygon fill=\"lightgrey\" stroke=\"black\" points=\"1804,-438 1703,-438 1703,-419 1804,-419 1804,-438\"/>\n<text text-anchor=\"middle\" x=\"1753.5\" y=\"-426\" font-family=\"monospace\" font-size=\"10.00\">AccumulateGrad</text>\n</g>\n<!-- 132736916416848&#45;&gt;132736916416512 -->\n<g id=\"edge194\" class=\"edge\">\n<title>132736916416848&#45;&gt;132736916416512</title>\n<path fill=\"none\" stroke=\"black\" d=\"M1742.41,-418.98C1732.01,-411 1716.24,-398.88 1703.78,-389.31\"/>\n<polygon fill=\"black\" stroke=\"black\" points=\"1705.85,-386.49 1695.79,-383.17 1701.59,-392.04 1705.85,-386.49\"/>\n</g>\n<!-- 132736924067024 -->\n<g id=\"node190\" class=\"node\">\n<title>132736924067024</title>\n<polygon fill=\"lightblue\" stroke=\"black\" points=\"1819,-504 1688,-504 1688,-474 1819,-474 1819,-504\"/>\n<text text-anchor=\"middle\" x=\"1753.5\" y=\"-492\" font-family=\"monospace\" font-size=\"10.00\">layer4.1.bn2.weight</text>\n<text text-anchor=\"middle\" x=\"1753.5\" y=\"-481\" font-family=\"monospace\" font-size=\"10.00\"> (512)</text>\n</g>\n<!-- 132736924067024&#45;&gt;132736916416848 -->\n<g id=\"edge195\" class=\"edge\">\n<title>132736924067024&#45;&gt;132736916416848</title>\n<path fill=\"none\" stroke=\"black\" d=\"M1753.5,-473.84C1753.5,-466.21 1753.5,-456.7 1753.5,-448.45\"/>\n<polygon fill=\"black\" stroke=\"black\" points=\"1757,-448.27 1753.5,-438.27 1750,-448.27 1757,-448.27\"/>\n</g>\n<!-- 132736916416464 -->\n<g id=\"node191\" class=\"node\">\n<title>132736916416464</title>\n<polygon fill=\"lightgrey\" stroke=\"black\" points=\"1935,-438 1834,-438 1834,-419 1935,-419 1935,-438\"/>\n<text text-anchor=\"middle\" x=\"1884.5\" y=\"-426\" font-family=\"monospace\" font-size=\"10.00\">AccumulateGrad</text>\n</g>\n<!-- 132736916416464&#45;&gt;132736916416512 -->\n<g id=\"edge196\" class=\"edge\">\n<title>132736916416464&#45;&gt;132736916416512</title>\n<path fill=\"none\" stroke=\"black\" d=\"M1852.37,-418.98C1818.35,-409.97 1764.5,-395.7 1727,-385.76\"/>\n<polygon fill=\"black\" stroke=\"black\" points=\"1727.45,-382.26 1716.89,-383.08 1725.66,-389.03 1727.45,-382.26\"/>\n</g>\n<!-- 132736981282912 -->\n<g id=\"node192\" class=\"node\">\n<title>132736981282912</title>\n<polygon fill=\"lightblue\" stroke=\"black\" points=\"1956,-504 1837,-504 1837,-474 1956,-474 1956,-504\"/>\n<text text-anchor=\"middle\" x=\"1896.5\" y=\"-492\" font-family=\"monospace\" font-size=\"10.00\">layer4.1.bn2.bias</text>\n<text text-anchor=\"middle\" x=\"1896.5\" y=\"-481\" font-family=\"monospace\" font-size=\"10.00\"> (512)</text>\n</g>\n<!-- 132736981282912&#45;&gt;132736916416464 -->\n<g id=\"edge197\" class=\"edge\">\n<title>132736981282912&#45;&gt;132736916416464</title>\n<path fill=\"none\" stroke=\"black\" d=\"M1893.6,-473.84C1892.01,-466.13 1890.04,-456.49 1888.33,-448.17\"/>\n<polygon fill=\"black\" stroke=\"black\" points=\"1891.74,-447.36 1886.3,-438.27 1884.88,-448.77 1891.74,-447.36\"/>\n</g>\n<!-- 132736916417616 -->\n<g id=\"node193\" class=\"node\">\n<title>132736916417616</title>\n<polygon fill=\"lightgrey\" stroke=\"black\" points=\"1595,-141 1518,-141 1518,-122 1595,-122 1595,-141\"/>\n<text text-anchor=\"middle\" x=\"1556.5\" y=\"-129\" font-family=\"monospace\" font-size=\"10.00\">TBackward0</text>\n</g>\n<!-- 132736916417616&#45;&gt;132736916417472 -->\n<g id=\"edge199\" class=\"edge\">\n<title>132736916417616&#45;&gt;132736916417472</title>\n<path fill=\"none\" stroke=\"black\" d=\"M1538.83,-121.98C1521.21,-113.5 1493.92,-100.35 1473.57,-90.54\"/>\n<polygon fill=\"black\" stroke=\"black\" points=\"1475.02,-87.36 1464.49,-86.17 1471.98,-93.66 1475.02,-87.36\"/>\n</g>\n<!-- 132736916416992 -->\n<g id=\"node194\" class=\"node\">\n<title>132736916416992</title>\n<polygon fill=\"lightgrey\" stroke=\"black\" points=\"1610,-201.5 1509,-201.5 1509,-182.5 1610,-182.5 1610,-201.5\"/>\n<text text-anchor=\"middle\" x=\"1559.5\" y=\"-189.5\" font-family=\"monospace\" font-size=\"10.00\">AccumulateGrad</text>\n</g>\n<!-- 132736916416992&#45;&gt;132736916417616 -->\n<g id=\"edge200\" class=\"edge\">\n<title>132736916416992&#45;&gt;132736916417616</title>\n<path fill=\"none\" stroke=\"black\" d=\"M1559.06,-182.37C1558.64,-174.25 1558,-161.81 1557.47,-151.39\"/>\n<polygon fill=\"black\" stroke=\"black\" points=\"1560.95,-150.97 1556.94,-141.17 1553.96,-151.33 1560.95,-150.97\"/>\n</g>\n<!-- 132736981282192 -->\n<g id=\"node195\" class=\"node\">\n<title>132736981282192</title>\n<polygon fill=\"lightblue\" stroke=\"black\" points=\"1604,-273 1515,-273 1515,-243 1604,-243 1604,-273\"/>\n<text text-anchor=\"middle\" x=\"1559.5\" y=\"-261\" font-family=\"monospace\" font-size=\"10.00\">fc.weight</text>\n<text text-anchor=\"middle\" x=\"1559.5\" y=\"-250\" font-family=\"monospace\" font-size=\"10.00\"> (1000, 512)</text>\n</g>\n<!-- 132736981282192&#45;&gt;132736916416992 -->\n<g id=\"edge201\" class=\"edge\">\n<title>132736981282192&#45;&gt;132736916416992</title>\n<path fill=\"none\" stroke=\"black\" d=\"M1559.5,-242.8C1559.5,-233.7 1559.5,-221.79 1559.5,-211.9\"/>\n<polygon fill=\"black\" stroke=\"black\" points=\"1563,-211.84 1559.5,-201.84 1556,-211.84 1563,-211.84\"/>\n</g>\n</g>\n</svg>\n",
            "text/plain": [
              "<graphviz.graphs.Digraph at 0x78b938c06bf0>"
            ]
          },
          "metadata": {},
          "execution_count": 46
        }
      ],
      "source": [
        "!pip install torchvision\n",
        "from torchvision import models\n",
        "xin = torch.randn(1,3,224,224)\n",
        "resnet18 = models.resnet18()\n",
        "y = resnet18(Variable(xin))\n",
        "g = make_dot(y, dict(resnet18.named_parameters()))\n",
        "g"
      ]
    },
    {
      "cell_type": "markdown",
      "metadata": {
        "id": "7S6srVMzG2G1"
      },
      "source": [
        "# Aprendizados com este notebook"
      ]
    },
    {
      "cell_type": "markdown",
      "metadata": {
        "collapsed": true,
        "id": "VyUo4FaAG2G2"
      },
      "source": []
    }
  ],
  "metadata": {
    "colab": {
      "provenance": [],
      "include_colab_link": true
    },
    "kernelspec": {
      "display_name": "Python 3.10.2 64-bit",
      "language": "python",
      "name": "python3"
    },
    "language_info": {
      "name": "python",
      "version": "3.10.2"
    },
    "vscode": {
      "interpreter": {
        "hash": "5fe3e6f0cdaab8afdc61c52912fda83f7c0a71baaea1897dd7498e2df01e69ec"
      }
    }
  },
  "nbformat": 4,
  "nbformat_minor": 0
}