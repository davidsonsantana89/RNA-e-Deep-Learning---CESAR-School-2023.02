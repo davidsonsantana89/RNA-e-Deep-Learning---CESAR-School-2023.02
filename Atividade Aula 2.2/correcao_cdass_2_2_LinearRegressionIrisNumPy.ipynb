{
  "cells": [
    {
      "cell_type": "markdown",
      "metadata": {
        "id": "AF51iUcyObUf"
      },
      "source": [
        "DAVIDSON ALVES SANTOS DE SANTANA\n",
        "\n",
        "dass@cesar.school"
      ]
    },
    {
      "cell_type": "markdown",
      "metadata": {
        "id": "5yQgzdjbf9RT"
      },
      "source": [
        "# Regressão Linear com NumPy"
      ]
    },
    {
      "cell_type": "markdown",
      "metadata": {
        "heading_collapsed": true,
        "id": "p5HfrYM3f9RU"
      },
      "source": [
        "## Objetivos deste experimento"
      ]
    },
    {
      "cell_type": "markdown",
      "metadata": {
        "hidden": true,
        "id": "IIYC2db7f9RW"
      },
      "source": [
        "Este exemplo utiliza regressão linear para estimar o comprimento das sépalas da íris a partir do seu comprimento das pétalas.\n",
        "Utiliza-se programação totalmente NumPy com:\n",
        "- o **cálculo do gradiente**,\n",
        "- a **função de perda** e\n",
        "- a atualização dos parâmetros são feitos de forma explícita.\n",
        "- A rede é criada com uma camada como uma classe"
      ]
    },
    {
      "cell_type": "markdown",
      "metadata": {
        "hidden": true,
        "id": "ImJOZIiNf9RW"
      },
      "source": [
        "![alt text](https://raw.githubusercontent.com/vcasadei/images/master/RegressaoLinear_Otimizacao.png)"
      ]
    },
    {
      "cell_type": "markdown",
      "metadata": {
        "heading_collapsed": true,
        "id": "EeTHWCuMf9RX"
      },
      "source": [
        "## Importação dos pacotes"
      ]
    },
    {
      "cell_type": "code",
      "execution_count": null,
      "metadata": {
        "ExecuteTime": {
          "end_time": "2017-10-08T11:19:38.728936Z",
          "start_time": "2017-10-08T11:19:36.888541Z"
        },
        "hidden": true,
        "id": "5yPytaCLf9RY"
      },
      "outputs": [],
      "source": [
        "%matplotlib inline\n",
        "import matplotlib.pyplot as plt   # para plotting\n",
        "\n",
        "from sklearn.datasets import load_iris  # para carregar dataset\n",
        "\n",
        "import numpy as np  # processamento matricial\n",
        "\n",
        "np.random.seed(1234)"
      ]
    },
    {
      "cell_type": "markdown",
      "metadata": {
        "heading_collapsed": true,
        "id": "wDkSLSnmf9Rc"
      },
      "source": [
        "## Dataset"
      ]
    },
    {
      "cell_type": "markdown",
      "metadata": {
        "heading_collapsed": true,
        "hidden": true,
        "id": "ldcOnrBvf9Rd"
      },
      "source": [
        "### Leitura dos dados"
      ]
    },
    {
      "cell_type": "code",
      "execution_count": null,
      "metadata": {
        "ExecuteTime": {
          "end_time": "2017-10-08T11:19:38.747769Z",
          "start_time": "2017-10-08T11:19:38.730907Z"
        },
        "colab": {
          "base_uri": "https://localhost:8080/"
        },
        "hidden": true,
        "id": "l3t1qaa0f9Re",
        "outputId": "09d83bed-e1f9-4c7a-bb89-fd3054645ef3"
      },
      "outputs": [
        {
          "name": "stdout",
          "output_type": "stream",
          "text": [
            "x_train.shape: (50, 1) float64\n",
            "y_train.shape: (50, 1) float64\n",
            "x_train[:5]:\n",
            " [[7. ]\n",
            " [6.4]\n",
            " [6.9]\n",
            " [5.5]\n",
            " [6.5]]\n",
            "y_train[:5]:\n",
            " [[4.7]\n",
            " [4.5]\n",
            " [4.9]\n",
            " [4. ]\n",
            " [4.6]]\n"
          ]
        }
      ],
      "source": [
        "iris = load_iris()\n",
        "data = iris.data[iris.target==1,::2]  # comprimento das sépalas e pétalas, indices 0 e 2\n",
        "\n",
        "x_train = data[:,0:1]\n",
        "y_train = data[:,1:2]\n",
        "\n",
        "n_samples = x_train.shape[0]\n",
        "print('x_train.shape:',x_train.shape, x_train.dtype)\n",
        "print('y_train.shape:',y_train.shape, y_train.dtype)\n",
        "\n",
        "print('x_train[:5]:\\n', x_train[:5])\n",
        "print('y_train[:5]:\\n', y_train[:5])"
      ]
    },
    {
      "cell_type": "markdown",
      "metadata": {
        "hidden": true,
        "id": "aPQ-L6FVf9Rk"
      },
      "source": [
        "### Normalização dos dados"
      ]
    },
    {
      "cell_type": "code",
      "execution_count": null,
      "metadata": {
        "ExecuteTime": {
          "end_time": "2017-10-08T11:19:38.756343Z",
          "start_time": "2017-10-08T11:19:38.750395Z"
        },
        "hidden": true,
        "id": "POM323GEf9Rl"
      },
      "outputs": [],
      "source": [
        "x_train -= x_train.min()\n",
        "x_train /= x_train.max()\n",
        "y_train -= y_train.min()\n",
        "y_train /= y_train.max()"
      ]
    },
    {
      "cell_type": "code",
      "execution_count": null,
      "metadata": {
        "ExecuteTime": {
          "end_time": "2017-10-08T11:19:39.127199Z",
          "start_time": "2017-10-08T11:19:38.759104Z"
        },
        "colab": {
          "base_uri": "https://localhost:8080/",
          "height": 466
        },
        "hidden": true,
        "id": "dx5AO9Qxf9Rn",
        "outputId": "f939866d-7dac-4b31-922c-05728ae13e8e"
      },
      "outputs": [
        {
          "data": {
            "text/plain": [
              "Text(0, 0.5, 'Comprimento petalas')"
            ]
          },
          "execution_count": 54,
          "metadata": {},
          "output_type": "execute_result"
        },
        {
          "data": {
            "image/png": "[encoded data removed]",
            "text/plain": [
              "<Figure size 640x480 with 1 Axes>"
            ]
          },
          "metadata": {},
          "output_type": "display_data"
        }
      ],
      "source": [
        "plt.scatter(x_train,y_train)\n",
        "plt.xlabel('Comprimento sepalas')\n",
        "plt.ylabel('Comprimento petalas')"
      ]
    },
    {
      "cell_type": "markdown",
      "metadata": {
        "heading_collapsed": true,
        "id": "poW81teqf9Rr"
      },
      "source": [
        "## Modelo da rede"
      ]
    },
    {
      "cell_type": "markdown",
      "metadata": {
        "hidden": true,
        "id": "QXFLlJ0_f9Rt"
      },
      "source": [
        "### Reta de ajuste"
      ]
    },
    {
      "cell_type": "markdown",
      "metadata": {
        "hidden": true,
        "id": "s7JuPXysf9Rt"
      },
      "source": [
        "A equação da reta no plano necessita de dois parâmetros, aqui denominados $w_0$ (*bias*) e inclinação $w_1$. Veja figura:\n",
        "\n",
        "![alt text](https://raw.githubusercontent.com/vcasadei/images/master/linhareta.png)\n",
        "\n",
        "A reta de ajuste será dada por:\n",
        "\n",
        "$$ \\hat{y} = w_0 + w_1 x $$\n",
        "\n",
        "onde\n",
        "* $w_1$ é o coeficiente angular da reta e\n",
        "* $w_0$ é a interseção do eixo vertical quando x é igual a zero, também denominado de *bias*.\n",
        "* $x$ é a variável de entrada (comprimento das sépalas) e\n",
        "* $\\hat{y}$ é a predição (comprimento estimado das pétalas)."
      ]
    },
    {
      "cell_type": "markdown",
      "metadata": {
        "hidden": true,
        "id": "hwin_xPff9Ru"
      },
      "source": [
        "### Linear Regression Model"
      ]
    },
    {
      "cell_type": "markdown",
      "metadata": {
        "hidden": true,
        "id": "c7ilOLnkf9Rw"
      },
      "source": [
        "![alt text](https://raw.githubusercontent.com/vcasadei/images/master/RegressaoLinearNeuronio.png)"
      ]
    },
    {
      "cell_type": "markdown",
      "metadata": {
        "hidden": true,
        "id": "H0CzMB91f9Rx"
      },
      "source": [
        "### Formulação matricial do neurônio"
      ]
    },
    {
      "cell_type": "markdown",
      "metadata": {
        "hidden": true,
        "id": "-wWz_wpYf9Ry"
      },
      "source": [
        "* $\\mathbf{w} = [w_0 \\ w_1]$ é vetor linha de parâmetros e\n",
        "* $\\mathbf{x} = [1 \\ x_0] $ é vetor linha de uma amostra (com *bias*).\n",
        "\n",
        "$$ \\hat{y} = 1 w_0 + x_0 w_1 $$\n",
        "\n",
        "$$ [\\hat{y}] = [1 \\ x_0] \\begin{bmatrix} w_0 \\\\ w_1 \\end{bmatrix} $$\n",
        "\n",
        "$$ \\mathbf{\\hat{y}} = \\mathbf{x} \\mathbf{w^T} $$"
      ]
    },
    {
      "cell_type": "markdown",
      "metadata": {
        "hidden": true,
        "id": "rQ1lc-dYf9Rz"
      },
      "source": [
        "### Fazendo o predict de várias amostras"
      ]
    },
    {
      "cell_type": "markdown",
      "metadata": {
        "hidden": true,
        "id": "fh068Clrf9R0"
      },
      "source": [
        "$$ \\begin{matrix}\n",
        "\\begin{bmatrix}\n",
        "\\hat{y}_0\\\\\n",
        "\\hat{y}_1\\\\\n",
        "\\\\\n",
        "\\hat{y}_{M-1}\n",
        "\\end{bmatrix} &=& \\begin{bmatrix}\n",
        "1 & x_0 \\\\\n",
        "1 & x_1\\\\\n",
        "\\\\\n",
        "1 & x_{M-1} \\\\\n",
        "\\end{bmatrix}\n",
        "&\n",
        "\\begin{bmatrix}\n",
        "w_0\\\\\n",
        "w_1\n",
        "\\end{bmatrix} \\\\\n",
        "(M,1) & & (M,2) & (2,1) \\\\\n",
        "\\end{matrix} $$"
      ]
    },
    {
      "cell_type": "markdown",
      "metadata": {
        "hidden": true,
        "id": "jjSchAsZf9R2"
      },
      "source": [
        "### Preenchendo x com coluna de 1's para bias"
      ]
    },
    {
      "cell_type": "code",
      "execution_count": null,
      "metadata": {
        "colab": {
          "base_uri": "https://localhost:8080/"
        },
        "id": "DF_FuqEV9tgH",
        "outputId": "80c27692-afea-4bb7-d3f7-9b2a9ca6ecde"
      },
      "outputs": [
        {
          "data": {
            "text/plain": [
              "array([[1.        ],\n",
              "       [0.71428571],\n",
              "       [0.95238095],\n",
              "       [0.28571429],\n",
              "       [0.76190476],\n",
              "       [0.38095238],\n",
              "       [0.66666667],\n",
              "       [0.        ],\n",
              "       [0.80952381],\n",
              "       [0.14285714],\n",
              "       [0.04761905],\n",
              "       [0.47619048],\n",
              "       [0.52380952],\n",
              "       [0.57142857],\n",
              "       [0.33333333],\n",
              "       [0.85714286],\n",
              "       [0.33333333],\n",
              "       [0.42857143],\n",
              "       [0.61904762],\n",
              "       [0.33333333],\n",
              "       [0.47619048],\n",
              "       [0.57142857],\n",
              "       [0.66666667],\n",
              "       [0.57142857],\n",
              "       [0.71428571],\n",
              "       [0.80952381],\n",
              "       [0.9047619 ],\n",
              "       [0.85714286],\n",
              "       [0.52380952],\n",
              "       [0.38095238],\n",
              "       [0.28571429],\n",
              "       [0.28571429],\n",
              "       [0.42857143],\n",
              "       [0.52380952],\n",
              "       [0.23809524],\n",
              "       [0.52380952],\n",
              "       [0.85714286],\n",
              "       [0.66666667],\n",
              "       [0.33333333],\n",
              "       [0.28571429],\n",
              "       [0.28571429],\n",
              "       [0.57142857],\n",
              "       [0.42857143],\n",
              "       [0.04761905],\n",
              "       [0.33333333],\n",
              "       [0.38095238],\n",
              "       [0.38095238],\n",
              "       [0.61904762],\n",
              "       [0.0952381 ],\n",
              "       [0.38095238]])"
            ]
          },
          "execution_count": 55,
          "metadata": {},
          "output_type": "execute_result"
        }
      ],
      "source": [
        "x_train"
      ]
    },
    {
      "cell_type": "code",
      "execution_count": null,
      "metadata": {
        "ExecuteTime": {
          "end_time": "2017-10-08T11:19:39.135089Z",
          "start_time": "2017-10-08T11:19:39.129385Z"
        },
        "hidden": true,
        "id": "plZEY5-tf9R2"
      },
      "outputs": [],
      "source": [
        "x_train_bias = np.hstack([np.ones(shape=(n_samples,1)), x_train])"
      ]
    },
    {
      "cell_type": "code",
      "execution_count": null,
      "metadata": {
        "colab": {
          "base_uri": "https://localhost:8080/"
        },
        "id": "tXYx3JdMf9R6",
        "outputId": "670afc37-5440-4db5-d0f6-2589614f57a4"
      },
      "outputs": [
        {
          "data": {
            "text/plain": [
              "array([[1.        , 1.        ],\n",
              "       [1.        , 0.71428571],\n",
              "       [1.        , 0.95238095],\n",
              "       [1.        , 0.28571429],\n",
              "       [1.        , 0.76190476],\n",
              "       [1.        , 0.38095238],\n",
              "       [1.        , 0.66666667],\n",
              "       [1.        , 0.        ],\n",
              "       [1.        , 0.80952381],\n",
              "       [1.        , 0.14285714],\n",
              "       [1.        , 0.04761905],\n",
              "       [1.        , 0.47619048],\n",
              "       [1.        , 0.52380952],\n",
              "       [1.        , 0.57142857],\n",
              "       [1.        , 0.33333333],\n",
              "       [1.        , 0.85714286],\n",
              "       [1.        , 0.33333333],\n",
              "       [1.        , 0.42857143],\n",
              "       [1.        , 0.61904762],\n",
              "       [1.        , 0.33333333],\n",
              "       [1.        , 0.47619048],\n",
              "       [1.        , 0.57142857],\n",
              "       [1.        , 0.66666667],\n",
              "       [1.        , 0.57142857],\n",
              "       [1.        , 0.71428571],\n",
              "       [1.        , 0.80952381],\n",
              "       [1.        , 0.9047619 ],\n",
              "       [1.        , 0.85714286],\n",
              "       [1.        , 0.52380952],\n",
              "       [1.        , 0.38095238],\n",
              "       [1.        , 0.28571429],\n",
              "       [1.        , 0.28571429],\n",
              "       [1.        , 0.42857143],\n",
              "       [1.        , 0.52380952],\n",
              "       [1.        , 0.23809524],\n",
              "       [1.        , 0.52380952],\n",
              "       [1.        , 0.85714286],\n",
              "       [1.        , 0.66666667],\n",
              "       [1.        , 0.33333333],\n",
              "       [1.        , 0.28571429],\n",
              "       [1.        , 0.28571429],\n",
              "       [1.        , 0.57142857],\n",
              "       [1.        , 0.42857143],\n",
              "       [1.        , 0.04761905],\n",
              "       [1.        , 0.33333333],\n",
              "       [1.        , 0.38095238],\n",
              "       [1.        , 0.38095238],\n",
              "       [1.        , 0.61904762],\n",
              "       [1.        , 0.0952381 ],\n",
              "       [1.        , 0.38095238]])"
            ]
          },
          "execution_count": 57,
          "metadata": {},
          "output_type": "execute_result"
        }
      ],
      "source": [
        "x_train_bias"
      ]
    },
    {
      "cell_type": "markdown",
      "metadata": {
        "hidden": true,
        "id": "GOtS_8OSf9SC"
      },
      "source": [
        "### Classe com o modelo da rede"
      ]
    },
    {
      "cell_type": "code",
      "execution_count": null,
      "metadata": {
        "ExecuteTime": {
          "end_time": "2017-10-08T11:19:39.143879Z",
          "start_time": "2017-10-08T11:19:39.137134Z"
        },
        "hidden": true,
        "id": "aKLVIQUtf9SD"
      },
      "outputs": [],
      "source": [
        "class Net():\n",
        "    def __init__(self, n_in, n_out):\n",
        "        self.w = np.random.uniform(-0.1,0.1,(n_out,n_in)) #inicialização dos parâmetros\n",
        "\n",
        "    def forward(self, x_bias):\n",
        "        return x_bias.dot(self.w.T)"
      ]
    },
    {
      "cell_type": "markdown",
      "metadata": {
        "hidden": true,
        "id": "0j0hN9l_f9SH"
      },
      "source": [
        "### Criando a rede, instanciando o objeto model"
      ]
    },
    {
      "cell_type": "code",
      "execution_count": null,
      "metadata": {
        "ExecuteTime": {
          "end_time": "2017-10-08T11:19:39.151717Z",
          "start_time": "2017-10-08T11:19:39.146858Z"
        },
        "hidden": true,
        "id": "5o5Zkqn5f9SI"
      },
      "outputs": [],
      "source": [
        "model = Net(2,1) # duas entradas (1 + x0) e uma saída y_pred"
      ]
    },
    {
      "cell_type": "code",
      "execution_count": null,
      "metadata": {
        "colab": {
          "base_uri": "https://localhost:8080/"
        },
        "id": "icr6nsrW_NfX",
        "outputId": "227cef7b-be53-42aa-ad1c-e85e01367325"
      },
      "outputs": [
        {
          "data": {
            "text/plain": [
              "array([[-0.06169611,  0.02442175]])"
            ]
          },
          "execution_count": 62,
          "metadata": {},
          "output_type": "execute_result"
        }
      ],
      "source": [
        "model.w"
      ]
    },
    {
      "cell_type": "code",
      "execution_count": null,
      "metadata": {
        "colab": {
          "base_uri": "https://localhost:8080/"
        },
        "id": "uy4yY56V_kRo",
        "outputId": "5d37d9a9-8133-4dd3-f890-83c428eef303"
      },
      "outputs": [
        {
          "data": {
            "text/plain": [
              "array([[-0.03727436],\n",
              "       [-0.044252  ],\n",
              "       [-0.0384373 ],\n",
              "       [-0.05471847],\n",
              "       [-0.04308906],\n",
              "       [-0.05239258],\n",
              "       [-0.04541494],\n",
              "       [-0.06169611],\n",
              "       [-0.04192612],\n",
              "       [-0.05820729],\n",
              "       [-0.06053317],\n",
              "       [-0.0500667 ],\n",
              "       [-0.04890376],\n",
              "       [-0.04774082],\n",
              "       [-0.05355553],\n",
              "       [-0.04076318],\n",
              "       [-0.05355553],\n",
              "       [-0.05122964],\n",
              "       [-0.04657788],\n",
              "       [-0.05355553],\n",
              "       [-0.0500667 ],\n",
              "       [-0.04774082],\n",
              "       [-0.04541494],\n",
              "       [-0.04774082],\n",
              "       [-0.044252  ],\n",
              "       [-0.04192612],\n",
              "       [-0.03960024],\n",
              "       [-0.04076318],\n",
              "       [-0.04890376],\n",
              "       [-0.05239258],\n",
              "       [-0.05471847],\n",
              "       [-0.05471847],\n",
              "       [-0.05122964],\n",
              "       [-0.04890376],\n",
              "       [-0.05588141],\n",
              "       [-0.04890376],\n",
              "       [-0.04076318],\n",
              "       [-0.04541494],\n",
              "       [-0.05355553],\n",
              "       [-0.05471847],\n",
              "       [-0.05471847],\n",
              "       [-0.04774082],\n",
              "       [-0.05122964],\n",
              "       [-0.06053317],\n",
              "       [-0.05355553],\n",
              "       [-0.05239258],\n",
              "       [-0.05239258],\n",
              "       [-0.04657788],\n",
              "       [-0.05937023],\n",
              "       [-0.05239258]])"
            ]
          },
          "execution_count": 63,
          "metadata": {},
          "output_type": "execute_result"
        }
      ],
      "source": [
        "model.forward(x_train_bias)"
      ]
    },
    {
      "cell_type": "markdown",
      "metadata": {
        "hidden": true,
        "id": "F3yolUOGf9SL"
      },
      "source": [
        "### Testando o predict da rede (mesmo sem treiná-la)"
      ]
    },
    {
      "cell_type": "code",
      "execution_count": null,
      "metadata": {
        "ExecuteTime": {
          "end_time": "2017-10-08T11:19:39.162189Z",
          "start_time": "2017-10-08T11:19:39.156018Z"
        },
        "colab": {
          "base_uri": "https://localhost:8080/"
        },
        "hidden": true,
        "id": "BzkEurfof9SN",
        "outputId": "aaccde1e-a77e-46b6-a905-f8767b0a2922"
      },
      "outputs": [
        {
          "data": {
            "text/plain": [
              "array([[-0.09602795],\n",
              "       [ 0.0661236 ],\n",
              "       [-0.06857828],\n",
              "       [-0.05573871]])"
            ]
          },
          "execution_count": 64,
          "metadata": {},
          "output_type": "execute_result"
        }
      ],
      "source": [
        "xin = np.random.randn(4,2) # 4 amostras, 2 entradas (1 + x0)\n",
        "ypred = model.forward(xin)\n",
        "ypred"
      ]
    },
    {
      "cell_type": "markdown",
      "metadata": {
        "heading_collapsed": true,
        "id": "edoSiy--f9SS"
      },
      "source": [
        "## Treinamento via gradiente descendente"
      ]
    },
    {
      "cell_type": "markdown",
      "metadata": {
        "hidden": true,
        "id": "SnkXXFref9ST"
      },
      "source": [
        "Função de perda:\n",
        "$$ J(\\hat{y_i},y_i) = \\frac{1}{M} \\sum_{i=0}^{M-1} (\\hat{y_i} - y_i)^2 $$"
      ]
    },
    {
      "cell_type": "markdown",
      "metadata": {
        "ExecuteTime": {
          "end_time": "2017-10-05T14:05:06.244776",
          "start_time": "2017-10-05T14:05:06.240743"
        },
        "hidden": true,
        "id": "6W5QcPwUf9SU"
      },
      "source": [
        "Gradiente:\n",
        "$$  \\mathbf{\\nabla{J_w}} = \\frac{2}{M}\\mathbf{x^T}(\\mathbf{x w^T} - \\mathbf{y}) $$"
      ]
    },
    {
      "cell_type": "markdown",
      "metadata": {
        "ExecuteTime": {
          "end_time": "2017-10-05T14:06:17.929718",
          "start_time": "2017-10-05T14:06:17.925519"
        },
        "hidden": true,
        "id": "6OoQuuvAf9SU"
      },
      "source": [
        "Atualização dos parâmetros pelo gradiente descendente:\n",
        "$$ \\mathbf{w} = \\mathbf{w} − \\eta (\\mathbf{\\nabla J_w})^T $$"
      ]
    },
    {
      "cell_type": "markdown",
      "metadata": {
        "hidden": true,
        "id": "YM0fEnAdf9SW"
      },
      "source": [
        "### Laço de treinamento"
      ]
    },
    {
      "cell_type": "code",
      "execution_count": null,
      "metadata": {
        "ExecuteTime": {
          "end_time": "2017-10-08T11:19:39.183784Z",
          "start_time": "2017-10-08T11:19:39.165347Z"
        },
        "colab": {
          "base_uri": "https://localhost:8080/"
        },
        "hidden": true,
        "id": "BiCGgqp6f9SX",
        "outputId": "a1117e98-14b8-4705-b24a-9c71879eeed0",
        "scrolled": false
      },
      "outputs": [
        {
          "name": "stdout",
          "output_type": "stream",
          "text": [
            "0.46916299392848965\n",
            "[[-1.29929609]\n",
            " [-0.71938216]]\n",
            "[[-0.06169611  0.02442175]]\n",
            "[[0.58795193 0.38411284]]\n",
            "Epoch[1/100], loss: 0.469163\n",
            "0.05806978503728478\n",
            "[[0.3548952 ]\n",
            " [0.13927818]]\n",
            "[[0.58795193 0.38411284]]\n",
            "[[0.41050433 0.31447374]]\n",
            "Epoch[2/100], loss: 0.058070\n",
            "0.030542871208658035\n",
            "[[-0.06871057]\n",
            " [-0.07794694]]\n",
            "[[0.41050433 0.31447374]]\n",
            "[[0.44485962 0.35344721]]\n",
            "Epoch[3/100], loss: 0.030543\n",
            "0.028105420739894495\n",
            "[[ 0.03845382]\n",
            " [-0.02046415]]\n",
            "[[0.44485962 0.35344721]]\n",
            "[[0.42563271 0.36367929]]\n",
            "Epoch[4/100], loss: 0.028105\n",
            "0.027363927019010567\n",
            "[[ 0.01009565]\n",
            " [-0.03324256]]\n",
            "[[0.42563271 0.36367929]]\n",
            "[[0.42058488 0.38030057]]\n",
            "Epoch[5/100], loss: 0.027364\n",
            "0.026786724330353836\n",
            "[[ 0.01639966]\n",
            " [-0.02816438]]\n",
            "[[0.42058488 0.38030057]]\n",
            "[[0.41238505 0.39438276]]\n",
            "Epoch[6/100], loss: 0.026787\n",
            "0.026268944171237815\n",
            "[[ 0.01389443]\n",
            " [-0.02773276]]\n",
            "[[0.41238505 0.39438276]]\n",
            "[[0.40543784 0.40824913]]\n",
            "Epoch[7/100], loss: 0.026269\n",
            "0.025799259233654476\n",
            "[[ 0.01368149]\n",
            " [-0.02619582]]\n",
            "[[0.40543784 0.40824913]]\n",
            "[[0.39859709 0.42134705]]\n",
            "Epoch[8/100], loss: 0.025799\n",
            "0.02537285807398961\n",
            "[[ 0.01292327]\n",
            " [-0.0250189 ]]\n",
            "[[0.39859709 0.42134705]]\n",
            "[[0.39213546 0.43385649]]\n",
            "Epoch[9/100], loss: 0.025373\n",
            "0.024985729416175287\n",
            "[[ 0.01234266]\n",
            " [-0.02382403]]\n",
            "[[0.39213546 0.43385649]]\n",
            "[[0.38596413 0.44576851]]\n",
            "Epoch[10/100], loss: 0.024986\n",
            "0.024634254709223077\n",
            "[[ 0.01175319]\n",
            " [-0.02270428]]\n",
            "[[0.38596413 0.44576851]]\n",
            "[[0.38008754 0.45712065]]\n",
            "Epoch[11/100], loss: 0.024634\n",
            "0.024315150183763047\n",
            "[[ 0.01120078]\n",
            " [-0.02163255]]\n",
            "[[0.38008754 0.45712065]]\n",
            "[[0.37448715 0.46793692]]\n",
            "Epoch[12/100], loss: 0.024315\n",
            "0.024025434598693884\n",
            "[[ 0.01067206]\n",
            " [-0.02061258]]\n",
            "[[0.37448715 0.46793692]]\n",
            "[[0.36915112 0.47824321]]\n",
            "Epoch[13/100], loss: 0.024025\n",
            "0.023762401286205326\n",
            "[[ 0.01016887]\n",
            " [-0.0196404 ]]\n",
            "[[0.36915112 0.47824321]]\n",
            "[[0.36406668 0.48806341]]\n",
            "Epoch[14/100], loss: 0.023762\n",
            "0.02352359285803643\n",
            "[[ 0.00968926]\n",
            " [-0.01871415]]\n",
            "[[0.36406668 0.48806341]]\n",
            "[[0.35922205 0.49742049]]\n",
            "Epoch[15/100], loss: 0.023524\n",
            "0.023306778246893093\n",
            "[[ 0.00923232]\n",
            " [-0.01783157]]\n",
            "[[0.35922205 0.49742049]]\n",
            "[[0.35460589 0.50633627]]\n",
            "Epoch[16/100], loss: 0.023307\n",
            "0.02310993186267746\n",
            "[[ 0.00879691]\n",
            " [-0.01699061]]\n",
            "[[0.35460589 0.50633627]]\n",
            "[[0.35020744 0.51483158]]\n",
            "Epoch[17/100], loss: 0.023110\n",
            "0.022931214668414426\n",
            "[[ 0.00838203]\n",
            " [-0.01618931]]\n",
            "[[0.35020744 0.51483158]]\n",
            "[[0.34601642 0.52292624]]\n",
            "Epoch[18/100], loss: 0.022931\n",
            "0.02276895699905198\n",
            "[[ 0.00798673]\n",
            " [-0.01542581]]\n",
            "[[0.34601642 0.52292624]]\n",
            "[[0.34202306 0.53063914]]\n",
            "Epoch[19/100], loss: 0.022769\n",
            "0.02262164296261862\n",
            "[[ 0.00761006]\n",
            " [-0.01469831]]\n",
            "[[0.34202306 0.53063914]]\n",
            "[[0.33821802 0.53798829]]\n",
            "Epoch[20/100], loss: 0.022622\n",
            "0.022487896278005435\n",
            "[[ 0.00725117]\n",
            " [-0.01400512]]\n",
            "[[0.33821802 0.53798829]]\n",
            "[[0.33459244 0.54499085]]\n",
            "Epoch[21/100], loss: 0.022488\n",
            "0.022366467417062434\n",
            "[[ 0.00690919]\n",
            " [-0.01334462]]\n",
            "[[0.33459244 0.54499085]]\n",
            "[[0.33113785 0.55166316]]\n",
            "Epoch[22/100], loss: 0.022366\n",
            "0.022256221930884158\n",
            "[[ 0.00658335]\n",
            " [-0.01271527]]\n",
            "[[0.33113785 0.55166316]]\n",
            "[[0.32784617 0.5580208 ]]\n",
            "Epoch[23/100], loss: 0.022256\n",
            "0.022156129851222874\n",
            "[[ 0.00627287]\n",
            " [-0.01211561]]\n",
            "[[0.32784617 0.5580208 ]]\n",
            "[[0.32470974 0.5640786 ]]\n",
            "Epoch[24/100], loss: 0.022156\n",
            "0.02206525606801219\n",
            "[[ 0.00597703]\n",
            " [-0.01154422]]\n",
            "[[0.32470974 0.5640786 ]]\n",
            "[[0.32172122 0.56985071]]\n",
            "Epoch[25/100], loss: 0.022065\n",
            "0.021982751593103016\n",
            "[[ 0.00569515]\n",
            " [-0.01099978]]\n",
            "[[0.32172122 0.56985071]]\n",
            "[[0.31887365 0.5753506 ]]\n",
            "Epoch[26/100], loss: 0.021983\n",
            "0.021907845628593346\n",
            "[[ 0.00542656]\n",
            " [-0.01048102]]\n",
            "[[0.31887365 0.5753506 ]]\n",
            "[[0.31616037 0.58059111]]\n",
            "Epoch[27/100], loss: 0.021908\n",
            "0.02183983836565032\n",
            "[[ 0.00517064]\n",
            " [-0.00998672]]\n",
            "[[0.31616037 0.58059111]]\n",
            "[[0.31357505 0.58558447]]\n",
            "Epoch[28/100], loss: 0.021840\n",
            "0.021778094446547536\n",
            "[[ 0.00492678]\n",
            " [-0.00951574]]\n",
            "[[0.31357505 0.58558447]]\n",
            "[[0.31111166 0.59034234]]\n",
            "Epoch[29/100], loss: 0.021778\n",
            "0.02172203702883664\n",
            "[[ 0.00469443]\n",
            " [-0.00906696]]\n",
            "[[0.31111166 0.59034234]]\n",
            "[[0.30876444 0.59487582]]\n",
            "Epoch[30/100], loss: 0.021722\n",
            "0.02167114239619789\n",
            "[[ 0.00447303]\n",
            " [-0.00863935]]\n",
            "[[0.30876444 0.59487582]]\n",
            "[[0.30652793 0.5991955 ]]\n",
            "Epoch[31/100], loss: 0.021671\n",
            "0.021624935065621367\n",
            "[[ 0.00426208]\n",
            " [-0.00823191]]\n",
            "[[0.30652793 0.5991955 ]]\n",
            "[[0.30439689 0.60331146]]\n",
            "Epoch[32/100], loss: 0.021625\n",
            "0.02158298334520787\n",
            "[[ 0.00406108]\n",
            " [-0.00784369]]\n",
            "[[0.30439689 0.60331146]]\n",
            "[[0.30236635 0.6072333 ]]\n",
            "Epoch[33/100], loss: 0.021583\n",
            "0.021544895301088166\n",
            "[[ 0.00386955]\n",
            " [-0.00747377]]\n",
            "[[0.30236635 0.6072333 ]]\n",
            "[[0.30043157 0.61097018]]\n",
            "Epoch[34/100], loss: 0.021545\n",
            "0.021510315095781572\n",
            "[[ 0.00368706]\n",
            " [-0.0071213 ]]\n",
            "[[0.30043157 0.61097018]]\n",
            "[[0.29858804 0.61453083]]\n",
            "Epoch[35/100], loss: 0.021510\n",
            "0.02147891966378488\n",
            "[[ 0.00351317]\n",
            " [-0.00678545]]\n",
            "[[0.29858804 0.61453083]]\n",
            "[[0.29683146 0.61792355]]\n",
            "Epoch[36/100], loss: 0.021479\n",
            "0.021450415693333596\n",
            "[[ 0.00334749]\n",
            " [-0.00646544]]\n",
            "[[0.29683146 0.61792355]]\n",
            "[[0.29515771 0.62115627]]\n",
            "Epoch[37/100], loss: 0.021450\n",
            "0.021424536886137276\n",
            "[[ 0.00318962]\n",
            " [-0.00616052]]\n",
            "[[0.29515771 0.62115627]]\n",
            "[[0.2935629  0.62423653]]\n",
            "Epoch[38/100], loss: 0.021425\n",
            "0.021401041469488243\n",
            "[[ 0.00303919]\n",
            " [-0.00586998]]\n",
            "[[0.2935629  0.62423653]]\n",
            "[[0.29204331 0.62717153]]\n",
            "Epoch[39/100], loss: 0.021401\n",
            "0.021379709937500557\n",
            "[[ 0.00289586]\n",
            " [-0.00559315]]\n",
            "[[0.29204331 0.62717153]]\n",
            "[[0.29059538 0.6299681 ]]\n",
            "Epoch[40/100], loss: 0.021380\n",
            "0.021360343000376657\n",
            "[[ 0.00275929]\n",
            " [-0.00532937]]\n",
            "[[0.29059538 0.6299681 ]]\n",
            "[[0.28921574 0.63263278]]\n",
            "Epoch[41/100], loss: 0.021360\n",
            "0.021342759722542806\n",
            "[[ 0.00262916]\n",
            " [-0.00507803]]\n",
            "[[0.28921574 0.63263278]]\n",
            "[[0.28790116 0.6351718 ]]\n",
            "Epoch[42/100], loss: 0.021343\n",
            "0.021326795832258844\n",
            "[[ 0.00250516]\n",
            " [-0.00483854]]\n",
            "[[0.28790116 0.6351718 ]]\n",
            "[[0.28664858 0.63759107]]\n",
            "Epoch[43/100], loss: 0.021327\n",
            "0.02131230218690975\n",
            "[[ 0.00238701]\n",
            " [-0.00461035]]\n",
            "[[0.28664858 0.63759107]]\n",
            "[[0.28545507 0.63989625]]\n",
            "Epoch[44/100], loss: 0.021312\n",
            "0.02129914337964105\n",
            "[[ 0.00227444]\n",
            " [-0.00439292]]\n",
            "[[0.28545507 0.63989625]]\n",
            "[[0.28431785 0.64209271]]\n",
            "Epoch[45/100], loss: 0.021299\n",
            "0.021287196474320532\n",
            "[[ 0.00216718]\n",
            " [-0.00418575]]\n",
            "[[0.28431785 0.64209271]]\n",
            "[[0.28323426 0.64418558]]\n",
            "Epoch[46/100], loss: 0.021287\n",
            "0.02127634985700767\n",
            "[[ 0.00206497]\n",
            " [-0.00398834]]\n",
            "[[0.28323426 0.64418558]]\n",
            "[[0.28220178 0.64617975]]\n",
            "Epoch[47/100], loss: 0.021276\n",
            "0.021266502193200556\n",
            "[[ 0.00196758]\n",
            " [-0.00380025]]\n",
            "[[0.28220178 0.64617975]]\n",
            "[[0.28121799 0.64807988]]\n",
            "Epoch[48/100], loss: 0.021267\n",
            "0.02125756148111857\n",
            "[[ 0.00187479]\n",
            " [-0.00362102]]\n",
            "[[0.28121799 0.64807988]]\n",
            "[[0.28028059 0.64989039]]\n",
            "Epoch[49/100], loss: 0.021258\n",
            "0.021249444192175858\n",
            "[[ 0.00178637]\n",
            " [-0.00345025]]\n",
            "[[0.28028059 0.64989039]]\n",
            "[[0.27938741 0.65161551]]\n",
            "Epoch[50/100], loss: 0.021249\n",
            "0.021242074490615707\n",
            "[[ 0.00170212]\n",
            " [-0.00328753]]\n",
            "[[0.27938741 0.65161551]]\n",
            "[[0.27853635 0.65325928]]\n",
            "Epoch[51/100], loss: 0.021242\n",
            "0.021235383525015125\n",
            "[[ 0.00162185]\n",
            " [-0.00313249]]\n",
            "[[0.27853635 0.65325928]]\n",
            "[[0.27772542 0.65482553]]\n",
            "Epoch[52/100], loss: 0.021235\n",
            "0.021229308785040542\n",
            "[[ 0.00154536]\n",
            " [-0.00298476]]\n",
            "[[0.27772542 0.65482553]]\n",
            "[[0.27695274 0.6563179 ]]\n",
            "Epoch[53/100], loss: 0.021229\n",
            "0.021223793517445147\n",
            "[[ 0.00147248]\n",
            " [-0.00284399]]\n",
            "[[0.27695274 0.6563179 ]]\n",
            "[[0.2762165 0.6577399]]\n",
            "Epoch[54/100], loss: 0.021224\n",
            "0.02121878619585178\n",
            "[[ 0.00140304]\n",
            " [-0.00270987]]\n",
            "[[0.2762165 0.6577399]]\n",
            "[[0.27551498 0.65909484]]\n",
            "Epoch[55/100], loss: 0.021219\n",
            "0.02121424003936786\n",
            "[[ 0.00133687]\n",
            " [-0.00258207]]\n",
            "[[0.27551498 0.65909484]]\n",
            "[[0.27484655 0.66038587]]\n",
            "Epoch[56/100], loss: 0.021214\n",
            "0.021210112575534956\n",
            "[[ 0.00127382]\n",
            " [-0.00246029]]\n",
            "[[0.27484655 0.66038587]]\n",
            "[[0.27420964 0.66161602]]\n",
            "Epoch[57/100], loss: 0.021210\n",
            "0.021206365243529965\n",
            "[[ 0.00121374]\n",
            " [-0.00234426]]\n",
            "[[0.27420964 0.66161602]]\n",
            "[[0.27360277 0.66278815]]\n",
            "Epoch[58/100], loss: 0.021206\n",
            "0.021202963033910657\n",
            "[[ 0.0011565 ]\n",
            " [-0.00223371]]\n",
            "[[0.27360277 0.66278815]]\n",
            "[[0.27302451 0.663905  ]]\n",
            "Epoch[59/100], loss: 0.021203\n",
            "0.021199874161540046\n",
            "[[ 0.00110196]\n",
            " [-0.00212836]]\n",
            "[[0.27302451 0.663905  ]]\n",
            "[[0.27247353 0.66496918]]\n",
            "Epoch[60/100], loss: 0.021200\n",
            "0.021197069768633812\n",
            "[[ 0.00104999]\n",
            " [-0.00202798]]\n",
            "[[0.27247353 0.66496918]]\n",
            "[[0.27194854 0.66598317]]\n",
            "Epoch[61/100], loss: 0.021197\n",
            "0.021194523655156495\n",
            "[[ 0.00100047]\n",
            " [-0.00193234]]\n",
            "[[0.27194854 0.66598317]]\n",
            "[[0.2714483  0.66694934]]\n",
            "Epoch[62/100], loss: 0.021195\n",
            "0.021192212034047708\n",
            "[[ 0.00095329]\n",
            " [-0.00184121]]\n",
            "[[0.2714483  0.66694934]]\n",
            "[[0.27097166 0.66786995]]\n",
            "Epoch[63/100], loss: 0.021192\n",
            "0.02119011330899158\n",
            "[[ 0.00090833]\n",
            " [-0.00175438]]\n",
            "[[0.27097166 0.66786995]]\n",
            "[[0.27051749 0.66874714]]\n",
            "Epoch[64/100], loss: 0.021190\n",
            "0.021188207872653204\n",
            "[[ 0.00086549]\n",
            " [-0.00167164]]\n",
            "[[0.27051749 0.66874714]]\n",
            "[[0.27008475 0.66958296]]\n",
            "Epoch[65/100], loss: 0.021188\n",
            "0.021186477923497184\n",
            "[[ 0.00082468]\n",
            " [-0.0015928 ]]\n",
            "[[0.27008475 0.66958296]]\n",
            "[[0.26967241 0.67037936]]\n",
            "Epoch[66/100], loss: 0.021186\n",
            "0.021184907299476755\n",
            "[[ 0.00078578]\n",
            " [-0.00151768]]\n",
            "[[0.26967241 0.67037936]]\n",
            "[[0.26927952 0.6711382 ]]\n",
            "Epoch[67/100], loss: 0.021185\n",
            "0.021183481327039975\n",
            "[[ 0.00074872]\n",
            " [-0.00144611]]\n",
            "[[0.26927952 0.6711382 ]]\n",
            "[[0.26890515 0.67186126]]\n",
            "Epoch[68/100], loss: 0.021183\n",
            "0.02118218668404202\n",
            "[[ 0.00071341]\n",
            " [-0.00137791]]\n",
            "[[0.26890515 0.67186126]]\n",
            "[[0.26854845 0.67255021]]\n",
            "Epoch[69/100], loss: 0.021182\n",
            "0.021181011275283098\n",
            "[[ 0.00067977]\n",
            " [-0.00131292]]\n",
            "[[0.26854845 0.67255021]]\n",
            "[[0.26820856 0.67320667]]\n",
            "Epoch[70/100], loss: 0.021181\n",
            "0.021179944119509107\n",
            "[[ 0.00064771]\n",
            " [-0.00125101]]\n",
            "[[0.26820856 0.67320667]]\n",
            "[[0.26788471 0.67383217]]\n",
            "Epoch[71/100], loss: 0.021180\n",
            "0.021178975246819224\n",
            "[[ 0.00061716]\n",
            " [-0.00119201]]\n",
            "[[0.26788471 0.67383217]]\n",
            "[[0.26757613 0.67442818]]\n",
            "Epoch[72/100], loss: 0.021179\n",
            "0.02117809560552215\n",
            "[[ 0.00058806]\n",
            " [-0.00113579]]\n",
            "[[0.26757613 0.67442818]]\n",
            "[[0.2672821  0.67499607]]\n",
            "Epoch[73/100], loss: 0.021178\n",
            "0.02117729697757074\n",
            "[[ 0.00056032]\n",
            " [-0.00108222]]\n",
            "[[0.2672821  0.67499607]]\n",
            "[[0.26700194 0.67553719]]\n",
            "Epoch[74/100], loss: 0.021177\n",
            "0.021176571901784833\n",
            "[[ 0.0005339 ]\n",
            " [-0.00103119]]\n",
            "[[0.26700194 0.67553719]]\n",
            "[[0.26673499 0.67605278]]\n",
            "Epoch[75/100], loss: 0.021177\n",
            "0.021175913604145277\n",
            "[[ 0.00050872]\n",
            " [-0.00098255]]\n",
            "[[0.26673499 0.67605278]]\n",
            "[[0.26648063 0.67654405]]\n",
            "Epoch[76/100], loss: 0.021176\n",
            "0.0211753159345076\n",
            "[[ 0.00048473]\n",
            " [-0.00093622]]\n",
            "[[0.26648063 0.67654405]]\n",
            "[[0.26623827 0.67701216]]\n",
            "Epoch[77/100], loss: 0.021175\n",
            "0.021174773309144343\n",
            "[[ 0.00046187]\n",
            " [-0.00089206]]\n",
            "[[0.26623827 0.67701216]]\n",
            "[[0.26600733 0.67745819]]\n",
            "Epoch[78/100], loss: 0.021175\n",
            "0.021174280658579056\n",
            "[[ 0.00044008]\n",
            " [-0.00084999]]\n",
            "[[0.26600733 0.67745819]]\n",
            "[[0.26578729 0.67788319]]\n",
            "Epoch[79/100], loss: 0.021174\n",
            "0.021173833380224768\n",
            "[[ 0.00041933]\n",
            " [-0.00080991]]\n",
            "[[0.26578729 0.67788319]]\n",
            "[[0.26557763 0.67828814]]\n",
            "Epoch[80/100], loss: 0.021174\n",
            "0.021173427295384285\n",
            "[[ 0.00039955]\n",
            " [-0.00077171]]\n",
            "[[0.26557763 0.67828814]]\n",
            "[[0.26537785 0.678674  ]]\n",
            "Epoch[81/100], loss: 0.021173\n",
            "0.021173058610210765\n",
            "[[ 0.00038071]\n",
            " [-0.00073531]]\n",
            "[[0.26537785 0.678674  ]]\n",
            "[[0.26518749 0.67904165]]\n",
            "Epoch[82/100], loss: 0.021173\n",
            "0.02117272388026364\n",
            "[[ 0.00036276]\n",
            " [-0.00070064]]\n",
            "[[0.26518749 0.67904165]]\n",
            "[[0.26500612 0.67939197]]\n",
            "Epoch[83/100], loss: 0.021173\n",
            "0.02117241997832902\n",
            "[[ 0.00034565]\n",
            " [-0.00066759]]\n",
            "[[0.26500612 0.67939197]]\n",
            "[[0.26483329 0.67972577]]\n",
            "Epoch[84/100], loss: 0.021172\n",
            "0.021172144065203655\n",
            "[[ 0.00032935]\n",
            " [-0.00063611]]\n",
            "[[0.26483329 0.67972577]]\n",
            "[[0.26466862 0.68004382]]\n",
            "Epoch[85/100], loss: 0.021172\n",
            "0.02117189356316969\n",
            "[[ 0.00031381]\n",
            " [-0.00060611]]\n",
            "[[0.26466862 0.68004382]]\n",
            "[[0.26451171 0.68034688]]\n",
            "Epoch[86/100], loss: 0.021172\n",
            "0.021171666131912334\n",
            "[[ 0.00029901]\n",
            " [-0.00057752]]\n",
            "[[0.26451171 0.68034688]]\n",
            "[[0.26436221 0.68063564]]\n",
            "Epoch[87/100], loss: 0.021172\n",
            "0.0211714596466555\n",
            "[[ 0.00028491]\n",
            " [-0.00055029]]\n",
            "[[0.26436221 0.68063564]]\n",
            "[[0.26421975 0.68091078]]\n",
            "Epoch[88/100], loss: 0.021171\n",
            "0.021171272178311055\n",
            "[[ 0.00027148]\n",
            " [-0.00052434]]\n",
            "[[0.26421975 0.68091078]]\n",
            "[[0.26408401 0.68117295]]\n",
            "Epoch[89/100], loss: 0.021171\n",
            "0.021171101975456342\n",
            "[[ 0.00025867]\n",
            " [-0.00049961]]\n",
            "[[0.26408401 0.68117295]]\n",
            "[[0.26395468 0.68142276]]\n",
            "Epoch[90/100], loss: 0.021171\n",
            "0.021170947447971527\n",
            "[[ 0.00024647]\n",
            " [-0.00047605]]\n",
            "[[0.26395468 0.68142276]]\n",
            "[[0.26383144 0.68166078]]\n",
            "Epoch[91/100], loss: 0.021171\n",
            "0.021170807152183856\n",
            "[[ 0.00023485]\n",
            " [-0.00045359]]\n",
            "[[0.26383144 0.68166078]]\n",
            "[[0.26371402 0.68188758]]\n",
            "Epoch[92/100], loss: 0.021171\n",
            "0.0211706797773802\n",
            "[[ 0.00022377]\n",
            " [-0.0004322 ]]\n",
            "[[0.26371402 0.68188758]]\n",
            "[[0.26360213 0.68210368]]\n",
            "Epoch[93/100], loss: 0.021171\n",
            "0.0211705641335617\n",
            "[[ 0.00021322]\n",
            " [-0.00041182]]\n",
            "[[0.26360213 0.68210368]]\n",
            "[[0.26349552 0.68230959]]\n",
            "Epoch[94/100], loss: 0.021171\n",
            "0.021170459140326194\n",
            "[[ 0.00020316]\n",
            " [-0.0003924 ]]\n",
            "[[0.26349552 0.68230959]]\n",
            "[[0.26339394 0.68250578]]\n",
            "Epoch[95/100], loss: 0.021170\n",
            "0.021170363816774583\n",
            "[[ 0.00019358]\n",
            " [-0.00037389]]\n",
            "[[0.26339394 0.68250578]]\n",
            "[[0.26329715 0.68269273]]\n",
            "Epoch[96/100], loss: 0.021170\n",
            "0.02117027727234675\n",
            "[[ 0.00018445]\n",
            " [-0.00035626]]\n",
            "[[0.26329715 0.68269273]]\n",
            "[[0.26320492 0.68287086]]\n",
            "Epoch[97/100], loss: 0.021170\n",
            "0.021170198698501553\n",
            "[[ 0.00017575]\n",
            " [-0.00033946]]\n",
            "[[0.26320492 0.68287086]]\n",
            "[[0.26311704 0.68304059]]\n",
            "Epoch[98/100], loss: 0.021170\n",
            "0.021170127361162992\n",
            "[[ 0.00016747]\n",
            " [-0.00032345]]\n",
            "[[0.26311704 0.68304059]]\n",
            "[[0.26303331 0.68320231]]\n",
            "Epoch[99/100], loss: 0.021170\n",
            "0.021170062593862105\n",
            "[[ 0.00015957]\n",
            " [-0.00030819]]\n",
            "[[0.26303331 0.68320231]]\n",
            "[[0.26295353 0.68335641]]\n",
            "Epoch[100/100], loss: 0.021170\n"
          ]
        }
      ],
      "source": [
        "num_epochs = 100\n",
        "learning_rate = 0.5\n",
        "for epoch in range(num_epochs):\n",
        "\n",
        "    # forward - predict\n",
        "    y_pred = model.forward(x_train_bias)\n",
        "\n",
        "    #loss cálculo da função de perda\n",
        "    loss = np.square(y_pred - y_train).mean()\n",
        "    print(loss)\n",
        "\n",
        "    # cálculo do gradiente pelas derivadas parciais\n",
        "    w_grad = (2.0/n_samples) * (x_train_bias.T).dot(x_train_bias.dot(model.w.T) - y_train)\n",
        "    print(w_grad)\n",
        "\n",
        "    # gradiente descendente\n",
        "    print(model.w)\n",
        "    model.w = model.w - learning_rate * w_grad.T\n",
        "    print(model.w)\n",
        "\n",
        "    # verbose\n",
        "    if (epoch+1) % 1 == 0:\n",
        "        print('Epoch[{}/{}], loss: {:.6f}'\n",
        "              .format(epoch+1, num_epochs, loss))"
      ]
    },
    {
      "cell_type": "markdown",
      "metadata": {
        "heading_collapsed": true,
        "id": "1QGlDZABf9Sd"
      },
      "source": [
        "## Avaliação"
      ]
    },
    {
      "cell_type": "markdown",
      "metadata": {
        "hidden": true,
        "id": "6TIimlCmf9Si"
      },
      "source": [
        "### Predict"
      ]
    },
    {
      "cell_type": "code",
      "execution_count": null,
      "metadata": {
        "colab": {
          "base_uri": "https://localhost:8080/"
        },
        "id": "wuFbgBKoCgtP",
        "outputId": "d285faa3-0524-4efc-c8cf-1cffbf29b098"
      },
      "outputs": [
        {
          "data": {
            "text/plain": [
              "array([[0.26295353, 0.68335641]])"
            ]
          },
          "execution_count": 66,
          "metadata": {},
          "output_type": "execute_result"
        }
      ],
      "source": [
        "model.w"
      ]
    },
    {
      "cell_type": "code",
      "execution_count": null,
      "metadata": {
        "ExecuteTime": {
          "end_time": "2017-10-08T11:19:39.408412Z",
          "start_time": "2017-10-08T11:19:39.186021Z"
        },
        "colab": {
          "base_uri": "https://localhost:8080/",
          "height": 447
        },
        "hidden": true,
        "id": "ToXwbrlsf9Sk",
        "outputId": "9a433283-1f43-432b-ad3d-09134deee423"
      },
      "outputs": [
        {
          "data": {
            "text/plain": [
              "[<matplotlib.lines.Line2D at 0x7dd18ffa1de0>]"
            ]
          },
          "execution_count": 67,
          "metadata": {},
          "output_type": "execute_result"
        },
        {
          "data": {
            "image/png": "[encoded data removed]",
            "text/plain": [
              "<Figure size 640x480 with 1 Axes>"
            ]
          },
          "metadata": {},
          "output_type": "display_data"
        }
      ],
      "source": [
        "y_pred = model.forward(x_train_bias)\n",
        "plt.plot(x_train, y_train, 'ro', label='Original data')\n",
        "plt.plot(x_train, y_pred, 'kx-', label='Fitting Line')"
      ]
    },
    {
      "cell_type": "markdown",
      "metadata": {
        "hidden": true,
        "id": "kQ1hGdItf9So"
      },
      "source": [
        "### Parâmetros treinados"
      ]
    },
    {
      "cell_type": "code",
      "execution_count": null,
      "metadata": {
        "ExecuteTime": {
          "end_time": "2017-10-08T11:19:39.417569Z",
          "start_time": "2017-10-08T11:19:39.411060Z"
        },
        "colab": {
          "base_uri": "https://localhost:8080/"
        },
        "hidden": true,
        "id": "IcEOxTg9f9Sp",
        "outputId": "f48c6713-bd4f-430e-e9a5-42884deab93a"
      },
      "outputs": [
        {
          "name": "stdout",
          "output_type": "stream",
          "text": [
            "[[0.26295353 0.68335641]]\n"
          ]
        }
      ],
      "source": [
        "print(model.w)"
      ]
    },
    {
      "cell_type": "markdown",
      "metadata": {
        "hidden": true,
        "id": "73n0qSOMf9Sr"
      },
      "source": [
        "### Avaliação do modelo"
      ]
    },
    {
      "cell_type": "code",
      "execution_count": null,
      "metadata": {
        "colab": {
          "base_uri": "https://localhost:8080/"
        },
        "hidden": true,
        "id": "dI2TE8W6f9Ss",
        "outputId": "02065ca5-4cdd-4a18-e893-6e64fb1efe8b"
      },
      "outputs": [
        {
          "data": {
            "text/plain": [
              "0.02117000379151052"
            ]
          },
          "execution_count": 69,
          "metadata": {},
          "output_type": "execute_result"
        }
      ],
      "source": [
        "loss = np.square(y_pred - y_train).mean()\n",
        "loss"
      ]
    },
    {
      "cell_type": "markdown",
      "metadata": {
        "hidden": true,
        "id": "cv6q3ElSf9Sv"
      },
      "source": [
        "### Valor ótimo, solução analítica"
      ]
    },
    {
      "cell_type": "markdown",
      "metadata": {
        "hidden": true,
        "id": "qYgHOaNmf9Sv"
      },
      "source": [
        "$$  \\mathbf{w} =(\\mathbf{x^T} \\mathbf{x})^{−1}\\mathbf{x^T} \\mathbf{y} $$"
      ]
    },
    {
      "cell_type": "code",
      "execution_count": null,
      "metadata": {
        "ExecuteTime": {
          "end_time": "2017-10-08T11:19:39.432480Z",
          "start_time": "2017-10-08T11:19:39.420006Z"
        },
        "colab": {
          "base_uri": "https://localhost:8080/"
        },
        "hidden": true,
        "id": "OmrggYvmf9Sw",
        "outputId": "f59313fe-dfc6-4b5a-cf23-5bc8ec3157dc"
      },
      "outputs": [
        {
          "name": "stdout",
          "output_type": "stream",
          "text": [
            "[[0.26134159 0.68646976]]\n"
          ]
        }
      ],
      "source": [
        "x = x_train_bias\n",
        "y = y_train\n",
        "w_opt = (np.linalg.inv((x.T).dot(x)).dot(x.T)).dot(y)\n",
        "print(w_opt.T)"
      ]
    },
    {
      "cell_type": "markdown",
      "metadata": {
        "heading_collapsed": true,
        "id": "2eMOcW8Ff9Sz"
      },
      "source": [
        "# Exercícios"
      ]
    },
    {
      "cell_type": "markdown",
      "metadata": {
        "hidden": true,
        "id": "tCKeOB1-f9S1"
      },
      "source": [
        "## Questões"
      ]
    },
    {
      "cell_type": "markdown",
      "metadata": {
        "hidden": true,
        "id": "c-KyP13vf9S2"
      },
      "source": [
        "1. Quantos parâmetros são treinados nesse modelo?\n",
        "R.: 2, w0 e w1\n",
        "\n",
        "2. Qual é o número de atributos de entrada para a rede?\n",
        "R.: 2 (bias + x)\n",
        "\n",
        "3. Qual é o número de saídas da rede?\n",
        "R.: 1\n",
        "\n",
        "4. Suponha que eu tenha agora 5 mil amostras para fazer a predição. Qual é o shape da matriz de entrada?\n",
        "   Qual é o shape do matriz de saída?\n",
        "\n",
        "   R.: [5000, 2] ---> entrada\n",
        "        [5000, 1] ----> saída\n"
      ]
    },
    {
      "cell_type": "markdown",
      "metadata": {
        "hidden": true,
        "id": "oaj0t2gpf9S3"
      },
      "source": [
        "## Atividades"
      ]
    },
    {
      "cell_type": "markdown",
      "metadata": {
        "hidden": true,
        "id": "pR_fNYurf9S3"
      },
      "source": [
        "1. Modifique o laço do treinamento via gradiente descendente para guardar em uma lista, o valor da perda no final\n",
        "   de cada época. Após o treinamento, plote o valor da perda em função da época.\n",
        "2. Calcule o valor da perda (MSE) da rede com os parâmetros inicializados, sem serem treinados.\n",
        "3. Coloque os valores dos pesos da solução ótima analítica no modelo da rede e calcule o valor da perda (MSE) e\n",
        "   compare com o valor da perda obtida pelo método da otimização via gradiente descendente."
      ]
    },
    {
      "cell_type": "code",
      "execution_count": null,
      "metadata": {
        "colab": {
          "base_uri": "https://localhost:8080/"
        },
        "id": "6nahs-thEKQ9",
        "outputId": "abcbbb3a-712c-45b1-bf71-bcfa08cf5a89"
      },
      "outputs": [
        {
          "name": "stdout",
          "output_type": "stream",
          "text": [
            "Epoch[1/100], loss: 0.432375\n",
            "Epoch[2/100], loss: 0.056651\n",
            "Epoch[3/100], loss: 0.031341\n",
            "Epoch[4/100], loss: 0.028966\n",
            "Epoch[5/100], loss: 0.028154\n",
            "Epoch[6/100], loss: 0.027505\n",
            "Epoch[7/100], loss: 0.026921\n",
            "Epoch[8/100], loss: 0.026391\n",
            "Epoch[9/100], loss: 0.025910\n",
            "Epoch[10/100], loss: 0.025474\n",
            "Epoch[11/100], loss: 0.025077\n",
            "Epoch[12/100], loss: 0.024717\n",
            "Epoch[13/100], loss: 0.024391\n",
            "Epoch[14/100], loss: 0.024094\n",
            "Epoch[15/100], loss: 0.023825\n",
            "Epoch[16/100], loss: 0.023580\n",
            "Epoch[17/100], loss: 0.023358\n",
            "Epoch[18/100], loss: 0.023157\n",
            "Epoch[19/100], loss: 0.022974\n",
            "Epoch[20/100], loss: 0.022807\n",
            "Epoch[21/100], loss: 0.022657\n",
            "Epoch[22/100], loss: 0.022520\n",
            "Epoch[23/100], loss: 0.022395\n",
            "Epoch[24/100], loss: 0.022282\n",
            "Epoch[25/100], loss: 0.022180\n",
            "Epoch[26/100], loss: 0.022087\n",
            "Epoch[27/100], loss: 0.022002\n",
            "Epoch[28/100], loss: 0.021926\n",
            "Epoch[29/100], loss: 0.021856\n",
            "Epoch[30/100], loss: 0.021793\n",
            "Epoch[31/100], loss: 0.021735\n",
            "Epoch[32/100], loss: 0.021683\n",
            "Epoch[33/100], loss: 0.021636\n",
            "Epoch[34/100], loss: 0.021593\n",
            "Epoch[35/100], loss: 0.021554\n",
            "Epoch[36/100], loss: 0.021519\n",
            "Epoch[37/100], loss: 0.021486\n",
            "Epoch[38/100], loss: 0.021457\n",
            "Epoch[39/100], loss: 0.021431\n",
            "Epoch[40/100], loss: 0.021407\n",
            "Epoch[41/100], loss: 0.021385\n",
            "Epoch[42/100], loss: 0.021365\n",
            "Epoch[43/100], loss: 0.021347\n",
            "Epoch[44/100], loss: 0.021331\n",
            "Epoch[45/100], loss: 0.021316\n",
            "Epoch[46/100], loss: 0.021302\n",
            "Epoch[47/100], loss: 0.021290\n",
            "Epoch[48/100], loss: 0.021279\n",
            "Epoch[49/100], loss: 0.021269\n",
            "Epoch[50/100], loss: 0.021260\n",
            "Epoch[51/100], loss: 0.021251\n",
            "Epoch[52/100], loss: 0.021244\n",
            "Epoch[53/100], loss: 0.021237\n",
            "Epoch[54/100], loss: 0.021231\n",
            "Epoch[55/100], loss: 0.021225\n",
            "Epoch[56/100], loss: 0.021220\n",
            "Epoch[57/100], loss: 0.021215\n",
            "Epoch[58/100], loss: 0.021211\n",
            "Epoch[59/100], loss: 0.021207\n",
            "Epoch[60/100], loss: 0.021204\n",
            "Epoch[61/100], loss: 0.021201\n",
            "Epoch[62/100], loss: 0.021198\n",
            "Epoch[63/100], loss: 0.021195\n",
            "Epoch[64/100], loss: 0.021193\n",
            "Epoch[65/100], loss: 0.021191\n",
            "Epoch[66/100], loss: 0.021189\n",
            "Epoch[67/100], loss: 0.021187\n",
            "Epoch[68/100], loss: 0.021185\n",
            "Epoch[69/100], loss: 0.021184\n",
            "Epoch[70/100], loss: 0.021182\n",
            "Epoch[71/100], loss: 0.021181\n",
            "Epoch[72/100], loss: 0.021180\n",
            "Epoch[73/100], loss: 0.021179\n",
            "Epoch[74/100], loss: 0.021178\n",
            "Epoch[75/100], loss: 0.021177\n",
            "Epoch[76/100], loss: 0.021177\n",
            "Epoch[77/100], loss: 0.021176\n",
            "Epoch[78/100], loss: 0.021175\n",
            "Epoch[79/100], loss: 0.021175\n",
            "Epoch[80/100], loss: 0.021174\n",
            "Epoch[81/100], loss: 0.021174\n",
            "Epoch[82/100], loss: 0.021174\n",
            "Epoch[83/100], loss: 0.021173\n",
            "Epoch[84/100], loss: 0.021173\n",
            "Epoch[85/100], loss: 0.021172\n",
            "Epoch[86/100], loss: 0.021172\n",
            "Epoch[87/100], loss: 0.021172\n",
            "Epoch[88/100], loss: 0.021172\n",
            "Epoch[89/100], loss: 0.021172\n",
            "Epoch[90/100], loss: 0.021171\n",
            "Epoch[91/100], loss: 0.021171\n",
            "Epoch[92/100], loss: 0.021171\n",
            "Epoch[93/100], loss: 0.021171\n",
            "Epoch[94/100], loss: 0.021171\n",
            "Epoch[95/100], loss: 0.021171\n",
            "Epoch[96/100], loss: 0.021170\n",
            "Epoch[97/100], loss: 0.021170\n",
            "Epoch[98/100], loss: 0.021170\n",
            "Epoch[99/100], loss: 0.021170\n",
            "Epoch[100/100], loss: 0.021170\n"
          ]
        }
      ],
      "source": [
        "# QUESTÃO 1\n",
        "\n",
        "model = Net(2,1) # instanciar rede\n",
        "\n",
        "perdas = []\n",
        "num_epochs = 100\n",
        "learning_rate = 0.5\n",
        "\n",
        "for epoch in range(num_epochs):\n",
        "\n",
        "    # forward - predict\n",
        "    y_pred = model.forward(x_train_bias)\n",
        "\n",
        "    #loss cálculo da função de perda\n",
        "    loss = np.square(y_pred - y_train).mean()\n",
        "    perdas.append(loss)\n",
        "\n",
        "\n",
        "    # cálculo do gradiente pelas derivadas parciais\n",
        "    w_grad = (2.0/n_samples) * (x_train_bias.T).dot(x_train_bias.dot(model.w.T) - y_train)\n",
        "\n",
        "\n",
        "    # gradiente descendente\n",
        "    model.w = model.w - learning_rate * w_grad.T\n",
        "\n",
        "\n",
        "    # verbose\n",
        "    if (epoch+1) % 1 == 0:\n",
        "        print('Epoch[{}/{}], loss: {:.6f}'\n",
        "              .format(epoch+1, num_epochs, loss))\n"
      ]
    },
    {
      "cell_type": "code",
      "execution_count": null,
      "metadata": {
        "colab": {
          "base_uri": "https://localhost:8080/"
        },
        "id": "pmUwVQYzGvMO",
        "outputId": "a6ced3e8-e467-4054-c50e-06ccdc32110a"
      },
      "outputs": [
        {
          "data": {
            "text/plain": [
              "[0.3854640432804148,\n",
              " 0.05832845935512007,\n",
              " 0.03575231676891537,\n",
              " 0.033159635222976526,\n",
              " 0.03197383167716231,\n",
              " 0.030973446670430557,\n",
              " 0.030070167209754944,\n",
              " 0.029250402501347604,\n",
              " 0.028506157777577007,\n",
              " 0.02783045800475593,\n",
              " 0.027216989028363475,\n",
              " 0.026660019422300733,\n",
              " 0.026154345692978826,\n",
              " 0.02569524358413329,\n",
              " 0.02527842393514792,\n",
              " 0.02489999260923265,\n",
              " 0.02455641411243521,\n",
              " 0.024244478563294064,\n",
              " 0.02396127170452678,\n",
              " 0.023704147676586837,\n",
              " 0.023470704298725744,\n",
              " 0.023258760626623957,\n",
              " 0.02306633657692262,\n",
              " 0.02289163442829853,\n",
              " 0.02273302202625603,\n",
              " 0.022589017534726703,\n",
              " 0.022458275592018708,\n",
              " 0.022339574741777658,\n",
              " 0.022231806021532942,\n",
              " 0.02213396260221794,\n",
              " 0.0220451303818713,\n",
              " 0.021964479445641172,\n",
              " 0.02189125631230718,\n",
              " 0.02182477689488356,\n",
              " 0.021764420109537812,\n",
              " 0.02170962207311611,\n",
              " 0.02165987083506602,\n",
              " 0.021614701594539442,\n",
              " 0.021573692357991513,\n",
              " 0.021536459996706753,\n",
              " 0.02150265666741973,\n",
              " 0.02147196656259003,\n",
              " 0.021444102959970866,\n",
              " 0.021418805543907068,\n",
              " 0.021395837973336534,\n",
              " 0.021374985673774317,\n",
              " 0.02135605383265089,\n",
              " 0.02133886557927608,\n",
              " 0.021323260332424997,\n",
              " 0.021309092300108218,\n",
              " 0.02129622911751041,\n",
              " 0.021284550610372314,\n",
              " 0.02127394767226289,\n",
              " 0.02126432124525275,\n",
              " 0.021255581394465626,\n",
              " 0.021247646467861935,\n",
              " 0.02124044233340477,\n",
              " 0.02123390168648151,\n",
              " 0.02122796342111052,\n",
              " 0.021222572059058732,\n",
              " 0.021217677231536287,\n",
              " 0.021213233208626246,\n",
              " 0.02120919847205291,\n",
              " 0.02120553532729743,\n",
              " 0.021202209551436778,\n",
              " 0.021199190073416238,\n",
              " 0.021196448683768052,\n",
              " 0.021193959771064596,\n",
              " 0.02119170008264359,\n",
              " 0.021189648507370217,\n",
              " 0.02118778587840632,\n",
              " 0.021186094794144315,\n",
              " 0.021184559455632655,\n",
              " 0.021183165518974166,\n",
              " 0.02118189996131825,\n",
              " 0.021180750959194864,\n",
              " 0.02117970777805383,\n",
              " 0.021178760671977305,\n",
              " 0.02117790079262854,\n",
              " 0.021177120106586327,\n",
              " 0.021176411320292788,\n",
              " 0.021175767811913316,\n",
              " 0.021175183569472063,\n",
              " 0.021174653134685136,\n",
              " 0.021174171551966527,\n",
              " 0.021173734322130586,\n",
              " 0.021173337360358396,\n",
              " 0.021172976958035345,\n",
              " 0.02117264974810341,\n",
              " 0.02117235267360441,\n",
              " 0.021172082959120396,\n",
              " 0.02117183808484431,\n",
              " 0.02117161576303869,\n",
              " 0.021171413916662475,\n",
              " 0.02117123065996629,\n",
              " 0.021171064280874768,\n",
              " 0.021170913224991584,\n",
              " 0.021170776081077425,\n",
              " 0.02117065156786553,\n",
              " 0.02117053852209145]"
            ]
          },
          "execution_count": 41,
          "metadata": {},
          "output_type": "execute_result"
        }
      ],
      "source": [
        "perdas"
      ]
    },
    {
      "cell_type": "code",
      "execution_count": null,
      "metadata": {
        "colab": {
          "base_uri": "https://localhost:8080/"
        },
        "id": "uZYPyanZEllL",
        "outputId": "77a9123e-9516-4f6b-ca22-8d85088dfaa7"
      },
      "outputs": [
        {
          "data": {
            "text/plain": [
              "0.02117014425438359"
            ]
          },
          "execution_count": 73,
          "metadata": {},
          "output_type": "execute_result"
        }
      ],
      "source": [
        "# QUESTÃO 2\n",
        "model = Net(2,1) # inicialiar rede\n",
        "model.w\n",
        "\n",
        "pred = model.forward(x_train_bias)\n",
        "\n",
        "loss = np.square(y_pred - y_train).mean() # errado, ao invés de y_pred, deve usar a variável pred\n",
        "loss = np.square(pred - y_train).mean() # --> Correto\n",
        "loss"
      ]
    },
    {
      "cell_type": "code",
      "execution_count": null,
      "metadata": {
        "colab": {
          "base_uri": "https://localhost:8080/"
        },
        "id": "T-ds9dcKHazT",
        "outputId": "6a1880b9-39ff-452a-ce4f-2ca18dfd5da6"
      },
      "outputs": [
        {
          "name": "stdout",
          "output_type": "stream",
          "text": [
            "[[0.26134159 0.68646976]]\n"
          ]
        },
        {
          "data": {
            "text/plain": [
              "0.021169424119097165"
            ]
          },
          "execution_count": 74,
          "metadata": {},
          "output_type": "execute_result"
        }
      ],
      "source": [
        "# QUESTÃO 3\n",
        "\n",
        "# solução ótima\n",
        "x = x_train_bias\n",
        "y = y_train\n",
        "w_opt = (np.linalg.inv((x.T).dot(x)).dot(x.T)).dot(y)\n",
        "print(w_opt.T)\n",
        "\n",
        "model.w = w_opt.T\n",
        "\n",
        "pred = model.forward(x_train_bias)\n",
        "\n",
        "loss = np.square(pred - y_train).mean()\n",
        "loss\n"
      ]
    },
    {
      "cell_type": "code",
      "execution_count": null,
      "metadata": {
        "id": "Dse84klgIE70"
      },
      "outputs": [],
      "source": [
        "# Epoch[100/100], loss: 0.021171"
      ]
    },
    {
      "cell_type": "markdown",
      "metadata": {
        "collapsed": true,
        "id": "tgmMhSm2f9S4"
      },
      "source": [
        "# Aprendizados"
      ]
    }
  ],
  "metadata": {
    "accelerator": "TPU",
    "colab": {
      "provenance": []
    },
    "kernelspec": {
      "display_name": "Python 3.10.2 64-bit",
      "language": "python",
      "name": "python3"
    },
    "language_info": {
      "name": "python",
      "version": "3.10.2"
    },
    "vscode": {
      "interpreter": {
        "hash": "5fe3e6f0cdaab8afdc61c52912fda83f7c0a71baaea1897dd7498e2df01e69ec"
      }
    }
  },
  "nbformat": 4,
  "nbformat_minor": 0
}
